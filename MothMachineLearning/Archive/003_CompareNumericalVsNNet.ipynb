{
 "cells": [
  {
   "cell_type": "markdown",
   "metadata": {},
   "source": [
    "# Callin Switzer\n",
    "## Compare NNet preds with Jorge's solutions\n",
    "## 2 Sept 2018"
   ]
  },
  {
   "cell_type": "code",
   "execution_count": 1,
   "metadata": {},
   "outputs": [
    {
     "name": "stdout",
     "output_type": "stream",
     "text": [
      "3.6.4 |Anaconda custom (64-bit)| (default, Jan 16 2018, 10:22:32) [MSC v.1900 64 bit (AMD64)] \n",
      "\n",
      "last run on 2018-10-04 15:10:40.513462\n"
     ]
    }
   ],
   "source": [
    "import numpy as np\n",
    "from matplotlib import pyplot as plt\n",
    "%matplotlib inline\n",
    "\n",
    "import os\n",
    "import pandas as pd\n",
    "import time\n",
    "from datetime import datetime\n",
    "import sys\n",
    "import csv\n",
    "import seaborn as sns\n",
    "import scipy.io\n",
    "import subprocess\n",
    "import csv\n",
    "\n",
    "print(sys.version, \"\\n\")\n",
    "\n",
    "now = datetime.now()\n",
    "print(\"last run on \" + str(now))\n",
    "\n",
    "#%qtconsole\n",
    "\n",
    "# define directories\n",
    "baseDir = os.getcwd()\n",
    "dataDir = r'D:\\MothSimulations\\11c-AggressiveManeuver\\Qstore\\hws_am_con'\n",
    "figDir = r'D:\\Dropbox\\mothMachineLearning_dataAndFigs\\Figs'\n",
    "dataOutput = r'D:\\Dropbox\\mothMachineLearning_dataAndFigs\\DataOutput'\n",
    "savedModels = r'D:\\Dropbox\\mothMachineLearning_dataAndFigs\\savedModels'\n",
    "if not os.path.exists(dataOutput):\n",
    "    os.mkdir(dataOutput)\n"
   ]
  },
  {
   "cell_type": "code",
   "execution_count": 2,
   "metadata": {},
   "outputs": [],
   "source": [
    "# check to make sure it aligns with my original dataset\n",
    "orDat= pd.read_csv(os.path.join(dataOutput, \"NNpreds.csv\"))"
   ]
  },
  {
   "cell_type": "code",
   "execution_count": 3,
   "metadata": {},
   "outputs": [
    {
     "data": {
      "text/html": [
       "<div>\n",
       "<style scoped>\n",
       "    .dataframe tbody tr th:only-of-type {\n",
       "        vertical-align: middle;\n",
       "    }\n",
       "\n",
       "    .dataframe tbody tr th {\n",
       "        vertical-align: top;\n",
       "    }\n",
       "\n",
       "    .dataframe thead th {\n",
       "        text-align: right;\n",
       "    }\n",
       "</style>\n",
       "<table border=\"1\" class=\"dataframe\">\n",
       "  <thead>\n",
       "    <tr style=\"text-align: right;\">\n",
       "      <th></th>\n",
       "      <th>x_0</th>\n",
       "      <th>y_0</th>\n",
       "      <th>phi_0</th>\n",
       "      <th>theta_0</th>\n",
       "      <th>x_dot_0</th>\n",
       "      <th>y_dot_0</th>\n",
       "      <th>phi_dot_0</th>\n",
       "      <th>theta_dot_0</th>\n",
       "      <th>F_pred</th>\n",
       "      <th>alpha_pred</th>\n",
       "      <th>tau_pred</th>\n",
       "      <th>x_99</th>\n",
       "      <th>y_99</th>\n",
       "      <th>phi_99</th>\n",
       "      <th>theta_99</th>\n",
       "      <th>x_dot_99_pred</th>\n",
       "      <th>y_dot_99_pred</th>\n",
       "      <th>phi_dot_99_pred</th>\n",
       "      <th>theta_dot_99_pred</th>\n",
       "    </tr>\n",
       "  </thead>\n",
       "  <tbody>\n",
       "    <tr>\n",
       "      <th>0</th>\n",
       "      <td>0.262194</td>\n",
       "      <td>-9.544672</td>\n",
       "      <td>5.224991</td>\n",
       "      <td>0.777590</td>\n",
       "      <td>-46.852167</td>\n",
       "      <td>-0.677334</td>\n",
       "      <td>-0.296395</td>\n",
       "      <td>-0.268426</td>\n",
       "      <td>36046.0040</td>\n",
       "      <td>3.557195</td>\n",
       "      <td>86448.84</td>\n",
       "      <td>-2.649455</td>\n",
       "      <td>-16.019851</td>\n",
       "      <td>5.293197</td>\n",
       "      <td>0.969371</td>\n",
       "      <td>-227.155460</td>\n",
       "      <td>-651.43800</td>\n",
       "      <td>7.388257</td>\n",
       "      <td>13.609400</td>\n",
       "    </tr>\n",
       "    <tr>\n",
       "      <th>1</th>\n",
       "      <td>0.075806</td>\n",
       "      <td>7.723757</td>\n",
       "      <td>4.110861</td>\n",
       "      <td>0.778734</td>\n",
       "      <td>340.169458</td>\n",
       "      <td>81.327298</td>\n",
       "      <td>-1.458512</td>\n",
       "      <td>-1.615854</td>\n",
       "      <td>29249.3800</td>\n",
       "      <td>5.195285</td>\n",
       "      <td>-17680.14</td>\n",
       "      <td>11.802986</td>\n",
       "      <td>7.446455</td>\n",
       "      <td>4.030211</td>\n",
       "      <td>0.675778</td>\n",
       "      <td>834.259160</td>\n",
       "      <td>-118.34230</td>\n",
       "      <td>-6.747110</td>\n",
       "      <td>-7.881252</td>\n",
       "    </tr>\n",
       "    <tr>\n",
       "      <th>2</th>\n",
       "      <td>-0.067851</td>\n",
       "      <td>-9.288991</td>\n",
       "      <td>3.995672</td>\n",
       "      <td>0.781264</td>\n",
       "      <td>69.075129</td>\n",
       "      <td>233.945205</td>\n",
       "      <td>-0.271714</td>\n",
       "      <td>3.114568</td>\n",
       "      <td>9240.1290</td>\n",
       "      <td>4.872288</td>\n",
       "      <td>48568.76</td>\n",
       "      <td>2.685157</td>\n",
       "      <td>-5.772373</td>\n",
       "      <td>3.973297</td>\n",
       "      <td>0.828877</td>\n",
       "      <td>205.397450</td>\n",
       "      <td>119.78773</td>\n",
       "      <td>-1.961641</td>\n",
       "      <td>1.506449</td>\n",
       "    </tr>\n",
       "    <tr>\n",
       "      <th>3</th>\n",
       "      <td>-0.278383</td>\n",
       "      <td>5.935364</td>\n",
       "      <td>4.131035</td>\n",
       "      <td>0.793421</td>\n",
       "      <td>4.855971</td>\n",
       "      <td>-160.095031</td>\n",
       "      <td>0.493889</td>\n",
       "      <td>-0.485404</td>\n",
       "      <td>38036.5660</td>\n",
       "      <td>3.449874</td>\n",
       "      <td>-25356.29</td>\n",
       "      <td>-3.346734</td>\n",
       "      <td>-3.568742</td>\n",
       "      <td>4.140354</td>\n",
       "      <td>0.767586</td>\n",
       "      <td>-316.916300</td>\n",
       "      <td>-788.68823</td>\n",
       "      <td>0.443989</td>\n",
       "      <td>-1.335863</td>\n",
       "    </tr>\n",
       "    <tr>\n",
       "      <th>4</th>\n",
       "      <td>-0.790712</td>\n",
       "      <td>6.862221</td>\n",
       "      <td>3.998543</td>\n",
       "      <td>0.788970</td>\n",
       "      <td>21.196818</td>\n",
       "      <td>221.980546</td>\n",
       "      <td>1.761272</td>\n",
       "      <td>1.654365</td>\n",
       "      <td>7563.6387</td>\n",
       "      <td>4.037069</td>\n",
       "      <td>35999.10</td>\n",
       "      <td>-0.126487</td>\n",
       "      <td>9.712942</td>\n",
       "      <td>4.020153</td>\n",
       "      <td>0.862082</td>\n",
       "      <td>45.035244</td>\n",
       "      <td>66.17256</td>\n",
       "      <td>0.558920</td>\n",
       "      <td>3.127698</td>\n",
       "    </tr>\n",
       "  </tbody>\n",
       "</table>\n",
       "</div>"
      ],
      "text/plain": [
       "        x_0       y_0     phi_0   theta_0     x_dot_0     y_dot_0  phi_dot_0  \\\n",
       "0  0.262194 -9.544672  5.224991  0.777590  -46.852167   -0.677334  -0.296395   \n",
       "1  0.075806  7.723757  4.110861  0.778734  340.169458   81.327298  -1.458512   \n",
       "2 -0.067851 -9.288991  3.995672  0.781264   69.075129  233.945205  -0.271714   \n",
       "3 -0.278383  5.935364  4.131035  0.793421    4.855971 -160.095031   0.493889   \n",
       "4 -0.790712  6.862221  3.998543  0.788970   21.196818  221.980546   1.761272   \n",
       "\n",
       "   theta_dot_0      F_pred  alpha_pred  tau_pred       x_99       y_99  \\\n",
       "0    -0.268426  36046.0040    3.557195  86448.84  -2.649455 -16.019851   \n",
       "1    -1.615854  29249.3800    5.195285 -17680.14  11.802986   7.446455   \n",
       "2     3.114568   9240.1290    4.872288  48568.76   2.685157  -5.772373   \n",
       "3    -0.485404  38036.5660    3.449874 -25356.29  -3.346734  -3.568742   \n",
       "4     1.654365   7563.6387    4.037069  35999.10  -0.126487   9.712942   \n",
       "\n",
       "     phi_99  theta_99  x_dot_99_pred  y_dot_99_pred  phi_dot_99_pred  \\\n",
       "0  5.293197  0.969371    -227.155460     -651.43800         7.388257   \n",
       "1  4.030211  0.675778     834.259160     -118.34230        -6.747110   \n",
       "2  3.973297  0.828877     205.397450      119.78773        -1.961641   \n",
       "3  4.140354  0.767586    -316.916300     -788.68823         0.443989   \n",
       "4  4.020153  0.862082      45.035244       66.17256         0.558920   \n",
       "\n",
       "   theta_dot_99_pred  \n",
       "0          13.609400  \n",
       "1          -7.881252  \n",
       "2           1.506449  \n",
       "3          -1.335863  \n",
       "4           3.127698  "
      ]
     },
     "execution_count": 3,
     "metadata": {},
     "output_type": "execute_result"
    }
   ],
   "source": [
    "orDat.head()"
   ]
  },
  {
   "cell_type": "code",
   "execution_count": 4,
   "metadata": {},
   "outputs": [],
   "source": [
    "# read in data\n",
    "predWSim = pd.read_csv(os.path.join(dataOutput, \"NNpreds_output_all_w_sim.csv\") )"
   ]
  },
  {
   "cell_type": "code",
   "execution_count": 5,
   "metadata": {},
   "outputs": [],
   "source": [
    "# remove empty column\n",
    "predWSim.dropna(axis = 1, inplace= True)"
   ]
  },
  {
   "cell_type": "code",
   "execution_count": 6,
   "metadata": {},
   "outputs": [
    {
     "data": {
      "text/html": [
       "<div>\n",
       "<style scoped>\n",
       "    .dataframe tbody tr th:only-of-type {\n",
       "        vertical-align: middle;\n",
       "    }\n",
       "\n",
       "    .dataframe tbody tr th {\n",
       "        vertical-align: top;\n",
       "    }\n",
       "\n",
       "    .dataframe thead th {\n",
       "        text-align: right;\n",
       "    }\n",
       "</style>\n",
       "<table border=\"1\" class=\"dataframe\">\n",
       "  <thead>\n",
       "    <tr style=\"text-align: right;\">\n",
       "      <th></th>\n",
       "      <th>x_0</th>\n",
       "      <th>y_0</th>\n",
       "      <th>phi_0</th>\n",
       "      <th>theta_0</th>\n",
       "      <th>x_dot_0</th>\n",
       "      <th>y_dot_0</th>\n",
       "      <th>phi_dot_0</th>\n",
       "      <th>theta_dot_0</th>\n",
       "      <th>F_pred</th>\n",
       "      <th>alpha_pred</th>\n",
       "      <th>...</th>\n",
       "      <th>phi_dot_99_pred</th>\n",
       "      <th>theta_dot_99_pred</th>\n",
       "      <th>x_a</th>\n",
       "      <th>y_a</th>\n",
       "      <th>phi_a</th>\n",
       "      <th>theta_a</th>\n",
       "      <th>x_dot_a</th>\n",
       "      <th>y_dot_a</th>\n",
       "      <th>phi_dot_a</th>\n",
       "      <th>theta_dot_a</th>\n",
       "    </tr>\n",
       "  </thead>\n",
       "  <tbody>\n",
       "    <tr>\n",
       "      <th>0</th>\n",
       "      <td>0.262190</td>\n",
       "      <td>-9.5447</td>\n",
       "      <td>5.2250</td>\n",
       "      <td>0.77759</td>\n",
       "      <td>-46.852</td>\n",
       "      <td>-0.67733</td>\n",
       "      <td>-0.29639</td>\n",
       "      <td>-0.26843</td>\n",
       "      <td>36046.0</td>\n",
       "      <td>3.5572</td>\n",
       "      <td>...</td>\n",
       "      <td>7.38830</td>\n",
       "      <td>13.6090</td>\n",
       "      <td>-2.6685</td>\n",
       "      <td>-16.0590</td>\n",
       "      <td>5.2938</td>\n",
       "      <td>0.96960</td>\n",
       "      <td>-229.060</td>\n",
       "      <td>-652.580</td>\n",
       "      <td>7.36040</td>\n",
       "      <td>13.5230</td>\n",
       "    </tr>\n",
       "    <tr>\n",
       "      <th>1</th>\n",
       "      <td>0.075806</td>\n",
       "      <td>7.7238</td>\n",
       "      <td>4.1109</td>\n",
       "      <td>0.77873</td>\n",
       "      <td>340.170</td>\n",
       "      <td>81.32700</td>\n",
       "      <td>-1.45850</td>\n",
       "      <td>-1.61590</td>\n",
       "      <td>29249.0</td>\n",
       "      <td>5.1953</td>\n",
       "      <td>...</td>\n",
       "      <td>-6.74710</td>\n",
       "      <td>-7.8813</td>\n",
       "      <td>11.8570</td>\n",
       "      <td>7.4454</td>\n",
       "      <td>4.0298</td>\n",
       "      <td>0.67493</td>\n",
       "      <td>834.940</td>\n",
       "      <td>-118.180</td>\n",
       "      <td>-6.73180</td>\n",
       "      <td>-7.8699</td>\n",
       "    </tr>\n",
       "    <tr>\n",
       "      <th>2</th>\n",
       "      <td>-0.067851</td>\n",
       "      <td>-9.2890</td>\n",
       "      <td>3.9957</td>\n",
       "      <td>0.78126</td>\n",
       "      <td>69.075</td>\n",
       "      <td>233.95000</td>\n",
       "      <td>-0.27171</td>\n",
       "      <td>3.11460</td>\n",
       "      <td>9240.1</td>\n",
       "      <td>4.8723</td>\n",
       "      <td>...</td>\n",
       "      <td>-1.96160</td>\n",
       "      <td>1.5064</td>\n",
       "      <td>2.6830</td>\n",
       "      <td>-5.7646</td>\n",
       "      <td>3.9734</td>\n",
       "      <td>0.82882</td>\n",
       "      <td>206.650</td>\n",
       "      <td>119.660</td>\n",
       "      <td>-1.95060</td>\n",
       "      <td>1.5404</td>\n",
       "    </tr>\n",
       "    <tr>\n",
       "      <th>3</th>\n",
       "      <td>-0.278380</td>\n",
       "      <td>5.9354</td>\n",
       "      <td>4.1310</td>\n",
       "      <td>0.79342</td>\n",
       "      <td>4.856</td>\n",
       "      <td>-160.10000</td>\n",
       "      <td>0.49389</td>\n",
       "      <td>-0.48540</td>\n",
       "      <td>38037.0</td>\n",
       "      <td>3.4499</td>\n",
       "      <td>...</td>\n",
       "      <td>0.44399</td>\n",
       "      <td>-1.3359</td>\n",
       "      <td>-3.3660</td>\n",
       "      <td>-3.5855</td>\n",
       "      <td>4.1404</td>\n",
       "      <td>0.76773</td>\n",
       "      <td>-315.740</td>\n",
       "      <td>-790.600</td>\n",
       "      <td>0.44304</td>\n",
       "      <td>-1.3167</td>\n",
       "    </tr>\n",
       "    <tr>\n",
       "      <th>4</th>\n",
       "      <td>-0.790710</td>\n",
       "      <td>6.8622</td>\n",
       "      <td>3.9985</td>\n",
       "      <td>0.78897</td>\n",
       "      <td>21.197</td>\n",
       "      <td>221.98000</td>\n",
       "      <td>1.76130</td>\n",
       "      <td>1.65440</td>\n",
       "      <td>7563.6</td>\n",
       "      <td>4.0371</td>\n",
       "      <td>...</td>\n",
       "      <td>0.55892</td>\n",
       "      <td>3.1277</td>\n",
       "      <td>-0.1489</td>\n",
       "      <td>9.7200</td>\n",
       "      <td>4.0204</td>\n",
       "      <td>0.86236</td>\n",
       "      <td>43.155</td>\n",
       "      <td>65.532</td>\n",
       "      <td>0.57572</td>\n",
       "      <td>3.1531</td>\n",
       "    </tr>\n",
       "  </tbody>\n",
       "</table>\n",
       "<p>5 rows × 27 columns</p>\n",
       "</div>"
      ],
      "text/plain": [
       "        x_0     y_0   phi_0  theta_0  x_dot_0    y_dot_0  phi_dot_0  \\\n",
       "0  0.262190 -9.5447  5.2250  0.77759  -46.852   -0.67733   -0.29639   \n",
       "1  0.075806  7.7238  4.1109  0.77873  340.170   81.32700   -1.45850   \n",
       "2 -0.067851 -9.2890  3.9957  0.78126   69.075  233.95000   -0.27171   \n",
       "3 -0.278380  5.9354  4.1310  0.79342    4.856 -160.10000    0.49389   \n",
       "4 -0.790710  6.8622  3.9985  0.78897   21.197  221.98000    1.76130   \n",
       "\n",
       "   theta_dot_0   F_pred  alpha_pred     ...       phi_dot_99_pred  \\\n",
       "0     -0.26843  36046.0      3.5572     ...               7.38830   \n",
       "1     -1.61590  29249.0      5.1953     ...              -6.74710   \n",
       "2      3.11460   9240.1      4.8723     ...              -1.96160   \n",
       "3     -0.48540  38037.0      3.4499     ...               0.44399   \n",
       "4      1.65440   7563.6      4.0371     ...               0.55892   \n",
       "\n",
       "   theta_dot_99_pred      x_a      y_a   phi_a  theta_a  x_dot_a  y_dot_a  \\\n",
       "0            13.6090  -2.6685 -16.0590  5.2938  0.96960 -229.060 -652.580   \n",
       "1            -7.8813  11.8570   7.4454  4.0298  0.67493  834.940 -118.180   \n",
       "2             1.5064   2.6830  -5.7646  3.9734  0.82882  206.650  119.660   \n",
       "3            -1.3359  -3.3660  -3.5855  4.1404  0.76773 -315.740 -790.600   \n",
       "4             3.1277  -0.1489   9.7200  4.0204  0.86236   43.155   65.532   \n",
       "\n",
       "   phi_dot_a  theta_dot_a  \n",
       "0    7.36040      13.5230  \n",
       "1   -6.73180      -7.8699  \n",
       "2   -1.95060       1.5404  \n",
       "3    0.44304      -1.3167  \n",
       "4    0.57572       3.1531  \n",
       "\n",
       "[5 rows x 27 columns]"
      ]
     },
     "execution_count": 6,
     "metadata": {},
     "output_type": "execute_result"
    }
   ],
   "source": [
    "predWSim.head()"
   ]
  },
  {
   "cell_type": "code",
   "execution_count": null,
   "metadata": {},
   "outputs": [],
   "source": [
    "# Check that items are aligned\n",
    "np.allclose(orDat.iloc[:, 0:10], predWSim.iloc[:, 0:10], rtol = 1e-04)"
   ]
  },
  {
   "cell_type": "code",
   "execution_count": null,
   "metadata": {},
   "outputs": [],
   "source": [
    "# plot predicted vs. actual\n",
    "plt.figure(figsize = [10,10])\n",
    "plt.scatter(x = predWSim.loc[0:1000, \"x_99\"], y = predWSim.loc[0:1000,  \"y_99\"])\n",
    "#plt.scatter(x = predWSim.loc[:, \"x_a\"], y = predWSim.loc[:,  \"y_a\"], alpha = 1)\n",
    "#plt.close() # makes fig not show"
   ]
  },
  {
   "cell_type": "code",
   "execution_count": null,
   "metadata": {},
   "outputs": [],
   "source": [
    "# plot predicted vs. actual\n",
    "plt.figure(figsize = [10,10])\n",
    "plt.scatter(x = predWSim.loc[:, \"x_dot_99_pred\"], y = predWSim.loc[:,  \"y_dot_99_pred\"])\n",
    "plt.scatter(x = predWSim.loc[:, \"x_dot_a\"], y = predWSim.loc[:,  \"y_dot_a\"], alpha = 1)"
   ]
  },
  {
   "cell_type": "code",
   "execution_count": null,
   "metadata": {},
   "outputs": [],
   "source": [
    "plt.scatter(x = predWSim.loc[:, \"x_99\"], y =  predWSim.loc[:,  \"x_a\"] )\n",
    "plt.ylabel(\"actual\")\n",
    "plt.xlabel(\"predicted\")\n",
    "#plt.hlines(y = 0, xmin = -10, xmax = 10)\n"
   ]
  },
  {
   "cell_type": "code",
   "execution_count": null,
   "metadata": {},
   "outputs": [],
   "source": [
    "plt.scatter(x = predWSim.loc[:, \"x_99\"], y =  predWSim.loc[:,  \"x_a\"] -predWSim.loc[:, \"x_99\"] )\n",
    "plt.ylabel(\"actual - predicted\")\n",
    "plt.xlabel(\"actual\")\n",
    "plt.hlines(y = 0, xmin = -10, xmax = 10)\n",
    "\n",
    "plt.show()\n",
    "plt.scatter(x = predWSim.loc[:, \"y_99\"], y =  predWSim.loc[:,  \"y_a\"] -predWSim.loc[:, \"y_99\"] )\n",
    "plt.ylabel(\"actual - predicted\")\n",
    "plt.xlabel(\"actual\")\n",
    "plt.hlines(y = 0, xmin = -10, xmax = 10)\n",
    "\n",
    "plt.show()\n",
    "plt.scatter(x = predWSim.loc[:, \"y_dot_99_pred\"], y =  predWSim.loc[:,  \"y_dot_a\"] -predWSim.loc[:, \"y_dot_99_pred\"] )\n",
    "plt.ylabel(\"actual - predicted\")\n",
    "plt.xlabel(\"actual\")\n",
    "plt.hlines(y = 0, xmin = -10, xmax = 10)"
   ]
  },
  {
   "cell_type": "code",
   "execution_count": 8,
   "metadata": {},
   "outputs": [
    {
     "name": "stdout",
     "output_type": "stream",
     "text": [
      "['x_99', 'y_99', 'phi_99', 'theta_99', 'x_dot_99', 'y_dot_99', 'phi_dot_99', 'theta_dot_99']\n",
      "['x_actual', 'y_actual', 'phi_actual', 'theta_actual', 'x_dot_actual', 'y_dot_actual', 'phi_dot_actual', 'theta_dot_actual']\n"
     ]
    }
   ],
   "source": [
    "predsNames = [\"_\".join(jj.split(\"_\")[0:3])  for jj in predWSim.columns[11:19]]\n",
    "actualNames = [\"_\".join(jj.split(\"_\")[0:-1]) + \"_actual\" for jj in predWSim.columns[19:]]\n",
    "nms = [predsNames[ii][0:len(predsNames[ii])-3] + \"_final\" for ii in range(len(predsNames))]\n",
    "print(predsNames)\n",
    "print(actualNames)"
   ]
  },
  {
   "cell_type": "code",
   "execution_count": null,
   "metadata": {},
   "outputs": [],
   "source": [
    "# make plots\n",
    "plt.close(\"all\")\n",
    "fig, axs = plt.subplots(2,8, figsize=(30, 10), facecolor='w', edgecolor='k')\n",
    "fig.subplots_adjust(hspace = 0.1, wspace=0.5)\n",
    "#fig.suptitle('Predicted vs. acutal ', fontsize=14, fontweight='bold')\n",
    "\n",
    "axs = axs.ravel()\n",
    "\n",
    "# replace lightest colors with white\n",
    "import matplotlib.colors\n",
    "\n",
    "cmap = plt.cm.magma_r\n",
    "cmaplist = np.array([cmap(i) for i in range(cmap.N)])\n",
    "cmaplist[:,0:3] = np.divide(cmaplist[:, 0:3], 1.1)\n",
    "cmaplist[0] = (1,1,1,0.5)\n",
    "cmap = matplotlib.colors.LinearSegmentedColormap.from_list('mcm',cmaplist, cmap.N)\n",
    "\n",
    "for ii in range(len(predsNames)):\n",
    "    try:\n",
    "        axs[ii].hexbin(y = predWSim.iloc[:,ii+11],x = predWSim.iloc[:,ii+ 19], gridsize = 50, cmap = cmap)\n",
    "        #axs[ii].set_xlabel(\"Predicted Value\\n(unscaled)\")\n",
    "        if(ii == 0):\n",
    "            axs[ii].set_ylabel(\"Actual Value\\n(based on simulation)\")\n",
    "        axs[ii].set_title(nms[ii])\n",
    "        axs[ii].plot(predWSim.iloc[:,ii+11], predWSim.iloc[:,ii+11], 'grey', linewidth = 1, linestyle  = \"--\")\n",
    "    except:\n",
    "        pass\n",
    "\n",
    "# residual plots x = predicted, y = actual - predicted\n",
    "for jj in np.arange(0, len(predsNames)):\n",
    "    \n",
    "    ii = jj + 8\n",
    "    try:\n",
    "        axs[ii].hexbin(x = predWSim.iloc[:,jj+11],\n",
    "                     y = predWSim.iloc[:,jj+ 19 ] - predWSim.iloc[:,jj+11], gridsize = (35, 50), cmap = cmap)\n",
    "        \n",
    "        if(jj > 3):\n",
    "            axs[ii].set_xlabel(\"Predicted Value\\n(based on NNet)\")\n",
    "        else:\n",
    "            axs[ii].set_xlabel(\"Input Value\\n(Fed to NNet)\")\n",
    "        if(jj == 0):\n",
    "            axs[ii].set_ylabel(\"Actual - Predicted\")\n",
    "        axs[ii].hlines(y = 0, xmin = np.min(predWSim.iloc[:,jj+11]), \n",
    "                       xmax = np.max(predWSim.iloc[:,jj+11]), linestyle =  \"--\", linewidth = 1)\n",
    "\n",
    "        \n",
    "    except:\n",
    "        pass\n",
    "\n",
    "fig.savefig(os.path.join(figDir, \"PredVActual_Sim_big.png\"), dpi = 500, bbox_inches='tight')\n",
    "plt.close()"
   ]
  },
  {
   "cell_type": "code",
   "execution_count": 29,
   "metadata": {},
   "outputs": [
    {
     "data": {
      "image/png": "[encoded data removed]",
      "text/plain": [
       "<matplotlib.figure.Figure at 0x18723792f60>"
      ]
     },
     "metadata": {},
     "output_type": "display_data"
    }
   ],
   "source": [
    "# make plots\n",
    "plt.close(\"all\")\n",
    "fig, axs = plt.subplots(2,8, figsize=np.array((30, 8)) / 1.7, facecolor='w', edgecolor='k')\n",
    "fig.subplots_adjust(hspace = 0.1, wspace=0.7)\n",
    "#fig.suptitle('Predicted vs. acutal ', fontsize=14, fontweight='bold')\n",
    "\n",
    "axs = axs.ravel()\n",
    "\n",
    "# replace lightest colors with white\n",
    "import matplotlib.colors\n",
    "\n",
    "cmap = plt.cm.magma_r\n",
    "cmaplist = np.array([cmap(i) for i in range(cmap.N)])\n",
    "cmaplist[:,0:3] = np.divide(cmaplist[:, 0:3], 1.1)\n",
    "cmaplist[0] = (1,1,1,0.5)\n",
    "cmap = matplotlib.colors.LinearSegmentedColormap.from_list('mcm',cmaplist, cmap.N)\n",
    "\n",
    "for ii in range(len(predsNames)):\n",
    "    try:\n",
    "        axs[ii].hexbin(y = predWSim.iloc[:,ii+11],x = predWSim.iloc[:,ii+ 19], gridsize = 50, cmap = cmap)\n",
    "        if(ii == 0):\n",
    "            axs[ii].set_ylabel(\"Actual Value\\n(based on simulation)\")\n",
    "        axs[ii].set_title(nms[ii])\n",
    "        axs[ii].plot(predWSim.iloc[:,ii+11], predWSim.iloc[:,ii+11], 'grey', linewidth = 1, linestyle  = \"--\")\n",
    "        axs[ii].axes.xaxis.set_ticklabels([])\n",
    "    except:\n",
    "        pass\n",
    "\n",
    "# residual plots x = predicted, y = actual - predicted\n",
    "for jj in np.arange(0, len(predsNames)):\n",
    "    \n",
    "    ii = jj + 8\n",
    "    try:\n",
    "        axs[ii].hexbin(x = predWSim.iloc[:,jj+11],\n",
    "                     y = predWSim.iloc[:,jj+ 19 ] - predWSim.iloc[:,jj+11], gridsize = (35, 50), cmap = cmap)\n",
    "        \n",
    "        mmin = np.min(predWSim.iloc[:,jj+ 19 ] - predWSim.iloc[:,jj+11])\n",
    "        mmax = np.max(predWSim.iloc[:,jj+ 19 ] - predWSim.iloc[:,jj+11])\n",
    "        \n",
    "        upper = np.max([np.abs(mmin), np.abs(mmax)])\n",
    "        \n",
    "        axs[ii].set_ylim(-upper, upper)\n",
    "        \n",
    "        if(jj > 3):\n",
    "            axs[ii].set_xlabel(\"Predicted Value\\n(based on NNet)\")\n",
    "        else:\n",
    "            axs[ii].set_xlabel(\"Input Value\\n(Fed to NNet)\")\n",
    "        if(jj == 0):\n",
    "            axs[ii].set_ylabel(\"Actual - Predicted\")\n",
    "        axs[ii].hlines(y = 0, xmin = np.min(predWSim.iloc[:,jj+11]), \n",
    "                       xmax = np.max(predWSim.iloc[:,jj+11]), linestyle =  \"--\", linewidth = 1)\n",
    "\n",
    "        \n",
    "    except:\n",
    "        pass\n",
    "\n",
    "fig.savefig(os.path.join(figDir, \"PredVActual_Sim__largeTxt2.png\"), dpi = 500, bbox_inches='tight')\n",
    "#plt.close()"
   ]
  },
  {
   "cell_type": "code",
   "execution_count": 23,
   "metadata": {},
   "outputs": [
    {
     "data": {
      "text/plain": [
       "1.2847"
      ]
     },
     "execution_count": 23,
     "metadata": {},
     "output_type": "execute_result"
    }
   ],
   "source": [
    "upper = np.max([np.abs(mmin), np.abs(mmax)])\n",
    "upper"
   ]
  },
  {
   "cell_type": "markdown",
   "metadata": {},
   "source": [
    "___\n",
    "### Calculate some accuracy metrics\n",
    "___\n",
    "\n"
   ]
  },
  {
   "cell_type": "code",
   "execution_count": null,
   "metadata": {},
   "outputs": [],
   "source": []
  },
  {
   "cell_type": "code",
   "execution_count": null,
   "metadata": {},
   "outputs": [],
   "source": []
  },
  {
   "cell_type": "code",
   "execution_count": null,
   "metadata": {},
   "outputs": [],
   "source": []
  },
  {
   "cell_type": "code",
   "execution_count": null,
   "metadata": {},
   "outputs": [],
   "source": []
  },
  {
   "cell_type": "code",
   "execution_count": null,
   "metadata": {},
   "outputs": [],
   "source": [
    "from sklearn.metrics import mean_squared_error\n",
    "\n",
    "from sklearn.metrics import r2_score"
   ]
  },
  {
   "cell_type": "code",
   "execution_count": null,
   "metadata": {},
   "outputs": [],
   "source": [
    "for ii in range(len(nms)):\n",
    "    #np.sqrt(mean_squared_error(Ytest.iloc[0:1000,ii], nnpreds_unscaled[:,ii]))\n",
    "    print(r2_score(predWSim.iloc[:,ii+11], predWSim.iloc[:,ii+ 19]), nms[ii])"
   ]
  },
  {
   "cell_type": "code",
   "execution_count": null,
   "metadata": {},
   "outputs": [],
   "source": []
  },
  {
   "cell_type": "code",
   "execution_count": null,
   "metadata": {},
   "outputs": [],
   "source": []
  },
  {
   "cell_type": "code",
   "execution_count": null,
   "metadata": {},
   "outputs": [],
   "source": []
  },
  {
   "cell_type": "code",
   "execution_count": null,
   "metadata": {},
   "outputs": [],
   "source": []
  },
  {
   "cell_type": "code",
   "execution_count": null,
   "metadata": {},
   "outputs": [],
   "source": []
  },
  {
   "cell_type": "code",
   "execution_count": null,
   "metadata": {},
   "outputs": [],
   "source": []
  },
  {
   "cell_type": "code",
   "execution_count": null,
   "metadata": {},
   "outputs": [],
   "source": [
    "# # load model\n",
    "# from keras.models import load_model"
   ]
  },
  {
   "cell_type": "code",
   "execution_count": null,
   "metadata": {},
   "outputs": [],
   "source": [
    "# model = load_model(os.path.join(savedModels, 'my_model.h5'))"
   ]
  },
  {
   "cell_type": "code",
   "execution_count": null,
   "metadata": {},
   "outputs": [],
   "source": [
    "# model.summary()"
   ]
  },
  {
   "cell_type": "code",
   "execution_count": null,
   "metadata": {},
   "outputs": [],
   "source": [
    "from sklearn.metrics import mean_squared_error"
   ]
  },
  {
   "cell_type": "code",
   "execution_count": null,
   "metadata": {},
   "outputs": [],
   "source": [
    "mean_squared_error(predWSim.x_99, predWSim.x_a)"
   ]
  },
  {
   "cell_type": "code",
   "execution_count": null,
   "metadata": {},
   "outputs": [],
   "source": [
    "mean_squared_error(predWSim.y_99, predWSim.y_a)"
   ]
  },
  {
   "cell_type": "code",
   "execution_count": null,
   "metadata": {},
   "outputs": [],
   "source": []
  },
  {
   "cell_type": "code",
   "execution_count": null,
   "metadata": {},
   "outputs": [],
   "source": []
  },
  {
   "cell_type": "code",
   "execution_count": null,
   "metadata": {},
   "outputs": [],
   "source": []
  },
  {
   "cell_type": "code",
   "execution_count": null,
   "metadata": {},
   "outputs": [],
   "source": []
  },
  {
   "cell_type": "code",
   "execution_count": null,
   "metadata": {},
   "outputs": [],
   "source": []
  },
  {
   "cell_type": "code",
   "execution_count": null,
   "metadata": {},
   "outputs": [],
   "source": []
  },
  {
   "cell_type": "code",
   "execution_count": null,
   "metadata": {},
   "outputs": [],
   "source": []
  },
  {
   "cell_type": "code",
   "execution_count": null,
   "metadata": {},
   "outputs": [],
   "source": []
  },
  {
   "cell_type": "code",
   "execution_count": null,
   "metadata": {},
   "outputs": [],
   "source": [
    "\n",
    "plt.scatter(x = predWSim.x_99,\n",
    "                     y = predWSim.x_a - predWSim.x_99)"
   ]
  },
  {
   "cell_type": "code",
   "execution_count": null,
   "metadata": {},
   "outputs": [],
   "source": [
    "# check how many inputs were in the training set"
   ]
  },
  {
   "cell_type": "code",
   "execution_count": null,
   "metadata": {},
   "outputs": [],
   "source": [
    "dataDir2 = r\"D:\\Dropbox\\mothMachineLearning_dataAndFigs\\DataOutput\"\n",
    "trainDF2 = pd.read_csv(os.path.join(dataDir2, \"smallDF.csv\"))\n",
    "trainDF2.head()"
   ]
  },
  {
   "cell_type": "code",
   "execution_count": null,
   "metadata": {},
   "outputs": [],
   "source": []
  },
  {
   "cell_type": "code",
   "execution_count": null,
   "metadata": {},
   "outputs": [],
   "source": [
    "X = trainDF2.loc[:, [\"x_0\", \"y_0\", \"phi_0\", \"theta_0\", \n",
    "                    \"x_99\", \"y_99\", \"phi_99\", \"theta_99\", \n",
    "                   \"x_dot_0\", \"y_dot_0\", \"phi_dot_0\", \"theta_dot_0\"]]\n",
    "\n",
    "Y = trainDF2.loc[:, [\"Fx\", \"Fy\", \"tau\", \"x_dot_99\", \"y_dot_99\", \n",
    "                    \"phi_dot_99\", \"theta_dot_99\"] ]"
   ]
  },
  {
   "cell_type": "code",
   "execution_count": null,
   "metadata": {},
   "outputs": [],
   "source": [
    "from sklearn.model_selection import train_test_split\n",
    "Xtrain, Xtest, Ytrain, Ytest = train_test_split(X, Y, test_size=0.2, random_state = 123)"
   ]
  },
  {
   "cell_type": "code",
   "execution_count": null,
   "metadata": {},
   "outputs": [],
   "source": [
    "Xtrain.shape"
   ]
  },
  {
   "cell_type": "code",
   "execution_count": null,
   "metadata": {},
   "outputs": [],
   "source": [
    "# check for duplicates in xtrain and xtest -- no exact duplicates\n",
    "aa = Xtrain.merge(Xtest, how=\"inner\")\n",
    "print(aa.shape)\n",
    "print(aa.drop_duplicates().shape)\n",
    "aa.head()"
   ]
  },
  {
   "cell_type": "code",
   "execution_count": null,
   "metadata": {},
   "outputs": [],
   "source": [
    "# check just initial conditions w/0 derivatives -- all are in test set\n",
    "aa = Xtrain.iloc[:, 0:4].drop_duplicates().merge(Xtest.iloc[:,0:4].drop_duplicates(), how=\"inner\")\n",
    "print(aa.shape)\n",
    "print(aa.drop_duplicates().shape)\n",
    "aa.head()"
   ]
  },
  {
   "cell_type": "code",
   "execution_count": null,
   "metadata": {},
   "outputs": [],
   "source": [
    "Xtrain.iloc[:, 0:5].head()"
   ]
  },
  {
   "cell_type": "code",
   "execution_count": null,
   "metadata": {},
   "outputs": [],
   "source": [
    "trainDF2.x_0.nunique(), Xtrain.x_0.nunique()"
   ]
  },
  {
   "cell_type": "code",
   "execution_count": null,
   "metadata": {},
   "outputs": [],
   "source": [
    "trainDF2.y_99.nunique(), Xtrain.y_99.nunique()"
   ]
  },
  {
   "cell_type": "code",
   "execution_count": null,
   "metadata": {},
   "outputs": [],
   "source": [
    "comparDF = Xtrain.loc[:, ['x_0', 'y_0', 'phi_0', 'theta_0', 'x_dot_0', 'y_dot_0',\n",
    "       'phi_dot_0', 'theta_dot_0']]\n",
    "len(comparDF)"
   ]
  },
  {
   "cell_type": "code",
   "execution_count": null,
   "metadata": {},
   "outputs": [],
   "source": [
    "comparDF.drop_duplicates(inplace=True)"
   ]
  },
  {
   "cell_type": "code",
   "execution_count": null,
   "metadata": {},
   "outputs": [],
   "source": [
    "comparDF.shape"
   ]
  },
  {
   "cell_type": "code",
   "execution_count": null,
   "metadata": {},
   "outputs": [],
   "source": [
    "cdf2 = orDat.loc[:, comparDF.columns]#.drop_duplicates()"
   ]
  },
  {
   "cell_type": "code",
   "execution_count": null,
   "metadata": {},
   "outputs": [],
   "source": [
    "print(cdf2.shape)\n",
    "cdf2.head()"
   ]
  },
  {
   "cell_type": "code",
   "execution_count": null,
   "metadata": {},
   "outputs": [],
   "source": [
    "# lots of our starting conditions are also in the training set ~ 592/1000\n",
    "\n",
    "aa = cdf2.merge(comparDF, how=\"inner\")\n",
    "print(aa.shape)\n",
    "print(aa.drop_duplicates().shape)\n",
    "aa.head()"
   ]
  },
  {
   "cell_type": "code",
   "execution_count": null,
   "metadata": {},
   "outputs": [],
   "source": [
    "comparDF.loc[comparDF.x_0 == aa.iloc[0,0],:]"
   ]
  },
  {
   "cell_type": "code",
   "execution_count": null,
   "metadata": {},
   "outputs": [],
   "source": [
    "comparDF = Xtrain.loc[:, ['x_0', 'y_0', 'phi_0', 'theta_0', \n",
    "                          'x_dot_0', 'y_dot_0','phi_dot_0', 'theta_dot_0', \n",
    "                          \"x_99\", \"y_99\", \"phi_99\", \"theta_99\"]].drop_duplicates()\n",
    "cdf2 = orDat.loc[:, comparDF.columns]#.drop_duplicates()"
   ]
  },
  {
   "cell_type": "code",
   "execution_count": null,
   "metadata": {},
   "outputs": [],
   "source": [
    "comparDF.shape"
   ]
  },
  {
   "cell_type": "code",
   "execution_count": null,
   "metadata": {},
   "outputs": [],
   "source": [
    "bb = pd.merge(cdf2, comparDF, how='inner')\n",
    "print(bb.shape)\n",
    "print(bb.drop_duplicates().shape)\n",
    "bb.head()"
   ]
  },
  {
   "cell_type": "code",
   "execution_count": null,
   "metadata": {},
   "outputs": [],
   "source": []
  },
  {
   "cell_type": "code",
   "execution_count": null,
   "metadata": {},
   "outputs": [],
   "source": []
  },
  {
   "cell_type": "code",
   "execution_count": null,
   "metadata": {},
   "outputs": [],
   "source": []
  },
  {
   "cell_type": "code",
   "execution_count": null,
   "metadata": {},
   "outputs": [],
   "source": [
    "np.sum(cdf2.x_0.isin(comparDF.x_0) & cdf2.y_0.isin(comparDF.y_0) & cdf2.y_99_pred.isin(comparDF.y_99))"
   ]
  },
  {
   "cell_type": "code",
   "execution_count": null,
   "metadata": {},
   "outputs": [],
   "source": []
  }
 ],
 "metadata": {
  "kernelspec": {
   "display_name": "deeplearning",
   "language": "python",
   "name": "deeplearning"
  },
  "language_info": {
   "codemirror_mode": {
    "name": "ipython",
    "version": 3
   },
   "file_extension": ".py",
   "mimetype": "text/x-python",
   "name": "python",
   "nbconvert_exporter": "python",
   "pygments_lexer": "ipython3",
   "version": "3.6.4"
  }
 },
 "nbformat": 4,
 "nbformat_minor": 2
}
