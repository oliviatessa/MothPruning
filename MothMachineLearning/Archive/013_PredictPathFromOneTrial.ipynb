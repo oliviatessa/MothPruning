{
 "cells": [
  {
   "cell_type": "markdown",
   "metadata": {},
   "source": [
    "## Callin Switzer\n",
    "## Try to follow a trajectory, based on nnet"
   ]
  },
  {
   "cell_type": "code",
   "execution_count": 19,
   "metadata": {},
   "outputs": [
    {
     "name": "stdout",
     "output_type": "stream",
     "text": [
      "TensorFlow successfully installed.\n",
      "The installed version of TensorFlow includes GPU support.\n",
      "3.6.4 |Anaconda custom (64-bit)| (default, Jan 16 2018, 10:22:32) [MSC v.1900 64 bit (AMD64)] \n",
      "\n",
      "last run on 2019-01-02 14:14:11.998375\n"
     ]
    }
   ],
   "source": [
    "import numpy as np\n",
    "from matplotlib import pyplot as plt\n",
    "%matplotlib inline\n",
    "\n",
    "import os\n",
    "import pandas as pd\n",
    "import time\n",
    "from datetime import datetime\n",
    "import sys\n",
    "import csv\n",
    "import seaborn as sns\n",
    "sns.set(style=\"ticks\")\n",
    "import scipy.io\n",
    "import subprocess\n",
    "import csv\n",
    "import pickle\n",
    "pd.set_option('display.max_columns', 500)\n",
    "\n",
    "import tensorflow as tf\n",
    "print(\"TensorFlow successfully installed.\")\n",
    "if tf.test.is_built_with_cuda():\n",
    "    print(\"The installed version of TensorFlow includes GPU support.\")\n",
    "\n",
    "print(sys.version, \"\\n\")\n",
    "\n",
    "now = datetime.now()\n",
    "print(\"last run on \" + str(now))\n",
    "\n",
    "#%qtconsole\n",
    "\n",
    "# define directories\n",
    "baseDir = os.getcwd()\n",
    "dataDir = r'D:\\MothSimulations\\11c-AggressiveManeuver\\Qstore\\hws_am_con'\n",
    "figDir = r'D:\\Dropbox\\AcademiaDropbox\\mothMachineLearning_dataAndFigs\\Figs'\n",
    "dataOutput = r'D:\\Dropbox\\AcademiaDropbox\\mothMachineLearning_dataAndFigs\\DataOutput'\n",
    "savedModels = r'D:\\Dropbox\\AcademiaDropbox\\mothMachineLearning_dataAndFigs\\savedModels'\n",
    "randomRawData = r'D:/Dropbox/AcademiaDropbox/mothMachineLearning_dataAndFigs/PythonGeneratedData'\n",
    "\n",
    "if not os.path.exists(dataOutput):\n",
    "    os.mkdir(dataOutput)\n",
    "if not os.path.exists(savedModels):\n",
    "    os.mkdir(savedModels)\n",
    "    \n",
    "# open file explorer\n",
    "# aa = r'explorer /select,\"'\n",
    "# subprocess.Popen(str(aa + figDir + '\\\"'))\n",
    "# subprocess.Popen(str(aa + dataDir + '\\\"'))"
   ]
  },
  {
   "cell_type": "code",
   "execution_count": 20,
   "metadata": {},
   "outputs": [],
   "source": [
    "# import custom Utils functions\n",
    "from DeepLearningUtils import *"
   ]
  },
  {
   "cell_type": "code",
   "execution_count": 21,
   "metadata": {},
   "outputs": [],
   "source": [
    "from keras.layers import Input, Dense, Dropout, BatchNormalization\n",
    "from keras.models import Model\n",
    "from keras import regularizers\n",
    "\n",
    "# Keras callcacks\n",
    "from keras.callbacks import EarlyStopping, ReduceLROnPlateau\n",
    "import keras.backend as K"
   ]
  },
  {
   "cell_type": "code",
   "execution_count": 22,
   "metadata": {},
   "outputs": [],
   "source": [
    "# functions for calculating angle\n",
    "# calculate alpha\n",
    "def quadrant(Fx, Fy):\n",
    "    if (Fx >= 0) & (Fy >= 0):\n",
    "        q = 1\n",
    "    elif (Fx < 0) & (Fy >= 0):\n",
    "        q = 2\n",
    "    elif (Fx < 0) & (Fy < 0):\n",
    "        q = 3\n",
    "    elif (Fx >= 0) & (Fy < 0):\n",
    "        q = 4\n",
    "    else:\n",
    "        q = 999999\n",
    "    return(q)\n",
    "\n",
    "def angleCalc(Fx, Fy, q):\n",
    "    fx = np.abs(Fx)\n",
    "    fy = np.abs(Fy)\n",
    "    \n",
    "    if q == 1:\n",
    "        alpha = np.arctan(fy/fx)\n",
    "    elif q == 2:\n",
    "        alpha = np.pi - np.arctan(fy/fx)\n",
    "    elif q == 3: \n",
    "        alpha = np.pi + np.arctan(fy/fx)\n",
    "    elif q == 4:\n",
    "        alpha = (2*np.pi) - np.arctan(fy/fx)\n",
    "    return(alpha)"
   ]
  },
  {
   "cell_type": "code",
   "execution_count": 23,
   "metadata": {},
   "outputs": [],
   "source": [
    "# Load model\n",
    "K.clear_session()\n",
    "from keras.models import load_model\n",
    "model = load_model(os.path.join(savedModels, 'my_model_400Units_noZeros.h5'))"
   ]
  },
  {
   "cell_type": "code",
   "execution_count": 24,
   "metadata": {},
   "outputs": [],
   "source": [
    "# Generate path to follow\n",
    "# 2 Hz sine wave, points 0.02 sec apart\n",
    "tsteps = np.linspace(0, 2*2, num = 201)\n",
    "sig = 10 * np.sin(2*np.pi* 2*tsteps)\n",
    "#tsteps"
   ]
  },
  {
   "cell_type": "code",
   "execution_count": 25,
   "metadata": {},
   "outputs": [],
   "source": [
    "# load dataset -- then change values\n",
    "predDF = pd.read_csv(os.path.join(dataOutput, \"NNpreds_small_RandomICs.csv\")).iloc[0:len(tsteps), :]"
   ]
  },
  {
   "cell_type": "code",
   "execution_count": 26,
   "metadata": {},
   "outputs": [
    {
     "name": "stdout",
     "output_type": "stream",
     "text": [
      "(201, 19)\n"
     ]
    },
    {
     "data": {
      "text/html": [
       "<div>\n",
       "<style scoped>\n",
       "    .dataframe tbody tr th:only-of-type {\n",
       "        vertical-align: middle;\n",
       "    }\n",
       "\n",
       "    .dataframe tbody tr th {\n",
       "        vertical-align: top;\n",
       "    }\n",
       "\n",
       "    .dataframe thead th {\n",
       "        text-align: right;\n",
       "    }\n",
       "</style>\n",
       "<table border=\"1\" class=\"dataframe\">\n",
       "  <thead>\n",
       "    <tr style=\"text-align: right;\">\n",
       "      <th></th>\n",
       "      <th>x_0</th>\n",
       "      <th>y_0</th>\n",
       "      <th>phi_0</th>\n",
       "      <th>theta_0</th>\n",
       "      <th>x_dot_0</th>\n",
       "      <th>y_dot_0</th>\n",
       "      <th>phi_dot_0</th>\n",
       "      <th>theta_dot_0</th>\n",
       "      <th>F_pred</th>\n",
       "      <th>alpha_pred</th>\n",
       "      <th>tau_pred</th>\n",
       "      <th>x_99</th>\n",
       "      <th>y_99</th>\n",
       "      <th>phi_99</th>\n",
       "      <th>theta_99</th>\n",
       "      <th>x_dot_99_pred</th>\n",
       "      <th>y_dot_99_pred</th>\n",
       "      <th>phi_dot_99_pred</th>\n",
       "      <th>theta_dot_99_pred</th>\n",
       "    </tr>\n",
       "  </thead>\n",
       "  <tbody>\n",
       "    <tr>\n",
       "      <th>0</th>\n",
       "      <td>0.0</td>\n",
       "      <td>0.0</td>\n",
       "      <td>5.717836</td>\n",
       "      <td>2.903536</td>\n",
       "      <td>1140.923218</td>\n",
       "      <td>-399.095208</td>\n",
       "      <td>-20.919668</td>\n",
       "      <td>7.162696</td>\n",
       "      <td>5242.905</td>\n",
       "      <td>0.227884</td>\n",
       "      <td>87642.836</td>\n",
       "      <td>21.425903</td>\n",
       "      <td>-8.116010</td>\n",
       "      <td>5.438490</td>\n",
       "      <td>2.756136</td>\n",
       "      <td>966.60364</td>\n",
       "      <td>-434.46356</td>\n",
       "      <td>-11.772325</td>\n",
       "      <td>-5.640531</td>\n",
       "    </tr>\n",
       "    <tr>\n",
       "      <th>1</th>\n",
       "      <td>0.0</td>\n",
       "      <td>0.0</td>\n",
       "      <td>3.799657</td>\n",
       "      <td>4.295602</td>\n",
       "      <td>1216.867455</td>\n",
       "      <td>1286.049934</td>\n",
       "      <td>9.030914</td>\n",
       "      <td>5.734873</td>\n",
       "      <td>21598.404</td>\n",
       "      <td>2.597742</td>\n",
       "      <td>-67889.390</td>\n",
       "      <td>27.849758</td>\n",
       "      <td>27.358930</td>\n",
       "      <td>3.870090</td>\n",
       "      <td>4.277221</td>\n",
       "      <td>1548.62660</td>\n",
       "      <td>1466.32930</td>\n",
       "      <td>-1.445739</td>\n",
       "      <td>-6.679240</td>\n",
       "    </tr>\n",
       "    <tr>\n",
       "      <th>2</th>\n",
       "      <td>0.0</td>\n",
       "      <td>0.0</td>\n",
       "      <td>1.426920</td>\n",
       "      <td>3.170749</td>\n",
       "      <td>1008.157261</td>\n",
       "      <td>175.219341</td>\n",
       "      <td>-19.672703</td>\n",
       "      <td>-17.241171</td>\n",
       "      <td>23363.543</td>\n",
       "      <td>1.863295</td>\n",
       "      <td>-15468.784</td>\n",
       "      <td>20.439296</td>\n",
       "      <td>-0.898106</td>\n",
       "      <td>1.004533</td>\n",
       "      <td>2.738070</td>\n",
       "      <td>1000.94440</td>\n",
       "      <td>-266.57200</td>\n",
       "      <td>-23.733850</td>\n",
       "      <td>-25.134838</td>\n",
       "    </tr>\n",
       "    <tr>\n",
       "      <th>3</th>\n",
       "      <td>0.0</td>\n",
       "      <td>0.0</td>\n",
       "      <td>1.401717</td>\n",
       "      <td>4.076364</td>\n",
       "      <td>-1022.919335</td>\n",
       "      <td>-980.612881</td>\n",
       "      <td>-9.282598</td>\n",
       "      <td>-20.555771</td>\n",
       "      <td>32194.880</td>\n",
       "      <td>3.678808</td>\n",
       "      <td>68082.640</td>\n",
       "      <td>-19.039632</td>\n",
       "      <td>-13.359467</td>\n",
       "      <td>1.199188</td>\n",
       "      <td>3.981795</td>\n",
       "      <td>-955.95240</td>\n",
       "      <td>-369.71906</td>\n",
       "      <td>-4.945975</td>\n",
       "      <td>0.057465</td>\n",
       "    </tr>\n",
       "    <tr>\n",
       "      <th>4</th>\n",
       "      <td>0.0</td>\n",
       "      <td>0.0</td>\n",
       "      <td>0.350069</td>\n",
       "      <td>5.063611</td>\n",
       "      <td>827.387703</td>\n",
       "      <td>1371.685241</td>\n",
       "      <td>2.420546</td>\n",
       "      <td>-2.941864</td>\n",
       "      <td>15569.313</td>\n",
       "      <td>3.173099</td>\n",
       "      <td>-8812.373</td>\n",
       "      <td>15.881660</td>\n",
       "      <td>29.669649</td>\n",
       "      <td>0.238542</td>\n",
       "      <td>4.952067</td>\n",
       "      <td>745.15857</td>\n",
       "      <td>1623.83780</td>\n",
       "      <td>-10.901551</td>\n",
       "      <td>-11.416786</td>\n",
       "    </tr>\n",
       "  </tbody>\n",
       "</table>\n",
       "</div>"
      ],
      "text/plain": [
       "   x_0  y_0     phi_0   theta_0      x_dot_0      y_dot_0  phi_dot_0  \\\n",
       "0  0.0  0.0  5.717836  2.903536  1140.923218  -399.095208 -20.919668   \n",
       "1  0.0  0.0  3.799657  4.295602  1216.867455  1286.049934   9.030914   \n",
       "2  0.0  0.0  1.426920  3.170749  1008.157261   175.219341 -19.672703   \n",
       "3  0.0  0.0  1.401717  4.076364 -1022.919335  -980.612881  -9.282598   \n",
       "4  0.0  0.0  0.350069  5.063611   827.387703  1371.685241   2.420546   \n",
       "\n",
       "   theta_dot_0     F_pred  alpha_pred   tau_pred       x_99       y_99  \\\n",
       "0     7.162696   5242.905    0.227884  87642.836  21.425903  -8.116010   \n",
       "1     5.734873  21598.404    2.597742 -67889.390  27.849758  27.358930   \n",
       "2   -17.241171  23363.543    1.863295 -15468.784  20.439296  -0.898106   \n",
       "3   -20.555771  32194.880    3.678808  68082.640 -19.039632 -13.359467   \n",
       "4    -2.941864  15569.313    3.173099  -8812.373  15.881660  29.669649   \n",
       "\n",
       "     phi_99  theta_99  x_dot_99_pred  y_dot_99_pred  phi_dot_99_pred  \\\n",
       "0  5.438490  2.756136      966.60364     -434.46356       -11.772325   \n",
       "1  3.870090  4.277221     1548.62660     1466.32930        -1.445739   \n",
       "2  1.004533  2.738070     1000.94440     -266.57200       -23.733850   \n",
       "3  1.199188  3.981795     -955.95240     -369.71906        -4.945975   \n",
       "4  0.238542  4.952067      745.15857     1623.83780       -10.901551   \n",
       "\n",
       "   theta_dot_99_pred  \n",
       "0          -5.640531  \n",
       "1          -6.679240  \n",
       "2         -25.134838  \n",
       "3           0.057465  \n",
       "4         -11.416786  "
      ]
     },
     "execution_count": 26,
     "metadata": {},
     "output_type": "execute_result"
    }
   ],
   "source": [
    "print(predDF.shape)\n",
    "predDF.head()"
   ]
  },
  {
   "cell_type": "code",
   "execution_count": 27,
   "metadata": {},
   "outputs": [],
   "source": [
    "predDF.x_99 = 0\n",
    "predDF.y_99 = np.hstack([np.diff(sig), 9999])\n",
    "predDF.phi_0 = 3.926991\n",
    "predDF.phi_99 = 3.926991\n",
    "\n",
    "predDF.theta_0 = 0.785398\n",
    "predDF.theta_99 = 0.785398\n",
    "\n",
    "\n",
    "predDF[[\"F_pred\", \"alpha_pred\", \"tau_pred\", \n",
    "        \"x_dot_99_pred\", \"y_dot_99_pred\", \"phi_dot_99_pred\", \"theta_dot_99_pred\", \n",
    "       \"x_dot_0\", \"y_dot_0\", \"phi_dot_0\", \"theta_dot_0\"]] = (np.zeros([len(tsteps), 11]) + 1)*999\n",
    "\n",
    "predDF.y_dot_0 = 40 * np.pi * np.cos(4*np.pi*tsteps)\n",
    "predDF.phi_dot_0 =0\n",
    "predDF.theta_dot_0 = 0\n",
    "predDF.x_dot_0 = 0.000001\n",
    "\n",
    "\n",
    "predDF[\"Fx_pred\"], predDF[\"Fy_pred\"] = 999,999\n",
    "\n",
    "#predDF.loc[0, [\"x_dot_0\", \"phi_dot_0\", \"theta_dot_0\"]] = np.array([0.0001, 0.0001, 0.0001])\n",
    "\n"
   ]
  },
  {
   "cell_type": "code",
   "execution_count": 28,
   "metadata": {},
   "outputs": [
    {
     "data": {
      "text/html": [
       "<div>\n",
       "<style scoped>\n",
       "    .dataframe tbody tr th:only-of-type {\n",
       "        vertical-align: middle;\n",
       "    }\n",
       "\n",
       "    .dataframe tbody tr th {\n",
       "        vertical-align: top;\n",
       "    }\n",
       "\n",
       "    .dataframe thead th {\n",
       "        text-align: right;\n",
       "    }\n",
       "</style>\n",
       "<table border=\"1\" class=\"dataframe\">\n",
       "  <thead>\n",
       "    <tr style=\"text-align: right;\">\n",
       "      <th></th>\n",
       "      <th>x_0</th>\n",
       "      <th>y_0</th>\n",
       "      <th>phi_0</th>\n",
       "      <th>theta_0</th>\n",
       "      <th>x_dot_0</th>\n",
       "      <th>y_dot_0</th>\n",
       "      <th>phi_dot_0</th>\n",
       "      <th>theta_dot_0</th>\n",
       "      <th>F_pred</th>\n",
       "      <th>alpha_pred</th>\n",
       "      <th>tau_pred</th>\n",
       "      <th>x_99</th>\n",
       "      <th>y_99</th>\n",
       "      <th>phi_99</th>\n",
       "      <th>theta_99</th>\n",
       "      <th>x_dot_99_pred</th>\n",
       "      <th>y_dot_99_pred</th>\n",
       "      <th>phi_dot_99_pred</th>\n",
       "      <th>theta_dot_99_pred</th>\n",
       "      <th>Fx_pred</th>\n",
       "      <th>Fy_pred</th>\n",
       "    </tr>\n",
       "  </thead>\n",
       "  <tbody>\n",
       "    <tr>\n",
       "      <th>0</th>\n",
       "      <td>0.0</td>\n",
       "      <td>0.0</td>\n",
       "      <td>3.926991</td>\n",
       "      <td>0.785398</td>\n",
       "      <td>0.000001</td>\n",
       "      <td>125.663706</td>\n",
       "      <td>0</td>\n",
       "      <td>0</td>\n",
       "      <td>999.0</td>\n",
       "      <td>999.0</td>\n",
       "      <td>999.0</td>\n",
       "      <td>0</td>\n",
       "      <td>2.486899</td>\n",
       "      <td>3.926991</td>\n",
       "      <td>0.785398</td>\n",
       "      <td>999.0</td>\n",
       "      <td>999.0</td>\n",
       "      <td>999.0</td>\n",
       "      <td>999.0</td>\n",
       "      <td>999</td>\n",
       "      <td>999</td>\n",
       "    </tr>\n",
       "    <tr>\n",
       "      <th>1</th>\n",
       "      <td>0.0</td>\n",
       "      <td>0.0</td>\n",
       "      <td>3.926991</td>\n",
       "      <td>0.785398</td>\n",
       "      <td>0.000001</td>\n",
       "      <td>121.715750</td>\n",
       "      <td>0</td>\n",
       "      <td>0</td>\n",
       "      <td>999.0</td>\n",
       "      <td>999.0</td>\n",
       "      <td>999.0</td>\n",
       "      <td>0</td>\n",
       "      <td>2.330638</td>\n",
       "      <td>3.926991</td>\n",
       "      <td>0.785398</td>\n",
       "      <td>999.0</td>\n",
       "      <td>999.0</td>\n",
       "      <td>999.0</td>\n",
       "      <td>999.0</td>\n",
       "      <td>999</td>\n",
       "      <td>999</td>\n",
       "    </tr>\n",
       "    <tr>\n",
       "      <th>2</th>\n",
       "      <td>0.0</td>\n",
       "      <td>0.0</td>\n",
       "      <td>3.926991</td>\n",
       "      <td>0.785398</td>\n",
       "      <td>0.000001</td>\n",
       "      <td>110.119945</td>\n",
       "      <td>0</td>\n",
       "      <td>0</td>\n",
       "      <td>999.0</td>\n",
       "      <td>999.0</td>\n",
       "      <td>999.0</td>\n",
       "      <td>0</td>\n",
       "      <td>2.027934</td>\n",
       "      <td>3.926991</td>\n",
       "      <td>0.785398</td>\n",
       "      <td>999.0</td>\n",
       "      <td>999.0</td>\n",
       "      <td>999.0</td>\n",
       "      <td>999.0</td>\n",
       "      <td>999</td>\n",
       "      <td>999</td>\n",
       "    </tr>\n",
       "    <tr>\n",
       "      <th>3</th>\n",
       "      <td>0.0</td>\n",
       "      <td>0.0</td>\n",
       "      <td>3.926991</td>\n",
       "      <td>0.785398</td>\n",
       "      <td>0.000001</td>\n",
       "      <td>91.604899</td>\n",
       "      <td>0</td>\n",
       "      <td>0</td>\n",
       "      <td>999.0</td>\n",
       "      <td>999.0</td>\n",
       "      <td>999.0</td>\n",
       "      <td>0</td>\n",
       "      <td>1.597808</td>\n",
       "      <td>3.926991</td>\n",
       "      <td>0.785398</td>\n",
       "      <td>999.0</td>\n",
       "      <td>999.0</td>\n",
       "      <td>999.0</td>\n",
       "      <td>999.0</td>\n",
       "      <td>999</td>\n",
       "      <td>999</td>\n",
       "    </tr>\n",
       "    <tr>\n",
       "      <th>4</th>\n",
       "      <td>0.0</td>\n",
       "      <td>0.0</td>\n",
       "      <td>3.926991</td>\n",
       "      <td>0.785398</td>\n",
       "      <td>0.000001</td>\n",
       "      <td>67.333981</td>\n",
       "      <td>0</td>\n",
       "      <td>0</td>\n",
       "      <td>999.0</td>\n",
       "      <td>999.0</td>\n",
       "      <td>999.0</td>\n",
       "      <td>0</td>\n",
       "      <td>1.067286</td>\n",
       "      <td>3.926991</td>\n",
       "      <td>0.785398</td>\n",
       "      <td>999.0</td>\n",
       "      <td>999.0</td>\n",
       "      <td>999.0</td>\n",
       "      <td>999.0</td>\n",
       "      <td>999</td>\n",
       "      <td>999</td>\n",
       "    </tr>\n",
       "  </tbody>\n",
       "</table>\n",
       "</div>"
      ],
      "text/plain": [
       "   x_0  y_0     phi_0   theta_0   x_dot_0     y_dot_0  phi_dot_0  theta_dot_0  \\\n",
       "0  0.0  0.0  3.926991  0.785398  0.000001  125.663706          0            0   \n",
       "1  0.0  0.0  3.926991  0.785398  0.000001  121.715750          0            0   \n",
       "2  0.0  0.0  3.926991  0.785398  0.000001  110.119945          0            0   \n",
       "3  0.0  0.0  3.926991  0.785398  0.000001   91.604899          0            0   \n",
       "4  0.0  0.0  3.926991  0.785398  0.000001   67.333981          0            0   \n",
       "\n",
       "   F_pred  alpha_pred  tau_pred  x_99      y_99    phi_99  theta_99  \\\n",
       "0   999.0       999.0     999.0     0  2.486899  3.926991  0.785398   \n",
       "1   999.0       999.0     999.0     0  2.330638  3.926991  0.785398   \n",
       "2   999.0       999.0     999.0     0  2.027934  3.926991  0.785398   \n",
       "3   999.0       999.0     999.0     0  1.597808  3.926991  0.785398   \n",
       "4   999.0       999.0     999.0     0  1.067286  3.926991  0.785398   \n",
       "\n",
       "   x_dot_99_pred  y_dot_99_pred  phi_dot_99_pred  theta_dot_99_pred  Fx_pred  \\\n",
       "0          999.0          999.0            999.0              999.0      999   \n",
       "1          999.0          999.0            999.0              999.0      999   \n",
       "2          999.0          999.0            999.0              999.0      999   \n",
       "3          999.0          999.0            999.0              999.0      999   \n",
       "4          999.0          999.0            999.0              999.0      999   \n",
       "\n",
       "   Fy_pred  \n",
       "0      999  \n",
       "1      999  \n",
       "2      999  \n",
       "3      999  \n",
       "4      999  "
      ]
     },
     "execution_count": 28,
     "metadata": {},
     "output_type": "execute_result"
    }
   ],
   "source": [
    "predDF.head()"
   ]
  },
  {
   "cell_type": "code",
   "execution_count": 29,
   "metadata": {},
   "outputs": [],
   "source": [
    "# scale data for nnet predictions\n",
    "X = predDF.loc[:, [\"phi_0\", \"theta_0\", \n",
    "                    \"x_99\", \"y_99\", \"phi_99\", \"theta_99\", \n",
    "                   \"x_dot_0\", \"y_dot_0\", \"phi_dot_0\", \"theta_dot_0\"]]\n",
    "\n",
    "# scale data\n",
    "scalerfileX = 'scalerX.pkl'\n",
    "scalerfileY = 'scalerY.pkl'\n",
    "\n",
    "scalerX = pickle.load(open(os.path.join(dataOutput, scalerfileX), 'rb'))\n",
    "X_scaled = scalerX.transform(X)\n",
    "\n",
    "scalerY = pickle.load(open(os.path.join(dataOutput, scalerfileY), 'rb'))"
   ]
  },
  {
   "cell_type": "code",
   "execution_count": 30,
   "metadata": {},
   "outputs": [
    {
     "data": {
      "text/html": [
       "<div>\n",
       "<style scoped>\n",
       "    .dataframe tbody tr th:only-of-type {\n",
       "        vertical-align: middle;\n",
       "    }\n",
       "\n",
       "    .dataframe tbody tr th {\n",
       "        vertical-align: top;\n",
       "    }\n",
       "\n",
       "    .dataframe thead th {\n",
       "        text-align: right;\n",
       "    }\n",
       "</style>\n",
       "<table border=\"1\" class=\"dataframe\">\n",
       "  <thead>\n",
       "    <tr style=\"text-align: right;\">\n",
       "      <th></th>\n",
       "      <th>phi_0</th>\n",
       "      <th>theta_0</th>\n",
       "      <th>x_99</th>\n",
       "      <th>y_99</th>\n",
       "      <th>phi_99</th>\n",
       "      <th>theta_99</th>\n",
       "      <th>x_dot_0</th>\n",
       "      <th>y_dot_0</th>\n",
       "      <th>phi_dot_0</th>\n",
       "      <th>theta_dot_0</th>\n",
       "    </tr>\n",
       "  </thead>\n",
       "  <tbody>\n",
       "    <tr>\n",
       "      <th>0</th>\n",
       "      <td>0.125</td>\n",
       "      <td>-0.375</td>\n",
       "      <td>0.001001</td>\n",
       "      <td>0.035840</td>\n",
       "      <td>0.091186</td>\n",
       "      <td>-0.267706</td>\n",
       "      <td>-3.508074e-07</td>\n",
       "      <td>0.041888</td>\n",
       "      <td>-1.335214e-07</td>\n",
       "      <td>3.328530e-08</td>\n",
       "    </tr>\n",
       "    <tr>\n",
       "      <th>1</th>\n",
       "      <td>0.125</td>\n",
       "      <td>-0.375</td>\n",
       "      <td>0.001001</td>\n",
       "      <td>0.033795</td>\n",
       "      <td>0.091186</td>\n",
       "      <td>-0.267706</td>\n",
       "      <td>-3.508074e-07</td>\n",
       "      <td>0.040572</td>\n",
       "      <td>-1.335214e-07</td>\n",
       "      <td>3.328530e-08</td>\n",
       "    </tr>\n",
       "    <tr>\n",
       "      <th>2</th>\n",
       "      <td>0.125</td>\n",
       "      <td>-0.375</td>\n",
       "      <td>0.001001</td>\n",
       "      <td>0.029835</td>\n",
       "      <td>0.091186</td>\n",
       "      <td>-0.267706</td>\n",
       "      <td>-3.508074e-07</td>\n",
       "      <td>0.036707</td>\n",
       "      <td>-1.335214e-07</td>\n",
       "      <td>3.328530e-08</td>\n",
       "    </tr>\n",
       "    <tr>\n",
       "      <th>3</th>\n",
       "      <td>0.125</td>\n",
       "      <td>-0.375</td>\n",
       "      <td>0.001001</td>\n",
       "      <td>0.024207</td>\n",
       "      <td>0.091186</td>\n",
       "      <td>-0.267706</td>\n",
       "      <td>-3.508074e-07</td>\n",
       "      <td>0.030535</td>\n",
       "      <td>-1.335214e-07</td>\n",
       "      <td>3.328530e-08</td>\n",
       "    </tr>\n",
       "    <tr>\n",
       "      <th>4</th>\n",
       "      <td>0.125</td>\n",
       "      <td>-0.375</td>\n",
       "      <td>0.001001</td>\n",
       "      <td>0.017265</td>\n",
       "      <td>0.091186</td>\n",
       "      <td>-0.267706</td>\n",
       "      <td>-3.508074e-07</td>\n",
       "      <td>0.022445</td>\n",
       "      <td>-1.335214e-07</td>\n",
       "      <td>3.328530e-08</td>\n",
       "    </tr>\n",
       "  </tbody>\n",
       "</table>\n",
       "</div>"
      ],
      "text/plain": [
       "   phi_0  theta_0      x_99      y_99    phi_99  theta_99       x_dot_0  \\\n",
       "0  0.125   -0.375  0.001001  0.035840  0.091186 -0.267706 -3.508074e-07   \n",
       "1  0.125   -0.375  0.001001  0.033795  0.091186 -0.267706 -3.508074e-07   \n",
       "2  0.125   -0.375  0.001001  0.029835  0.091186 -0.267706 -3.508074e-07   \n",
       "3  0.125   -0.375  0.001001  0.024207  0.091186 -0.267706 -3.508074e-07   \n",
       "4  0.125   -0.375  0.001001  0.017265  0.091186 -0.267706 -3.508074e-07   \n",
       "\n",
       "    y_dot_0     phi_dot_0   theta_dot_0  \n",
       "0  0.041888 -1.335214e-07  3.328530e-08  \n",
       "1  0.040572 -1.335214e-07  3.328530e-08  \n",
       "2  0.036707 -1.335214e-07  3.328530e-08  \n",
       "3  0.030535 -1.335214e-07  3.328530e-08  \n",
       "4  0.022445 -1.335214e-07  3.328530e-08  "
      ]
     },
     "execution_count": 30,
     "metadata": {},
     "output_type": "execute_result"
    }
   ],
   "source": [
    "pd.DataFrame(X_scaled, columns = X.columns).head()"
   ]
  },
  {
   "cell_type": "code",
   "execution_count": 31,
   "metadata": {},
   "outputs": [],
   "source": [
    "# loop to predict\n",
    "for ii in range(len(tsteps)):\n",
    "    scaledPreds = model.predict(X_scaled[ii, ].reshape(1, -1))\n",
    "    predDF.loc[ii, [\"Fx_pred\", \"Fy_pred\", \"tau_pred\", \"x_dot_99_pred\", \"y_dot_99_pred\", \n",
    "                        \"phi_dot_99_pred\", \"theta_dot_99_pred\"] ] = scalerY.inverse_transform(scaledPreds)[0, :]\n",
    "\n",
    "# this puts the new derivatives in\n",
    "#     predDF.loc[ii+1, [\"x_dot_0\", \"y_dot_0\", \n",
    "#                         \"phi_dot_0\", \"theta_dot_0\"] ] = np.array(predDF.loc[ii, [\"x_dot_99_pred\", \"y_dot_99_pred\", \"phi_dot_99_pred\", \"theta_dot_99_pred\"] ])\n",
    "\n",
    "\n"
   ]
  },
  {
   "cell_type": "code",
   "execution_count": 32,
   "metadata": {},
   "outputs": [
    {
     "data": {
      "text/html": [
       "<div>\n",
       "<style scoped>\n",
       "    .dataframe tbody tr th:only-of-type {\n",
       "        vertical-align: middle;\n",
       "    }\n",
       "\n",
       "    .dataframe tbody tr th {\n",
       "        vertical-align: top;\n",
       "    }\n",
       "\n",
       "    .dataframe thead th {\n",
       "        text-align: right;\n",
       "    }\n",
       "</style>\n",
       "<table border=\"1\" class=\"dataframe\">\n",
       "  <thead>\n",
       "    <tr style=\"text-align: right;\">\n",
       "      <th></th>\n",
       "      <th>x_0</th>\n",
       "      <th>y_0</th>\n",
       "      <th>phi_0</th>\n",
       "      <th>theta_0</th>\n",
       "      <th>x_dot_0</th>\n",
       "      <th>y_dot_0</th>\n",
       "      <th>phi_dot_0</th>\n",
       "      <th>theta_dot_0</th>\n",
       "      <th>F_pred</th>\n",
       "      <th>alpha_pred</th>\n",
       "      <th>tau_pred</th>\n",
       "      <th>x_99</th>\n",
       "      <th>y_99</th>\n",
       "      <th>phi_99</th>\n",
       "      <th>theta_99</th>\n",
       "      <th>x_dot_99_pred</th>\n",
       "      <th>y_dot_99_pred</th>\n",
       "      <th>phi_dot_99_pred</th>\n",
       "      <th>theta_dot_99_pred</th>\n",
       "      <th>Fx_pred</th>\n",
       "      <th>Fy_pred</th>\n",
       "    </tr>\n",
       "  </thead>\n",
       "  <tbody>\n",
       "    <tr>\n",
       "      <th>196</th>\n",
       "      <td>0.0</td>\n",
       "      <td>0.0</td>\n",
       "      <td>3.926991</td>\n",
       "      <td>0.785398</td>\n",
       "      <td>0.000001</td>\n",
       "      <td>67.333981</td>\n",
       "      <td>0</td>\n",
       "      <td>0</td>\n",
       "      <td>999.0</td>\n",
       "      <td>999.0</td>\n",
       "      <td>-350.035431</td>\n",
       "      <td>0</td>\n",
       "      <td>1.597808</td>\n",
       "      <td>3.926991</td>\n",
       "      <td>0.785398</td>\n",
       "      <td>-22.332081</td>\n",
       "      <td>139.266647</td>\n",
       "      <td>-0.165872</td>\n",
       "      <td>-0.268434</td>\n",
       "      <td>1500.899780</td>\n",
       "      <td>2315.257812</td>\n",
       "    </tr>\n",
       "    <tr>\n",
       "      <th>197</th>\n",
       "      <td>0.0</td>\n",
       "      <td>0.0</td>\n",
       "      <td>3.926991</td>\n",
       "      <td>0.785398</td>\n",
       "      <td>0.000001</td>\n",
       "      <td>91.604899</td>\n",
       "      <td>0</td>\n",
       "      <td>0</td>\n",
       "      <td>999.0</td>\n",
       "      <td>999.0</td>\n",
       "      <td>-321.274933</td>\n",
       "      <td>0</td>\n",
       "      <td>2.027934</td>\n",
       "      <td>3.926991</td>\n",
       "      <td>0.785398</td>\n",
       "      <td>-22.207941</td>\n",
       "      <td>159.611984</td>\n",
       "      <td>-0.174110</td>\n",
       "      <td>-0.271921</td>\n",
       "      <td>1336.405273</td>\n",
       "      <td>2119.616699</td>\n",
       "    </tr>\n",
       "    <tr>\n",
       "      <th>198</th>\n",
       "      <td>0.0</td>\n",
       "      <td>0.0</td>\n",
       "      <td>3.926991</td>\n",
       "      <td>0.785398</td>\n",
       "      <td>0.000001</td>\n",
       "      <td>110.119945</td>\n",
       "      <td>0</td>\n",
       "      <td>0</td>\n",
       "      <td>999.0</td>\n",
       "      <td>999.0</td>\n",
       "      <td>-306.486115</td>\n",
       "      <td>0</td>\n",
       "      <td>2.330638</td>\n",
       "      <td>3.926991</td>\n",
       "      <td>0.785398</td>\n",
       "      <td>-22.133829</td>\n",
       "      <td>172.478394</td>\n",
       "      <td>-0.181177</td>\n",
       "      <td>-0.274251</td>\n",
       "      <td>1126.290527</td>\n",
       "      <td>1872.670410</td>\n",
       "    </tr>\n",
       "    <tr>\n",
       "      <th>199</th>\n",
       "      <td>0.0</td>\n",
       "      <td>0.0</td>\n",
       "      <td>3.926991</td>\n",
       "      <td>0.785398</td>\n",
       "      <td>0.000001</td>\n",
       "      <td>121.715750</td>\n",
       "      <td>0</td>\n",
       "      <td>0</td>\n",
       "      <td>999.0</td>\n",
       "      <td>999.0</td>\n",
       "      <td>-306.682068</td>\n",
       "      <td>0</td>\n",
       "      <td>2.486899</td>\n",
       "      <td>3.926991</td>\n",
       "      <td>0.785398</td>\n",
       "      <td>-22.110157</td>\n",
       "      <td>177.063324</td>\n",
       "      <td>-0.186556</td>\n",
       "      <td>-0.275331</td>\n",
       "      <td>883.826111</td>\n",
       "      <td>1590.065796</td>\n",
       "    </tr>\n",
       "    <tr>\n",
       "      <th>200</th>\n",
       "      <td>0.0</td>\n",
       "      <td>0.0</td>\n",
       "      <td>3.926991</td>\n",
       "      <td>0.785398</td>\n",
       "      <td>0.000001</td>\n",
       "      <td>125.663706</td>\n",
       "      <td>0</td>\n",
       "      <td>0</td>\n",
       "      <td>999.0</td>\n",
       "      <td>999.0</td>\n",
       "      <td>84393.335938</td>\n",
       "      <td>0</td>\n",
       "      <td>9999.000000</td>\n",
       "      <td>3.926991</td>\n",
       "      <td>0.785398</td>\n",
       "      <td>-652.462585</td>\n",
       "      <td>-243.947510</td>\n",
       "      <td>-21.159119</td>\n",
       "      <td>-14.819510</td>\n",
       "      <td>41855.582031</td>\n",
       "      <td>30744.150391</td>\n",
       "    </tr>\n",
       "  </tbody>\n",
       "</table>\n",
       "</div>"
      ],
      "text/plain": [
       "     x_0  y_0     phi_0   theta_0   x_dot_0     y_dot_0  phi_dot_0  \\\n",
       "196  0.0  0.0  3.926991  0.785398  0.000001   67.333981          0   \n",
       "197  0.0  0.0  3.926991  0.785398  0.000001   91.604899          0   \n",
       "198  0.0  0.0  3.926991  0.785398  0.000001  110.119945          0   \n",
       "199  0.0  0.0  3.926991  0.785398  0.000001  121.715750          0   \n",
       "200  0.0  0.0  3.926991  0.785398  0.000001  125.663706          0   \n",
       "\n",
       "     theta_dot_0  F_pred  alpha_pred      tau_pred  x_99         y_99  \\\n",
       "196            0   999.0       999.0   -350.035431     0     1.597808   \n",
       "197            0   999.0       999.0   -321.274933     0     2.027934   \n",
       "198            0   999.0       999.0   -306.486115     0     2.330638   \n",
       "199            0   999.0       999.0   -306.682068     0     2.486899   \n",
       "200            0   999.0       999.0  84393.335938     0  9999.000000   \n",
       "\n",
       "       phi_99  theta_99  x_dot_99_pred  y_dot_99_pred  phi_dot_99_pred  \\\n",
       "196  3.926991  0.785398     -22.332081     139.266647        -0.165872   \n",
       "197  3.926991  0.785398     -22.207941     159.611984        -0.174110   \n",
       "198  3.926991  0.785398     -22.133829     172.478394        -0.181177   \n",
       "199  3.926991  0.785398     -22.110157     177.063324        -0.186556   \n",
       "200  3.926991  0.785398    -652.462585    -243.947510       -21.159119   \n",
       "\n",
       "     theta_dot_99_pred       Fx_pred       Fy_pred  \n",
       "196          -0.268434   1500.899780   2315.257812  \n",
       "197          -0.271921   1336.405273   2119.616699  \n",
       "198          -0.274251   1126.290527   1872.670410  \n",
       "199          -0.275331    883.826111   1590.065796  \n",
       "200         -14.819510  41855.582031  30744.150391  "
      ]
     },
     "execution_count": 32,
     "metadata": {},
     "output_type": "execute_result"
    }
   ],
   "source": [
    "predDF.tail()"
   ]
  },
  {
   "cell_type": "code",
   "execution_count": 33,
   "metadata": {},
   "outputs": [],
   "source": [
    "predDF = predDF.iloc[:-1, :]"
   ]
  },
  {
   "cell_type": "code",
   "execution_count": 34,
   "metadata": {},
   "outputs": [
    {
     "data": {
      "text/html": [
       "<div>\n",
       "<style scoped>\n",
       "    .dataframe tbody tr th:only-of-type {\n",
       "        vertical-align: middle;\n",
       "    }\n",
       "\n",
       "    .dataframe tbody tr th {\n",
       "        vertical-align: top;\n",
       "    }\n",
       "\n",
       "    .dataframe thead th {\n",
       "        text-align: right;\n",
       "    }\n",
       "</style>\n",
       "<table border=\"1\" class=\"dataframe\">\n",
       "  <thead>\n",
       "    <tr style=\"text-align: right;\">\n",
       "      <th></th>\n",
       "      <th>x_0</th>\n",
       "      <th>y_0</th>\n",
       "      <th>phi_0</th>\n",
       "      <th>theta_0</th>\n",
       "      <th>x_dot_0</th>\n",
       "      <th>y_dot_0</th>\n",
       "      <th>phi_dot_0</th>\n",
       "      <th>theta_dot_0</th>\n",
       "      <th>F_pred</th>\n",
       "      <th>alpha_pred</th>\n",
       "      <th>tau_pred</th>\n",
       "      <th>x_99</th>\n",
       "      <th>y_99</th>\n",
       "      <th>phi_99</th>\n",
       "      <th>theta_99</th>\n",
       "      <th>x_dot_99_pred</th>\n",
       "      <th>y_dot_99_pred</th>\n",
       "      <th>phi_dot_99_pred</th>\n",
       "      <th>theta_dot_99_pred</th>\n",
       "      <th>Fx_pred</th>\n",
       "      <th>Fy_pred</th>\n",
       "      <th>quadrant</th>\n",
       "      <th>tsteps</th>\n",
       "    </tr>\n",
       "  </thead>\n",
       "  <tbody>\n",
       "    <tr>\n",
       "      <th>0</th>\n",
       "      <td>0.0</td>\n",
       "      <td>0.0</td>\n",
       "      <td>3.926991</td>\n",
       "      <td>0.785398</td>\n",
       "      <td>0.000001</td>\n",
       "      <td>125.663706</td>\n",
       "      <td>0</td>\n",
       "      <td>0</td>\n",
       "      <td>1432.744547</td>\n",
       "      <td>1.119976</td>\n",
       "      <td>-321.818451</td>\n",
       "      <td>0</td>\n",
       "      <td>2.486899</td>\n",
       "      <td>3.926991</td>\n",
       "      <td>0.785398</td>\n",
       "      <td>-22.135920</td>\n",
       "      <td>173.082687</td>\n",
       "      <td>-0.189894</td>\n",
       "      <td>-0.275100</td>\n",
       "      <td>624.252136</td>\n",
       "      <td>1289.599243</td>\n",
       "      <td>1</td>\n",
       "      <td>0.00</td>\n",
       "    </tr>\n",
       "    <tr>\n",
       "      <th>1</th>\n",
       "      <td>0.0</td>\n",
       "      <td>0.0</td>\n",
       "      <td>3.926991</td>\n",
       "      <td>0.785398</td>\n",
       "      <td>0.000001</td>\n",
       "      <td>121.715750</td>\n",
       "      <td>0</td>\n",
       "      <td>0</td>\n",
       "      <td>1054.857548</td>\n",
       "      <td>1.218496</td>\n",
       "      <td>-350.956696</td>\n",
       "      <td>0</td>\n",
       "      <td>2.330638</td>\n",
       "      <td>3.926991</td>\n",
       "      <td>0.785398</td>\n",
       "      <td>-22.208017</td>\n",
       "      <td>160.787750</td>\n",
       "      <td>-0.190977</td>\n",
       "      <td>-0.273578</td>\n",
       "      <td>363.986359</td>\n",
       "      <td>990.069885</td>\n",
       "      <td>1</td>\n",
       "      <td>0.02</td>\n",
       "    </tr>\n",
       "    <tr>\n",
       "      <th>2</th>\n",
       "      <td>0.0</td>\n",
       "      <td>0.0</td>\n",
       "      <td>3.926991</td>\n",
       "      <td>0.785398</td>\n",
       "      <td>0.000001</td>\n",
       "      <td>110.119945</td>\n",
       "      <td>0</td>\n",
       "      <td>0</td>\n",
       "      <td>720.155435</td>\n",
       "      <td>1.404157</td>\n",
       "      <td>-392.329529</td>\n",
       "      <td>0</td>\n",
       "      <td>2.027934</td>\n",
       "      <td>3.926991</td>\n",
       "      <td>0.785398</td>\n",
       "      <td>-22.322237</td>\n",
       "      <td>140.949417</td>\n",
       "      <td>-0.189717</td>\n",
       "      <td>-0.270872</td>\n",
       "      <td>119.451866</td>\n",
       "      <td>710.179626</td>\n",
       "      <td>1</td>\n",
       "      <td>0.04</td>\n",
       "    </tr>\n",
       "    <tr>\n",
       "      <th>3</th>\n",
       "      <td>0.0</td>\n",
       "      <td>0.0</td>\n",
       "      <td>3.926991</td>\n",
       "      <td>0.785398</td>\n",
       "      <td>0.000001</td>\n",
       "      <td>91.604899</td>\n",
       "      <td>0</td>\n",
       "      <td>0</td>\n",
       "      <td>476.758957</td>\n",
       "      <td>1.769239</td>\n",
       "      <td>-443.292358</td>\n",
       "      <td>0</td>\n",
       "      <td>1.597808</td>\n",
       "      <td>3.926991</td>\n",
       "      <td>0.785398</td>\n",
       "      <td>-22.474615</td>\n",
       "      <td>114.808495</td>\n",
       "      <td>-0.186243</td>\n",
       "      <td>-0.267093</td>\n",
       "      <td>-93.989716</td>\n",
       "      <td>467.402435</td>\n",
       "      <td>2</td>\n",
       "      <td>0.06</td>\n",
       "    </tr>\n",
       "    <tr>\n",
       "      <th>4</th>\n",
       "      <td>0.0</td>\n",
       "      <td>0.0</td>\n",
       "      <td>3.926991</td>\n",
       "      <td>0.785398</td>\n",
       "      <td>0.000001</td>\n",
       "      <td>67.333981</td>\n",
       "      <td>0</td>\n",
       "      <td>0</td>\n",
       "      <td>381.768676</td>\n",
       "      <td>2.330324</td>\n",
       "      <td>-500.684509</td>\n",
       "      <td>0</td>\n",
       "      <td>1.067286</td>\n",
       "      <td>3.926991</td>\n",
       "      <td>0.785398</td>\n",
       "      <td>-22.657322</td>\n",
       "      <td>84.003555</td>\n",
       "      <td>-0.180822</td>\n",
       "      <td>-0.262525</td>\n",
       "      <td>-262.877808</td>\n",
       "      <td>276.843964</td>\n",
       "      <td>2</td>\n",
       "      <td>0.08</td>\n",
       "    </tr>\n",
       "    <tr>\n",
       "      <th>5</th>\n",
       "      <td>0.0</td>\n",
       "      <td>0.0</td>\n",
       "      <td>3.926991</td>\n",
       "      <td>0.785398</td>\n",
       "      <td>0.000001</td>\n",
       "      <td>38.832221</td>\n",
       "      <td>0</td>\n",
       "      <td>0</td>\n",
       "      <td>405.534236</td>\n",
       "      <td>2.761651</td>\n",
       "      <td>-560.827393</td>\n",
       "      <td>0</td>\n",
       "      <td>0.469702</td>\n",
       "      <td>3.926991</td>\n",
       "      <td>0.785398</td>\n",
       "      <td>-22.863537</td>\n",
       "      <td>50.467232</td>\n",
       "      <td>-0.173815</td>\n",
       "      <td>-0.257357</td>\n",
       "      <td>-376.614044</td>\n",
       "      <td>150.399063</td>\n",
       "      <td>2</td>\n",
       "      <td>0.10</td>\n",
       "    </tr>\n",
       "    <tr>\n",
       "      <th>6</th>\n",
       "      <td>0.0</td>\n",
       "      <td>0.0</td>\n",
       "      <td>3.926991</td>\n",
       "      <td>0.785398</td>\n",
       "      <td>0.000001</td>\n",
       "      <td>7.890489</td>\n",
       "      <td>0</td>\n",
       "      <td>0</td>\n",
       "      <td>438.734461</td>\n",
       "      <td>2.921035</td>\n",
       "      <td>-619.975403</td>\n",
       "      <td>0</td>\n",
       "      <td>-0.157395</td>\n",
       "      <td>3.926991</td>\n",
       "      <td>0.785398</td>\n",
       "      <td>-23.082127</td>\n",
       "      <td>16.308725</td>\n",
       "      <td>-0.165748</td>\n",
       "      <td>-0.251988</td>\n",
       "      <td>-428.106384</td>\n",
       "      <td>95.983597</td>\n",
       "      <td>2</td>\n",
       "      <td>0.12</td>\n",
       "    </tr>\n",
       "    <tr>\n",
       "      <th>7</th>\n",
       "      <td>0.0</td>\n",
       "      <td>0.0</td>\n",
       "      <td>3.926991</td>\n",
       "      <td>0.785398</td>\n",
       "      <td>0.000001</td>\n",
       "      <td>-23.547030</td>\n",
       "      <td>0</td>\n",
       "      <td>0</td>\n",
       "      <td>430.401830</td>\n",
       "      <td>2.866178</td>\n",
       "      <td>-674.361633</td>\n",
       "      <td>0</td>\n",
       "      <td>-0.774602</td>\n",
       "      <td>3.926991</td>\n",
       "      <td>0.785398</td>\n",
       "      <td>-23.302217</td>\n",
       "      <td>-16.320671</td>\n",
       "      <td>-0.157096</td>\n",
       "      <td>-0.246662</td>\n",
       "      <td>-414.181122</td>\n",
       "      <td>117.045860</td>\n",
       "      <td>2</td>\n",
       "      <td>0.14</td>\n",
       "    </tr>\n",
       "    <tr>\n",
       "      <th>8</th>\n",
       "      <td>0.0</td>\n",
       "      <td>0.0</td>\n",
       "      <td>3.926991</td>\n",
       "      <td>0.785398</td>\n",
       "      <td>0.000001</td>\n",
       "      <td>-53.505004</td>\n",
       "      <td>0</td>\n",
       "      <td>0</td>\n",
       "      <td>397.277617</td>\n",
       "      <td>2.577732</td>\n",
       "      <td>-720.575256</td>\n",
       "      <td>0</td>\n",
       "      <td>-1.343138</td>\n",
       "      <td>3.926991</td>\n",
       "      <td>0.785398</td>\n",
       "      <td>-23.508957</td>\n",
       "      <td>-45.365654</td>\n",
       "      <td>-0.148443</td>\n",
       "      <td>-0.241785</td>\n",
       "      <td>-335.778198</td>\n",
       "      <td>212.326416</td>\n",
       "      <td>2</td>\n",
       "      <td>0.16</td>\n",
       "    </tr>\n",
       "    <tr>\n",
       "      <th>9</th>\n",
       "      <td>0.0</td>\n",
       "      <td>0.0</td>\n",
       "      <td>3.926991</td>\n",
       "      <td>0.785398</td>\n",
       "      <td>0.000001</td>\n",
       "      <td>-80.101061</td>\n",
       "      <td>0</td>\n",
       "      <td>0</td>\n",
       "      <td>424.774265</td>\n",
       "      <td>2.055452</td>\n",
       "      <td>-755.731750</td>\n",
       "      <td>0</td>\n",
       "      <td>-1.827280</td>\n",
       "      <td>3.926991</td>\n",
       "      <td>0.785398</td>\n",
       "      <td>-23.688747</td>\n",
       "      <td>-68.998276</td>\n",
       "      <td>-0.140259</td>\n",
       "      <td>-0.237618</td>\n",
       "      <td>-197.903793</td>\n",
       "      <td>375.855377</td>\n",
       "      <td>2</td>\n",
       "      <td>0.18</td>\n",
       "    </tr>\n",
       "    <tr>\n",
       "      <th>10</th>\n",
       "      <td>0.0</td>\n",
       "      <td>0.0</td>\n",
       "      <td>3.926991</td>\n",
       "      <td>0.785398</td>\n",
       "      <td>0.000001</td>\n",
       "      <td>-101.664074</td>\n",
       "      <td>0</td>\n",
       "      <td>0</td>\n",
       "      <td>597.641023</td>\n",
       "      <td>1.586186</td>\n",
       "      <td>-777.598450</td>\n",
       "      <td>0</td>\n",
       "      <td>-2.196607</td>\n",
       "      <td>3.926991</td>\n",
       "      <td>0.785398</td>\n",
       "      <td>-23.827118</td>\n",
       "      <td>-85.735153</td>\n",
       "      <td>-0.133086</td>\n",
       "      <td>-0.234488</td>\n",
       "      <td>-9.197134</td>\n",
       "      <td>597.570251</td>\n",
       "      <td>2</td>\n",
       "      <td>0.20</td>\n",
       "    </tr>\n",
       "    <tr>\n",
       "      <th>11</th>\n",
       "      <td>0.0</td>\n",
       "      <td>0.0</td>\n",
       "      <td>3.926991</td>\n",
       "      <td>0.785398</td>\n",
       "      <td>0.000001</td>\n",
       "      <td>-116.839159</td>\n",
       "      <td>0</td>\n",
       "      <td>0</td>\n",
       "      <td>890.768339</td>\n",
       "      <td>1.322983</td>\n",
       "      <td>-784.827332</td>\n",
       "      <td>0</td>\n",
       "      <td>-2.427913</td>\n",
       "      <td>3.926991</td>\n",
       "      <td>0.785398</td>\n",
       "      <td>-23.912230</td>\n",
       "      <td>-94.527565</td>\n",
       "      <td>-0.127251</td>\n",
       "      <td>-0.232571</td>\n",
       "      <td>218.491852</td>\n",
       "      <td>863.556335</td>\n",
       "      <td>1</td>\n",
       "      <td>0.22</td>\n",
       "    </tr>\n",
       "    <tr>\n",
       "      <th>12</th>\n",
       "      <td>0.0</td>\n",
       "      <td>0.0</td>\n",
       "      <td>3.926991</td>\n",
       "      <td>0.785398</td>\n",
       "      <td>0.000001</td>\n",
       "      <td>-124.672810</td>\n",
       "      <td>0</td>\n",
       "      <td>0</td>\n",
       "      <td>1249.354525</td>\n",
       "      <td>1.184370</td>\n",
       "      <td>-776.980225</td>\n",
       "      <td>0</td>\n",
       "      <td>-2.506665</td>\n",
       "      <td>3.926991</td>\n",
       "      <td>0.785398</td>\n",
       "      <td>-23.934294</td>\n",
       "      <td>-94.830048</td>\n",
       "      <td>-0.123102</td>\n",
       "      <td>-0.232031</td>\n",
       "      <td>470.857635</td>\n",
       "      <td>1157.229370</td>\n",
       "      <td>1</td>\n",
       "      <td>0.24</td>\n",
       "    </tr>\n",
       "    <tr>\n",
       "      <th>13</th>\n",
       "      <td>0.0</td>\n",
       "      <td>0.0</td>\n",
       "      <td>3.926991</td>\n",
       "      <td>0.785398</td>\n",
       "      <td>0.000001</td>\n",
       "      <td>-124.672810</td>\n",
       "      <td>0</td>\n",
       "      <td>0</td>\n",
       "      <td>1633.426716</td>\n",
       "      <td>1.106025</td>\n",
       "      <td>-754.543762</td>\n",
       "      <td>0</td>\n",
       "      <td>-2.427913</td>\n",
       "      <td>3.926991</td>\n",
       "      <td>0.785398</td>\n",
       "      <td>-23.890505</td>\n",
       "      <td>-86.625999</td>\n",
       "      <td>-0.120877</td>\n",
       "      <td>-0.232886</td>\n",
       "      <td>732.132019</td>\n",
       "      <td>1460.159424</td>\n",
       "      <td>1</td>\n",
       "      <td>0.26</td>\n",
       "    </tr>\n",
       "    <tr>\n",
       "      <th>14</th>\n",
       "      <td>0.0</td>\n",
       "      <td>0.0</td>\n",
       "      <td>3.926991</td>\n",
       "      <td>0.785398</td>\n",
       "      <td>0.000001</td>\n",
       "      <td>-116.839159</td>\n",
       "      <td>0</td>\n",
       "      <td>0</td>\n",
       "      <td>2011.504238</td>\n",
       "      <td>1.058543</td>\n",
       "      <td>-718.960571</td>\n",
       "      <td>0</td>\n",
       "      <td>-2.196607</td>\n",
       "      <td>3.926991</td>\n",
       "      <td>0.785398</td>\n",
       "      <td>-23.782642</td>\n",
       "      <td>-70.431038</td>\n",
       "      <td>-0.120711</td>\n",
       "      <td>-0.235088</td>\n",
       "      <td>985.923645</td>\n",
       "      <td>1753.312256</td>\n",
       "      <td>1</td>\n",
       "      <td>0.28</td>\n",
       "    </tr>\n",
       "    <tr>\n",
       "      <th>15</th>\n",
       "      <td>0.0</td>\n",
       "      <td>0.0</td>\n",
       "      <td>3.926991</td>\n",
       "      <td>0.785398</td>\n",
       "      <td>0.000001</td>\n",
       "      <td>-101.664074</td>\n",
       "      <td>0</td>\n",
       "      <td>0</td>\n",
       "      <td>2356.430366</td>\n",
       "      <td>1.028380</td>\n",
       "      <td>-672.433594</td>\n",
       "      <td>0</td>\n",
       "      <td>-1.827280</td>\n",
       "      <td>3.926991</td>\n",
       "      <td>0.785398</td>\n",
       "      <td>-23.618427</td>\n",
       "      <td>-47.259525</td>\n",
       "      <td>-0.122682</td>\n",
       "      <td>-0.238552</td>\n",
       "      <td>1216.406128</td>\n",
       "      <td>2018.197266</td>\n",
       "      <td>1</td>\n",
       "      <td>0.30</td>\n",
       "    </tr>\n",
       "    <tr>\n",
       "      <th>16</th>\n",
       "      <td>0.0</td>\n",
       "      <td>0.0</td>\n",
       "      <td>3.926991</td>\n",
       "      <td>0.785398</td>\n",
       "      <td>0.000001</td>\n",
       "      <td>-80.101061</td>\n",
       "      <td>0</td>\n",
       "      <td>0</td>\n",
       "      <td>2644.688312</td>\n",
       "      <td>1.008893</td>\n",
       "      <td>-617.876221</td>\n",
       "      <td>0</td>\n",
       "      <td>-1.343138</td>\n",
       "      <td>3.926991</td>\n",
       "      <td>0.785398</td>\n",
       "      <td>-23.411884</td>\n",
       "      <td>-18.561451</td>\n",
       "      <td>-0.126635</td>\n",
       "      <td>-0.242956</td>\n",
       "      <td>1409.083740</td>\n",
       "      <td>2238.048096</td>\n",
       "      <td>1</td>\n",
       "      <td>0.32</td>\n",
       "    </tr>\n",
       "    <tr>\n",
       "      <th>17</th>\n",
       "      <td>0.0</td>\n",
       "      <td>0.0</td>\n",
       "      <td>3.926991</td>\n",
       "      <td>0.785398</td>\n",
       "      <td>0.000001</td>\n",
       "      <td>-53.505004</td>\n",
       "      <td>0</td>\n",
       "      <td>0</td>\n",
       "      <td>2857.011180</td>\n",
       "      <td>0.996584</td>\n",
       "      <td>-558.779785</td>\n",
       "      <td>0</td>\n",
       "      <td>-0.774602</td>\n",
       "      <td>3.926991</td>\n",
       "      <td>0.785398</td>\n",
       "      <td>-23.178932</td>\n",
       "      <td>13.863283</td>\n",
       "      <td>-0.132447</td>\n",
       "      <td>-0.248076</td>\n",
       "      <td>1551.853394</td>\n",
       "      <td>2398.804688</td>\n",
       "      <td>1</td>\n",
       "      <td>0.34</td>\n",
       "    </tr>\n",
       "    <tr>\n",
       "      <th>18</th>\n",
       "      <td>0.0</td>\n",
       "      <td>0.0</td>\n",
       "      <td>3.926991</td>\n",
       "      <td>0.785398</td>\n",
       "      <td>0.000001</td>\n",
       "      <td>-23.547030</td>\n",
       "      <td>0</td>\n",
       "      <td>0</td>\n",
       "      <td>2979.529933</td>\n",
       "      <td>0.989637</td>\n",
       "      <td>-498.779205</td>\n",
       "      <td>0</td>\n",
       "      <td>-0.157395</td>\n",
       "      <td>3.926991</td>\n",
       "      <td>0.785398</td>\n",
       "      <td>-22.937864</td>\n",
       "      <td>47.978554</td>\n",
       "      <td>-0.139726</td>\n",
       "      <td>-0.253517</td>\n",
       "      <td>1635.743042</td>\n",
       "      <td>2490.370117</td>\n",
       "      <td>1</td>\n",
       "      <td>0.36</td>\n",
       "    </tr>\n",
       "    <tr>\n",
       "      <th>19</th>\n",
       "      <td>0.0</td>\n",
       "      <td>0.0</td>\n",
       "      <td>3.926991</td>\n",
       "      <td>0.785398</td>\n",
       "      <td>0.000001</td>\n",
       "      <td>7.890489</td>\n",
       "      <td>0</td>\n",
       "      <td>0</td>\n",
       "      <td>3004.035238</td>\n",
       "      <td>0.987175</td>\n",
       "      <td>-441.666107</td>\n",
       "      <td>0</td>\n",
       "      <td>0.469702</td>\n",
       "      <td>3.926991</td>\n",
       "      <td>0.785398</td>\n",
       "      <td>-22.706659</td>\n",
       "      <td>81.636993</td>\n",
       "      <td>-0.148071</td>\n",
       "      <td>-0.258940</td>\n",
       "      <td>1655.371460</td>\n",
       "      <td>2506.785400</td>\n",
       "      <td>1</td>\n",
       "      <td>0.38</td>\n",
       "    </tr>\n",
       "  </tbody>\n",
       "</table>\n",
       "</div>"
      ],
      "text/plain": [
       "    x_0  y_0     phi_0   theta_0   x_dot_0     y_dot_0  phi_dot_0  \\\n",
       "0   0.0  0.0  3.926991  0.785398  0.000001  125.663706          0   \n",
       "1   0.0  0.0  3.926991  0.785398  0.000001  121.715750          0   \n",
       "2   0.0  0.0  3.926991  0.785398  0.000001  110.119945          0   \n",
       "3   0.0  0.0  3.926991  0.785398  0.000001   91.604899          0   \n",
       "4   0.0  0.0  3.926991  0.785398  0.000001   67.333981          0   \n",
       "5   0.0  0.0  3.926991  0.785398  0.000001   38.832221          0   \n",
       "6   0.0  0.0  3.926991  0.785398  0.000001    7.890489          0   \n",
       "7   0.0  0.0  3.926991  0.785398  0.000001  -23.547030          0   \n",
       "8   0.0  0.0  3.926991  0.785398  0.000001  -53.505004          0   \n",
       "9   0.0  0.0  3.926991  0.785398  0.000001  -80.101061          0   \n",
       "10  0.0  0.0  3.926991  0.785398  0.000001 -101.664074          0   \n",
       "11  0.0  0.0  3.926991  0.785398  0.000001 -116.839159          0   \n",
       "12  0.0  0.0  3.926991  0.785398  0.000001 -124.672810          0   \n",
       "13  0.0  0.0  3.926991  0.785398  0.000001 -124.672810          0   \n",
       "14  0.0  0.0  3.926991  0.785398  0.000001 -116.839159          0   \n",
       "15  0.0  0.0  3.926991  0.785398  0.000001 -101.664074          0   \n",
       "16  0.0  0.0  3.926991  0.785398  0.000001  -80.101061          0   \n",
       "17  0.0  0.0  3.926991  0.785398  0.000001  -53.505004          0   \n",
       "18  0.0  0.0  3.926991  0.785398  0.000001  -23.547030          0   \n",
       "19  0.0  0.0  3.926991  0.785398  0.000001    7.890489          0   \n",
       "\n",
       "    theta_dot_0       F_pred  alpha_pred    tau_pred  x_99      y_99  \\\n",
       "0             0  1432.744547    1.119976 -321.818451     0  2.486899   \n",
       "1             0  1054.857548    1.218496 -350.956696     0  2.330638   \n",
       "2             0   720.155435    1.404157 -392.329529     0  2.027934   \n",
       "3             0   476.758957    1.769239 -443.292358     0  1.597808   \n",
       "4             0   381.768676    2.330324 -500.684509     0  1.067286   \n",
       "5             0   405.534236    2.761651 -560.827393     0  0.469702   \n",
       "6             0   438.734461    2.921035 -619.975403     0 -0.157395   \n",
       "7             0   430.401830    2.866178 -674.361633     0 -0.774602   \n",
       "8             0   397.277617    2.577732 -720.575256     0 -1.343138   \n",
       "9             0   424.774265    2.055452 -755.731750     0 -1.827280   \n",
       "10            0   597.641023    1.586186 -777.598450     0 -2.196607   \n",
       "11            0   890.768339    1.322983 -784.827332     0 -2.427913   \n",
       "12            0  1249.354525    1.184370 -776.980225     0 -2.506665   \n",
       "13            0  1633.426716    1.106025 -754.543762     0 -2.427913   \n",
       "14            0  2011.504238    1.058543 -718.960571     0 -2.196607   \n",
       "15            0  2356.430366    1.028380 -672.433594     0 -1.827280   \n",
       "16            0  2644.688312    1.008893 -617.876221     0 -1.343138   \n",
       "17            0  2857.011180    0.996584 -558.779785     0 -0.774602   \n",
       "18            0  2979.529933    0.989637 -498.779205     0 -0.157395   \n",
       "19            0  3004.035238    0.987175 -441.666107     0  0.469702   \n",
       "\n",
       "      phi_99  theta_99  x_dot_99_pred  y_dot_99_pred  phi_dot_99_pred  \\\n",
       "0   3.926991  0.785398     -22.135920     173.082687        -0.189894   \n",
       "1   3.926991  0.785398     -22.208017     160.787750        -0.190977   \n",
       "2   3.926991  0.785398     -22.322237     140.949417        -0.189717   \n",
       "3   3.926991  0.785398     -22.474615     114.808495        -0.186243   \n",
       "4   3.926991  0.785398     -22.657322      84.003555        -0.180822   \n",
       "5   3.926991  0.785398     -22.863537      50.467232        -0.173815   \n",
       "6   3.926991  0.785398     -23.082127      16.308725        -0.165748   \n",
       "7   3.926991  0.785398     -23.302217     -16.320671        -0.157096   \n",
       "8   3.926991  0.785398     -23.508957     -45.365654        -0.148443   \n",
       "9   3.926991  0.785398     -23.688747     -68.998276        -0.140259   \n",
       "10  3.926991  0.785398     -23.827118     -85.735153        -0.133086   \n",
       "11  3.926991  0.785398     -23.912230     -94.527565        -0.127251   \n",
       "12  3.926991  0.785398     -23.934294     -94.830048        -0.123102   \n",
       "13  3.926991  0.785398     -23.890505     -86.625999        -0.120877   \n",
       "14  3.926991  0.785398     -23.782642     -70.431038        -0.120711   \n",
       "15  3.926991  0.785398     -23.618427     -47.259525        -0.122682   \n",
       "16  3.926991  0.785398     -23.411884     -18.561451        -0.126635   \n",
       "17  3.926991  0.785398     -23.178932      13.863283        -0.132447   \n",
       "18  3.926991  0.785398     -22.937864      47.978554        -0.139726   \n",
       "19  3.926991  0.785398     -22.706659      81.636993        -0.148071   \n",
       "\n",
       "    theta_dot_99_pred      Fx_pred      Fy_pred  quadrant  tsteps  \n",
       "0           -0.275100   624.252136  1289.599243         1    0.00  \n",
       "1           -0.273578   363.986359   990.069885         1    0.02  \n",
       "2           -0.270872   119.451866   710.179626         1    0.04  \n",
       "3           -0.267093   -93.989716   467.402435         2    0.06  \n",
       "4           -0.262525  -262.877808   276.843964         2    0.08  \n",
       "5           -0.257357  -376.614044   150.399063         2    0.10  \n",
       "6           -0.251988  -428.106384    95.983597         2    0.12  \n",
       "7           -0.246662  -414.181122   117.045860         2    0.14  \n",
       "8           -0.241785  -335.778198   212.326416         2    0.16  \n",
       "9           -0.237618  -197.903793   375.855377         2    0.18  \n",
       "10          -0.234488    -9.197134   597.570251         2    0.20  \n",
       "11          -0.232571   218.491852   863.556335         1    0.22  \n",
       "12          -0.232031   470.857635  1157.229370         1    0.24  \n",
       "13          -0.232886   732.132019  1460.159424         1    0.26  \n",
       "14          -0.235088   985.923645  1753.312256         1    0.28  \n",
       "15          -0.238552  1216.406128  2018.197266         1    0.30  \n",
       "16          -0.242956  1409.083740  2238.048096         1    0.32  \n",
       "17          -0.248076  1551.853394  2398.804688         1    0.34  \n",
       "18          -0.253517  1635.743042  2490.370117         1    0.36  \n",
       "19          -0.258940  1655.371460  2506.785400         1    0.38  "
      ]
     },
     "execution_count": 34,
     "metadata": {},
     "output_type": "execute_result"
    }
   ],
   "source": [
    "# convert to F, alpha, tau\n",
    "predDF[\"F_pred\"] = np.sqrt(predDF[\"Fx_pred\"]**2 + predDF[\"Fy_pred\"]**2)\n",
    "predDF[\"quadrant\"] = [quadrant(fx, fy) for fx,fy in zip(predDF[\"Fx_pred\"], predDF[\"Fy_pred\"])]\n",
    "predDF[\"alpha_pred\"] = [angleCalc(fx, fy, q) for fx, fy, q in zip(predDF[\"Fx_pred\"], predDF[\"Fy_pred\"], predDF[\"quadrant\"])]\n",
    "predDF[\"tsteps\"] = tsteps[0:len(predDF)]\n",
    "predDF.head(20)"
   ]
  },
  {
   "cell_type": "code",
   "execution_count": 35,
   "metadata": {},
   "outputs": [],
   "source": [
    "# save df\n",
    "# save predicted DF\n",
    "predDF.to_csv(os.path.join(dataOutput, \"PredictedTraj2_feed.csv\"), index = False)"
   ]
  },
  {
   "cell_type": "code",
   "execution_count": 36,
   "metadata": {},
   "outputs": [
    {
     "data": {
      "text/plain": [
       "<matplotlib.legend.Legend at 0x1c945f2a5f8>"
      ]
     },
     "execution_count": 36,
     "metadata": {},
     "output_type": "execute_result"
    },
    {
     "data": {
      "image/png": "[encoded data removed]",
      "text/plain": [
       "<matplotlib.figure.Figure at 0x1c94615f358>"
      ]
     },
     "metadata": {},
     "output_type": "display_data"
    }
   ],
   "source": [
    "plt.plot(predDF.y_dot_0, predDF.y_dot_99_pred)\n",
    "plt.plot(predDF.y_dot_99_pred, predDF.y_dot_99_pred, label  = \"1:1 line\")\n",
    "plt.legend()"
   ]
  },
  {
   "cell_type": "code",
   "execution_count": null,
   "metadata": {},
   "outputs": [],
   "source": []
  },
  {
   "cell_type": "code",
   "execution_count": null,
   "metadata": {},
   "outputs": [],
   "source": []
  },
  {
   "cell_type": "code",
   "execution_count": null,
   "metadata": {},
   "outputs": [],
   "source": []
  },
  {
   "cell_type": "code",
   "execution_count": null,
   "metadata": {},
   "outputs": [],
   "source": []
  },
  {
   "cell_type": "code",
   "execution_count": null,
   "metadata": {},
   "outputs": [],
   "source": []
  },
  {
   "cell_type": "code",
   "execution_count": null,
   "metadata": {},
   "outputs": [],
   "source": []
  },
  {
   "cell_type": "code",
   "execution_count": null,
   "metadata": {},
   "outputs": [],
   "source": []
  },
  {
   "cell_type": "code",
   "execution_count": null,
   "metadata": {},
   "outputs": [],
   "source": [
    "# Predict steps with nnet (without feedback)\n",
    "x_0 = np.repeat(0, len(tsteps))\n",
    "x_f = x_0.copy()\n",
    "y_0 = x_0.copy()\n",
    "y_error = np.hstack([np.nan, np.diff(sig)])\n",
    "theta_0 = np.repeat(0.785398, len(tsteps))\n",
    "phi_0 = np.repeat(3.926991, len(tsteps))\n",
    "x_dot_0 = np.repeat(0.0001, len(tsteps))\n",
    "y_dot_0 = np.repeat(0.0001, len(tsteps))\n",
    "phi_dot_0 = np.repeat(0.0001, len(tsteps))\n",
    "theta_dot_0 = np.repeat(0.0001, len(tsteps))\n",
    "Fx = np.repeat(0, len(tsteps))\n",
    "Fy = np.repeat(0, len(tsteps))\n",
    "tau = np.repeat(0, len(tsteps))\n",
    "\n",
    "\n",
    "predDF = pd.DataFrame(np.transpose(np.array([tsteps, \n",
    "                                             sig, \n",
    "                                             x_0,\n",
    "                                             x_f,\n",
    "                                             y_0,\n",
    "                                             y_error,\n",
    "                                             theta_0,\n",
    "                                             theta_0,\n",
    "                                             phi_0, \n",
    "                                             phi_0, \n",
    "                                             x_dot_0, \n",
    "                                             y_dot_0, \n",
    "                                             phi_dot_0, \n",
    "                                             theta_dot_0, \n",
    "                                             Fx, \n",
    "                                             Fy, \n",
    "                                             tau\n",
    "                                            ])), \n",
    "                     columns=[\"tsteps\", \"signal\", \"x_0\", \"x_99\", \"y_0\", \"y_99\", \n",
    "                             \"theta_0\", \"theta_99\", \"phi_0\", \"phi_99\", \n",
    "                             \"x_dot_0\", \"y_dot_0\", \"phi_dot_0\", \"theta_dot_0\", \n",
    "                             \"Fx\", \"Fy\", \"tau_pred\"])\n",
    "\n",
    "\n",
    "\n",
    "predDF[\"x_99_actual\"] = 0\n",
    "predDF[\"xd_99_actual\"] = 0\n",
    "predDF[\"y_99_actual\"] = 0\n",
    "predDF[\"yd_99_actual\"] = 0\n",
    "\n",
    "predDF[\"theta_99_actual\"] = 0\n",
    "predDF[\"thetad_99_actual\"] = 0\n",
    "\n",
    "predDF[\"phi_99_actual\"] = 0\n",
    "predDF[\"phid_99_actual\"] = 0\n",
    "\n",
    "predDF[\"F_pred\"] = 0\n",
    "predDF[\"alpha_pred\"] = 0\n",
    "\n",
    "\n",
    "pd.set_option('display.max_columns', 500)\n",
    "predDF.head()\n",
    "\n",
    "# X = testDF.loc[:, [\"x_0\", \"y_0\", \"phi_0\", \"theta_0\", \n",
    "#                     \"x_99\", \"y_99\", \"phi_99\", \"theta_99\", \n",
    "#                    \"x_dot_0\", \"y_dot_0\", \"phi_dot_0\", \"theta_dot_0\"]]"
   ]
  },
  {
   "cell_type": "code",
   "execution_count": null,
   "metadata": {},
   "outputs": [],
   "source": [
    "# scale data for nnet predictions\n",
    "X = predDF.loc[1:, [\"x_0\", \"y_0\", \"phi_0\", \"theta_0\", \n",
    "                    \"x_99\", \"y_99\", \"phi_99\", \"theta_99\", \n",
    "                   \"x_dot_0\", \"y_dot_0\", \"phi_dot_0\", \"theta_dot_0\"]]\n",
    "\n",
    "# scale data\n",
    "scalerfileX = 'scalerX.pkl'\n",
    "scalerfileY = 'scalerY.pkl'\n",
    "\n",
    "scalerX = pickle.load(open(os.path.join(dataOutput, scalerfileX), 'rb'))\n",
    "X_scaled = scalerX.transform(X)\n",
    "\n",
    "scalerY = pickle.load(open(os.path.join(dataOutput, scalerfileY), 'rb'))"
   ]
  },
  {
   "cell_type": "code",
   "execution_count": null,
   "metadata": {},
   "outputs": [],
   "source": [
    "# Predict steps with nnet, and reset at actual value (from simulation)\n",
    "for ii in range(1, len(tsteps)-1):\n",
    "    nnpreds = model.predict(X_scaled[ii, :].reshape(-1,12))\n",
    "    nnpreds_unscaled = scalerY.inverse_transform(nnpreds)\n",
    "\n",
    "    # Y = testDF.loc[:, [\"Fx\", \"Fy\", \"tau\", \"x_dot_99\", \"y_dot_99\", \n",
    "    #                    \"phi_dot_99\", \"theta_dot_99\"] ]\n",
    "    \n",
    "   \n",
    "    # put predictions back into data frame\n",
    "    predDF.loc[ii + 1, [\"x_dot_0\", \"y_dot_0\", \"phi_dot_0\", \"theta_dot_0\"]] = nnpreds_unscaled[0, [3,4,5,6]]\n",
    "    predDF.loc[ii, [\"Fx\", \"Fy\", \"tau_pred\"]] = nnpreds_unscaled[0, [0,1,2]]\n",
    "    \n",
    "    X = predDF.loc[1:, [\"x_0\", \"y_0\", \"phi_0\", \"theta_0\", \n",
    "                \"x_99\", \"y_99\", \"phi_99\", \"theta_99\", \n",
    "               \"x_dot_0\", \"y_dot_0\", \"phi_dot_0\", \"theta_dot_0\"]]\n",
    "    X_scaled = scalerX.transform(X)\n",
    "    "
   ]
  },
  {
   "cell_type": "code",
   "execution_count": null,
   "metadata": {},
   "outputs": [],
   "source": [
    "# convert to F, alpha, tau\n",
    "predDF[\"F_pred\"] = np.sqrt(predDF[\"Fx\"]**2 + predDF[\"Fy\"]**2)\n",
    "predDF[\"quadrant\"] = [quadrant(fx, fy) for fx,fy in zip(predDF[\"Fx\"], predDF[\"Fy\"])]\n",
    "predDF[\"alpha_pred\"] = [angleCalc(fx, fy, q) for fx, fy, q in zip(predDF[\"Fx\"], predDF[\"Fy\"], predDF[\"quadrant\"])]\n",
    "\n",
    "predDF.head()"
   ]
  },
  {
   "cell_type": "code",
   "execution_count": null,
   "metadata": {},
   "outputs": [],
   "source": [
    "plt.plot(predDF.y_99)"
   ]
  },
  {
   "cell_type": "code",
   "execution_count": null,
   "metadata": {},
   "outputs": [],
   "source": [
    "# save predicted DF\n",
    "predDF.to_csv(os.path.join(dataOutput, \"PredictedTraj2.csv\"), index = False)\n"
   ]
  },
  {
   "cell_type": "code",
   "execution_count": null,
   "metadata": {},
   "outputs": [],
   "source": [
    "predDF.iloc[1, :]"
   ]
  },
  {
   "cell_type": "code",
   "execution_count": null,
   "metadata": {},
   "outputs": [],
   "source": []
  },
  {
   "cell_type": "code",
   "execution_count": null,
   "metadata": {},
   "outputs": [],
   "source": []
  },
  {
   "cell_type": "code",
   "execution_count": null,
   "metadata": {},
   "outputs": [],
   "source": []
  },
  {
   "cell_type": "code",
   "execution_count": null,
   "metadata": {},
   "outputs": [],
   "source": []
  },
  {
   "cell_type": "code",
   "execution_count": null,
   "metadata": {},
   "outputs": [],
   "source": []
  },
  {
   "cell_type": "code",
   "execution_count": null,
   "metadata": {},
   "outputs": [],
   "source": []
  },
  {
   "cell_type": "code",
   "execution_count": null,
   "metadata": {},
   "outputs": [],
   "source": []
  },
  {
   "cell_type": "code",
   "execution_count": null,
   "metadata": {},
   "outputs": [],
   "source": []
  },
  {
   "cell_type": "code",
   "execution_count": null,
   "metadata": {},
   "outputs": [],
   "source": []
  },
  {
   "cell_type": "code",
   "execution_count": null,
   "metadata": {},
   "outputs": [],
   "source": []
  },
  {
   "cell_type": "code",
   "execution_count": null,
   "metadata": {},
   "outputs": [],
   "source": [
    "trainDF2 = pd.read_csv(os.path.join(dataDir2, \"smallDF.csv\"))\n",
    "trainDF2.head()"
   ]
  },
  {
   "cell_type": "code",
   "execution_count": null,
   "metadata": {},
   "outputs": [],
   "source": [
    "# make dataset\n",
    "indexCut = int(0.9 * trainDF2.shape[0])\n",
    "trainDF2[\"Test_Set\"] = trainDF2.index > indexCut\n",
    "\n",
    "# refref: add dots as output\n",
    "\n",
    "X = trainDF2.loc[0:indexCut-1, [\"x_0\", \"y_0\", \"phi_0\", \"theta_0\", \n",
    "                    \"x_99\", \"y_99\", \"phi_99\", \"theta_99\", \n",
    "                   \"x_dot_0\", \"y_dot_0\", \"phi_dot_0\", \"theta_dot_0\"]]\n",
    "\n",
    "Y = trainDF2.loc[0:indexCut-1, [\"Fx\", \"Fy\", \"tau\", \"x_dot_99\", \"y_dot_99\", \n",
    "                    \"phi_dot_99\", \"theta_dot_99\"] ]\n",
    "\n",
    "# # # subtract x_0 and y_0 from everything\n",
    "# X.x_99 = X.x_99 - X.x_0\n",
    "# X.y_99 = X.y_99 - X.y_0\n",
    "\n",
    "# X.x_0 = X.y_0 = 0"
   ]
  },
  {
   "cell_type": "code",
   "execution_count": null,
   "metadata": {},
   "outputs": [],
   "source": [
    "# plot range of initial conditions (scatterplot matrix)\n",
    "sns.pairplot(trainDF2.loc[:, [\"x_0\", \"y_0\", \"phi_0\", \"theta_0\", \"Test_Set\"]].drop_duplicates(), \n",
    "             vars = [\"x_0\", \"y_0\", \"phi_0\", \"theta_0\"], \n",
    "             hue = \"Test_Set\", diag_kind = 'kde', \n",
    "            palette = 'viridis', plot_kws=dict(alpha = 0.5, s = 20, edgecolor=\"grey\", linewidth=0))\n",
    "plt.savefig(os.path.join(figDir, \"TrainingVSTestConditions.png\"), width = 10, height = 10, dpi = 120)"
   ]
  },
  {
   "cell_type": "code",
   "execution_count": null,
   "metadata": {},
   "outputs": [],
   "source": [
    "X.shape"
   ]
  },
  {
   "cell_type": "code",
   "execution_count": null,
   "metadata": {},
   "outputs": [],
   "source": [
    "XTEST = trainDF2.loc[indexCut:, [\"x_0\", \"y_0\", \"phi_0\", \"theta_0\", \n",
    "                    \"x_99\", \"y_99\", \"phi_99\", \"theta_99\", \n",
    "                   \"x_dot_0\", \"y_dot_0\", \"phi_dot_0\", \"theta_dot_0\"]]\n",
    "\n",
    "YTEST = trainDF2.loc[indexCut:, [\"Fx\", \"Fy\", \"tau\", \"x_dot_99\", \"y_dot_99\", \n",
    "                    \"phi_dot_99\", \"theta_dot_99\"] ]"
   ]
  },
  {
   "cell_type": "code",
   "execution_count": null,
   "metadata": {},
   "outputs": [],
   "source": [
    "# see how much test data is in the training data\n",
    "mergedDF = pd.merge(XTEST.iloc[:, 0:4].drop_duplicates(), X.iloc[:,0:4].drop_duplicates(), how= \"inner\")\n",
    "\n",
    "print(mergedDF.shape)\n",
    "\n",
    "mergedDF.head()"
   ]
  },
  {
   "cell_type": "code",
   "execution_count": null,
   "metadata": {},
   "outputs": [],
   "source": [
    "XTEST.shape"
   ]
  },
  {
   "cell_type": "code",
   "execution_count": null,
   "metadata": {},
   "outputs": [],
   "source": [
    "X.head()"
   ]
  },
  {
   "cell_type": "code",
   "execution_count": null,
   "metadata": {},
   "outputs": [],
   "source": [
    "Y.head()"
   ]
  },
  {
   "cell_type": "code",
   "execution_count": null,
   "metadata": {},
   "outputs": [],
   "source": [
    "from sklearn.model_selection import train_test_split\n",
    "Xtrain, Xtest, Ytrain, Ytest = train_test_split(X, Y, test_size=0.9, random_state = 123)"
   ]
  },
  {
   "cell_type": "code",
   "execution_count": null,
   "metadata": {},
   "outputs": [],
   "source": [
    "from sklearn.preprocessing import StandardScaler  \n",
    "scalerX = StandardScaler()  \n",
    "scalerY = StandardScaler()  \n",
    "\n",
    "# Don't cheat - fit only on training data\n",
    "scalerX.fit(Xtrain)  \n",
    "scalerY.fit(Ytrain) \n",
    "\n",
    "Xtrain_scaled = scalerX.transform(Xtrain)  \n",
    "Ytrain_scaled = scalerY.transform(Ytrain)  \n",
    "\n",
    "# apply same transformation to test data\n",
    "Xtest_scaled = scalerX.transform(Xtest)\n",
    "Ytest_scaled = scalerY.transform(Ytest)\n",
    "\n",
    "# apply to final test set (novel initial conditions)\n",
    "XTEST_scaled = scalerX.transform(XTEST)\n",
    "YTEST_scaled = scalerY.transform(YTEST)"
   ]
  },
  {
   "cell_type": "code",
   "execution_count": null,
   "metadata": {},
   "outputs": [],
   "source": [
    "print(Xtest.shape)\n",
    "pd.DataFrame(scalerY.inverse_transform(Ytrain_scaled)).head()"
   ]
  },
  {
   "cell_type": "code",
   "execution_count": null,
   "metadata": {},
   "outputs": [],
   "source": [
    "pd.DataFrame(Ytrain).reset_index(drop = True).head()"
   ]
  },
  {
   "cell_type": "code",
   "execution_count": null,
   "metadata": {},
   "outputs": [],
   "source": [
    "# from sklearn.preprocessing import MinMaxScaler  \n",
    "# scalerX = MinMaxScaler()  \n",
    "# scalerY = MinMaxScaler()  \n",
    "\n",
    "# # Don't cheat - fit only on training data\n",
    "# scalerX.fit(Xtrain)  \n",
    "# scalerY.fit(Ytrain) \n",
    "\n",
    "# Xtrain_scaled = scalerX.transform(Xtrain)  \n",
    "# Ytrain_scaled = scalerY.transform(Ytrain)  \n",
    "\n",
    "# # apply same transformation to test data\n",
    "# Xtest_scaled = scalerX.transform(Xtest)\n",
    "# Ytest_scaled = scalerY.transform(Ytest)"
   ]
  },
  {
   "cell_type": "code",
   "execution_count": null,
   "metadata": {},
   "outputs": [],
   "source": [
    "# build Keras model with functional API, instead of Sequential\n",
    "from keras.layers import Input, Dense\n",
    "from keras.models import Model\n",
    "\n",
    "# callcacks\n",
    "from keras.callbacks import EarlyStopping\n",
    "from keras.callbacks import ReduceLROnPlateau"
   ]
  },
  {
   "cell_type": "code",
   "execution_count": null,
   "metadata": {},
   "outputs": [],
   "source": [
    "inputs = Input(shape=(Xtrain_scaled.shape[1],))\n",
    "\n",
    "x = Dense(400, activation='tanh')(inputs)\n",
    "x = Dense(400, activation='tanh')(x)\n",
    "x = Dense(400, activation='tanh')(x)\n",
    "x = Dense(16, activation='tanh')(x)\n",
    "predictions = Dense(Ytrain_scaled.shape[1], activation='linear')(x)\n",
    "\n",
    "# This creates a model that includes\n",
    "# the Input layer and three Dense layers\n",
    "model = Model(inputs=inputs, outputs=predictions)\n",
    "model.compile(loss=\"mse\", optimizer=\"adam\", metrics = ['mse'])"
   ]
  },
  {
   "cell_type": "code",
   "execution_count": null,
   "metadata": {},
   "outputs": [],
   "source": [
    "earlystop = EarlyStopping(monitor='val_mean_squared_error', patience=50, \n",
    "                          verbose=1, mode='auto', min_delta = 0.0001)\n",
    "\n",
    "history = model.fit(Xtrain_scaled, Ytrain_scaled, validation_split = 0.7, \n",
    "                    verbose = 2, batch_size=2**14, epochs = 1000, \n",
    "                    callbacks = [earlystop])"
   ]
  },
  {
   "cell_type": "code",
   "execution_count": null,
   "metadata": {},
   "outputs": [],
   "source": [
    "def plot_model_history(model_history, saveFig = False):\n",
    "    fig, axs = plt.subplots(1,1,figsize=(10,5))\n",
    "    # summarize history for accuracy\n",
    "    axs.plot(range(1,len(model_history.history['mean_squared_error'])+1),\n",
    "             model_history.history['mean_squared_error'])\n",
    "    axs.plot(range(1,len(model_history.history['val_mean_squared_error'])+1),\n",
    "             model_history.history['val_mean_squared_error'])\n",
    "    axs.set_title('Model MSE')\n",
    "    axs.set_ylabel('mean_squared_error')\n",
    "    axs.set_xlabel('Epoch')\n",
    "    axs.set_xticks(np.arange(1,len(model_history.history['val_mean_squared_error'])+1),\n",
    "                   len(model_history.history['val_mean_squared_error'])/10)\n",
    "    axs.legend(['train', 'val'], loc='best')\n",
    "    if saveFig:\n",
    "        fig.savefig(os.path.join(figDir, \"ModelTraining_HoldoutData.png\"), dpi = 120, bbox_inches='tight')\n",
    "    plt.show()"
   ]
  },
  {
   "cell_type": "code",
   "execution_count": null,
   "metadata": {},
   "outputs": [],
   "source": [
    "plot_model_history(history, saveFig = False)"
   ]
  },
  {
   "cell_type": "code",
   "execution_count": null,
   "metadata": {},
   "outputs": [],
   "source": [
    "# save model\n",
    "# model.save(os.path.join(savedModels, 'my_model_dataHoldout.h5'))\n",
    "# aa = r'explorer /select,\"'\n",
    "# subprocess.Popen(str(aa + savedModels + '\\\"'))"
   ]
  },
  {
   "cell_type": "code",
   "execution_count": null,
   "metadata": {},
   "outputs": [],
   "source": [
    "# # load model\n",
    "from keras.models import load_model\n",
    "model = load_model(os.path.join(savedModels, 'my_model_dataHoldout.h5'))"
   ]
  },
  {
   "cell_type": "code",
   "execution_count": null,
   "metadata": {},
   "outputs": [],
   "source": [
    "nnpreds = model.predict(Xtest_scaled)"
   ]
  },
  {
   "cell_type": "code",
   "execution_count": null,
   "metadata": {},
   "outputs": [],
   "source": [
    "# rescale\n",
    "nnpreds_unscaled = scalerY.inverse_transform(nnpreds)"
   ]
  },
  {
   "cell_type": "markdown",
   "metadata": {},
   "source": [
    "# Plot on randomly-withheld data (initial conditions in the test data)"
   ]
  },
  {
   "cell_type": "code",
   "execution_count": null,
   "metadata": {},
   "outputs": [],
   "source": [
    "plt.close(\"all\")\n",
    "fig, axs = plt.subplots(2,4, figsize=(15, 10), facecolor='w', edgecolor='k')\n",
    "fig.subplots_adjust(hspace = 0.3, wspace=0.3)\n",
    "fig.suptitle('Predicted vs. acutal for randomly withheld data', fontsize=14, fontweight='bold')\n",
    "\n",
    "axs = axs.ravel()\n",
    "\n",
    "nms = Y.columns\n",
    "\n",
    "# replace lightest colors with white\n",
    "import matplotlib.colors\n",
    "\n",
    "cmap = plt.cm.magma_r\n",
    "cmaplist = np.array([cmap(i) for i in range(cmap.N)])\n",
    "#cmaplist[0:2] = np.repeat((0.0,0.0,0.0,0.0), 2).reshape(-1,4)\n",
    "cmaplist[:,0:3] = np.divide(cmaplist[:, 0:3], 1.1)\n",
    "#cmaplist[:,0:3] = np.transpose(np.vstack([np.linspace(1, 0, 256), np.linspace(1, 0, 256), np.linspace(1, 0, 256)]))\n",
    "cmaplist[0] = (1,1,1,0.5)\n",
    "cmap = matplotlib.colors.LinearSegmentedColormap.from_list('mcm',cmaplist, cmap.N)\n",
    "\n",
    "for ii in range(len(Y.columns)+1):\n",
    "    # read in image\n",
    "    \n",
    "    try:\n",
    "        axs[ii].hexbin(y = Ytest.iloc[:,ii],x = nnpreds_unscaled[:,ii], gridsize = 150, cmap = cmap)\n",
    "        axs[ii].set_xlabel(\"Predicted Value\\n(unscaled)\")\n",
    "        if(ii == 0):\n",
    "            axs[ii].set_ylabel(\"Actual Value\\n(unscaled)\")\n",
    "        axs[ii].set_title(nms[ii])\n",
    "        axs[ii].plot(Ytest.iloc[:,ii], Ytest.iloc[:,ii], 'grey', linewidth = 1, linestyle  = \"--\")\n",
    "    except:\n",
    "        pass\n",
    "    if ii == 7:\n",
    "        axs[ii].set_visible(False)\n",
    "\n",
    "fig.savefig(os.path.join(figDir, \"NNPreds_newData_control_bigbatch_FxFy_hexbin_holdoutData.png\"), dpi = 120, bbox_inches='tight')"
   ]
  },
  {
   "cell_type": "code",
   "execution_count": null,
   "metadata": {},
   "outputs": [],
   "source": [
    "# residual plots\n",
    "plt.close(\"all\")\n",
    "fig, axs = plt.subplots(2,4, figsize=(15, 10), facecolor='w', edgecolor='k')\n",
    "fig.subplots_adjust(hspace = 0.3, wspace=0.3)\n",
    "fig.suptitle('Residual Plots for randomly withheld data ', fontsize=14, fontweight='bold')\n",
    "\n",
    "axs = axs.ravel()\n",
    "\n",
    "nms = Y.columns\n",
    "\n",
    "# replace lightest colors with white\n",
    "import matplotlib.colors\n",
    "\n",
    "cmap = plt.cm.magma_r\n",
    "cmaplist = np.array([cmap(i) for i in range(cmap.N)])\n",
    "cmaplist[:,0:3] = np.divide(cmaplist[:, 0:3], 1.1)\n",
    "cmaplist[0] = (1,1,1,0.5)\n",
    "cmap = matplotlib.colors.LinearSegmentedColormap.from_list('mcm',cmaplist, cmap.N)\n",
    "\n",
    "for ii in range(len(Y.columns) + 1):\n",
    "    # read in image\n",
    "    \n",
    "    try:\n",
    "        axs[ii].hexbin(y = Ytest.iloc[:,ii] - nnpreds_unscaled[:,ii],x = nnpreds_unscaled[:,ii], gridsize = 150, cmap = cmap)\n",
    "        axs[ii].set_xlabel(\"Predicted Value\\n(unscaled)\")\n",
    "        if(ii == 0) or (ii == 4):\n",
    "            axs[ii].set_ylabel(\"Actual - Predicted Value\\n(unscaled)\")\n",
    "        axs[ii].set_title(nms[ii])\n",
    "        axs[ii].hlines(y = 0, xmin = np.min(nnpreds_unscaled[:,ii]), \n",
    "                       xmax = np.max(nnpreds_unscaled[:,ii]), linestyle =  \"--\", linewidth = 1)\n",
    "    except:\n",
    "        pass\n",
    "    if ii == 7:\n",
    "        axs[ii].set_visible(False)\n",
    "        \n",
    "fig.savefig(os.path.join(figDir, \"residual_Hexbin_holdoutData.png\"), dpi = 120, bbox_inches='tight')"
   ]
  },
  {
   "cell_type": "markdown",
   "metadata": {},
   "source": [
    "# Plot for novel test data (initial conditions not found in training, but coming from same distribution)\n",
    "\n",
    "\n"
   ]
  },
  {
   "cell_type": "code",
   "execution_count": null,
   "metadata": {},
   "outputs": [],
   "source": [
    "# predict on holdout data (novel initial conditions)\n",
    "nnpreds2 = model.predict(XTEST_scaled)"
   ]
  },
  {
   "cell_type": "code",
   "execution_count": null,
   "metadata": {},
   "outputs": [],
   "source": [
    "nnpreds_unscaled = scalerY.inverse_transform(nnpreds2)"
   ]
  },
  {
   "cell_type": "code",
   "execution_count": null,
   "metadata": {},
   "outputs": [],
   "source": [
    "plt.close(\"all\")\n",
    "fig, axs = plt.subplots(2,4, figsize=(15, 10), facecolor='w', edgecolor='k')\n",
    "fig.subplots_adjust(hspace = 0.3, wspace=0.3)\n",
    "fig.suptitle('Predicted vs. acutal for novel initial conditions \\n from same distribution as original data', fontsize=14, fontweight='bold')\n",
    "\n",
    "axs = axs.ravel()\n",
    "\n",
    "nms = Y.columns\n",
    "\n",
    "# replace lightest colors with white\n",
    "import matplotlib.colors\n",
    "\n",
    "cmap = plt.cm.magma_r\n",
    "cmaplist = np.array([cmap(i) for i in range(cmap.N)])\n",
    "#cmaplist[0:2] = np.repeat((0.0,0.0,0.0,0.0), 2).reshape(-1,4)\n",
    "cmaplist[:,0:3] = np.divide(cmaplist[:, 0:3], 1.1)\n",
    "#cmaplist[:,0:3] = np.transpose(np.vstack([np.linspace(1, 0, 256), np.linspace(1, 0, 256), np.linspace(1, 0, 256)]))\n",
    "cmaplist[0] = (1,1,1,0.5)\n",
    "cmap = matplotlib.colors.LinearSegmentedColormap.from_list('mcm',cmaplist, cmap.N)\n",
    "\n",
    "for ii in range(len(Y.columns)+1):\n",
    "    # read in image\n",
    "    \n",
    "    try:\n",
    "        axs[ii].hexbin(y = YTEST.iloc[:,ii],x = nnpreds_unscaled[:,ii], gridsize = 150, cmap = cmap)\n",
    "        axs[ii].set_xlabel(\"Predicted Value\\n(unscaled)\")\n",
    "        if(ii == 0) or (ii == 4):\n",
    "            axs[ii].set_ylabel(\"Actual Value\\n(unscaled)\")\n",
    "        axs[ii].set_title(nms[ii])\n",
    "        axs[ii].plot(YTEST.iloc[:,ii], YTEST.iloc[:,ii], 'grey', linewidth = 1, linestyle  = \"--\")\n",
    "    except:\n",
    "        pass\n",
    "    if ii == 7:\n",
    "        axs[ii].set_visible(False)\n",
    "\n",
    "fig.savefig(os.path.join(figDir, \"NNPreds_novelData.png\"), dpi = 120, bbox_inches='tight')"
   ]
  },
  {
   "cell_type": "code",
   "execution_count": null,
   "metadata": {},
   "outputs": [],
   "source": [
    "# residual plots\n",
    "plt.close(\"all\")\n",
    "fig, axs = plt.subplots(2,4, figsize=(15, 10), facecolor='w', edgecolor='k')\n",
    "fig.subplots_adjust(hspace = 0.3, wspace=0.3)\n",
    "fig.suptitle('Residual Plots for novel initial conditions \\n from same distribution as original data', fontsize=14, fontweight='bold')\n",
    "\n",
    "axs = axs.ravel()\n",
    "\n",
    "nms = Y.columns\n",
    "\n",
    "# replace lightest colors with white\n",
    "import matplotlib.colors\n",
    "\n",
    "cmap = plt.cm.magma_r\n",
    "cmaplist = np.array([cmap(i) for i in range(cmap.N)])\n",
    "cmaplist[:,0:3] = np.divide(cmaplist[:, 0:3], 1.1)\n",
    "cmaplist[0] = (1,1,1,0.5)\n",
    "cmap = matplotlib.colors.LinearSegmentedColormap.from_list('mcm',cmaplist, cmap.N)\n",
    "\n",
    "for ii in range(len(Y.columns) + 1):\n",
    "    # read in image\n",
    "    \n",
    "    try:\n",
    "        axs[ii].hexbin(y = YTEST.iloc[:,ii] - nnpreds_unscaled[:,ii],x = nnpreds_unscaled[:,ii], gridsize = 150, cmap = cmap)\n",
    "        axs[ii].set_xlabel(\"Predicted Value\\n(unscaled)\")\n",
    "        if(ii == 0) or (ii == 4):\n",
    "            axs[ii].set_ylabel(\"Actual - Predicted\\nValue (unscaled)\")\n",
    "        axs[ii].set_title(nms[ii])\n",
    "        axs[ii].hlines(y = 0, xmin = np.min(nnpreds_unscaled[:,ii]), \n",
    "                       xmax = np.max(nnpreds_unscaled[:,ii]), linestyle =  \"--\", linewidth = 1)\n",
    "    except:\n",
    "        pass\n",
    "    if ii == 7:\n",
    "        axs[ii].set_visible(False)\n",
    "        \n",
    "fig.savefig(os.path.join(figDir, \"residual_Hexbin_NovelData.png\"), dpi = 120, bbox_inches='tight')"
   ]
  },
  {
   "cell_type": "code",
   "execution_count": null,
   "metadata": {},
   "outputs": [],
   "source": [
    "# residual plots\n",
    "plt.close(\"all\")\n",
    "fig, axs = plt.subplots(2,4, figsize=(15, 10), facecolor='w', edgecolor='k')\n",
    "fig.subplots_adjust(hspace = 0.3, wspace=0.3)\n",
    "fig.suptitle('Residual Plots for novel initial conditions \\n from same distribution as original data', fontsize=14, fontweight='bold')\n",
    "\n",
    "axs = axs.ravel()\n",
    "\n",
    "nms = Y.columns\n",
    "\n",
    "# replace lightest colors with white\n",
    "import matplotlib.colors\n",
    "\n",
    "cmap = plt.cm.magma_r\n",
    "cmaplist = np.array([cmap(i) for i in range(cmap.N)])\n",
    "cmaplist[:,0:3] = np.divide(cmaplist[:, 0:3], 1.1)\n",
    "cmaplist[0] = (1,1,1,0.5)\n",
    "cmap = matplotlib.colors.LinearSegmentedColormap.from_list('mcm',cmaplist, cmap.N)\n",
    "\n",
    "for ii in range(len(Y.columns) + 1):\n",
    "    # read in image\n",
    "    \n",
    "    try:\n",
    "        axs[ii].scatter(y = YTEST.iloc[:,ii] - nnpreds_unscaled[:,ii],x = nnpreds_unscaled[:,ii], s = 1, alpha = 0.1 )\n",
    "        axs[ii].set_xlabel(\"Predicted Value\\n(unscaled)\")\n",
    "        if(ii == 0):\n",
    "            axs[ii].set_ylabel(\"Actual Value\\n(unscaled)\")\n",
    "        axs[ii].set_title(nms[ii])\n",
    "        axs[ii].hlines(y = 0, xmin = np.min(nnpreds_unscaled[:,ii]), \n",
    "                       xmax = np.max(nnpreds_unscaled[:,ii]), linestyle =  \"--\", linewidth = 1)\n",
    "    except:\n",
    "        pass\n",
    "    if ii == 7:\n",
    "        axs[ii].set_visible(False)\n",
    "        \n",
    "fig.savefig(os.path.join(figDir, \"residual_scatter_NovelData.png\"), dpi = 120, bbox_inches='tight')"
   ]
  },
  {
   "cell_type": "markdown",
   "metadata": {},
   "source": [
    "# predict path for last 4 datafiles and compare to original"
   ]
  },
  {
   "cell_type": "code",
   "execution_count": null,
   "metadata": {},
   "outputs": [],
   "source": [
    "dataFiles[-4:]"
   ]
  },
  {
   "cell_type": "code",
   "execution_count": null,
   "metadata": {},
   "outputs": [],
   "source": [
    "# dfList = []\n",
    "\n",
    "# for dataFile in dataFiles:\n",
    "#     bf2 = pd.read_hdf(dataFile, \"data\")\n",
    "#     bf2[['simNum', 'timestep']] = bf2[['simNum', 'timestep']].astype(int)\n",
    "#     bf2['count'] = bf2.groupby([\"simNum\", \"timestep\"]).cumcount()\n",
    "#     sdf = bf2.loc[(bf2[\"count\"] == 0) | (bf2[\"count\"] == 99), :]\n",
    "#     ss = sdf.pivot_table(index=['simNum', 'timestep'], columns = \"count\",aggfunc='first')\n",
    "#     ss.columns = [f'{i}_{j}' if j != '' else f'{i}' for i,j in ss.columns]\n",
    "#     ss.reset_index(inplace=True) \n",
    "#     dfList.append(ss)\n",
    "#     print(dataFile)"
   ]
  },
  {
   "cell_type": "code",
   "execution_count": null,
   "metadata": {},
   "outputs": [],
   "source": [
    "bf2 = pd.read_hdf(dataFiles[-1], \"data\")"
   ]
  },
  {
   "cell_type": "code",
   "execution_count": null,
   "metadata": {},
   "outputs": [],
   "source": [
    "bf2.head()"
   ]
  },
  {
   "cell_type": "code",
   "execution_count": null,
   "metadata": {},
   "outputs": [],
   "source": [
    "dataDir"
   ]
  },
  {
   "cell_type": "code",
   "execution_count": null,
   "metadata": {},
   "outputs": [],
   "source": [
    "Qmat = scipy.io.loadmat(os.path.join(dataDir, \"Qstore_6_hws_am_con\"+ \".mat\"))"
   ]
  },
  {
   "cell_type": "code",
   "execution_count": null,
   "metadata": {},
   "outputs": [],
   "source": [
    "for timestep in range(100):\n",
    "    if np.mod(timestep, 10) == 0: \n",
    "        print(timestep)\n",
    "    vals = Qmat['Qstore'][timestep,0] #<-- set the array you want to access. \n",
    "    keys = Qmat['Qstore'][timestep,0].dtype.descr\n",
    "    keys = np.array(keys)[:, 0]\n",
    "\n",
    "# Assemble the keys and values into variables with the same name as that used in MATLAB\n",
    "for i in range(len(keys)):\n",
    "    key = keys[i]\n",
    "    val = np.squeeze(vals[key][0])  # squeeze is used to covert matlat (1,n) arrays into numpy (1,) arrays. \n",
    "    exec(key + '=val')\n"
   ]
  },
  {
   "cell_type": "code",
   "execution_count": null,
   "metadata": {},
   "outputs": [],
   "source": [
    "keys"
   ]
  },
  {
   "cell_type": "code",
   "execution_count": null,
   "metadata": {},
   "outputs": [],
   "source": [
    "stt = time.time()\n",
    "tt = np.zeros((100, 15))\n",
    "bigF = np.zeros((100*2500*100, 15))\n",
    "ctr = 0\n",
    "for timestep in range(20):\n",
    "    if np.mod(timestep, 10) == 0: \n",
    "        print(timestep)\n",
    "    vals = Qmat['Qstore'][timestep,0] #<-- set the array you want to access. \n",
    "    keys = Qmat['Qstore'][timestep,0].dtype.descr\n",
    "    keys = np.array(keys)[:, 0]\n",
    "\n",
    "    # Assemble the keys and values into variables with the same name as that used in MATLAB\n",
    "    for i in range(len(keys)):\n",
    "        key = keys[i]\n",
    "        val = np.squeeze(vals[key][0])  # squeeze is used to covert matlat (1,n) arrays into numpy (1,) arrays. \n",
    "        exec(key + '=val')\n",
    "\n",
    "    for simNum in range(2500):\n",
    "        #print(timestep, simNum)\n",
    "        ttRows = tt.shape[0]\n",
    "        tt[:, 0:8] = vals[\"bigQ\"][0, simNum]\n",
    "        tt[:, [8]] = np.repeat(np.concatenate(vals[\"F\"][0]).ravel()[simNum], ttRows).reshape(-1,1)\n",
    "        tt[:, [9]] = np.repeat(np.concatenate(vals[\"alpha\"][0]).ravel()[simNum], ttRows).reshape(-1,1)\n",
    "        tt[:, [10]] = np.repeat(np.concatenate(vals[\"tau0\"][0]).ravel()[simNum], ttRows).reshape(-1,1)\n",
    "        tt[:, [11]] =  np.repeat(simNum, ttRows).reshape(-1,1)\n",
    "        tt[:, [12]] = np.repeat(timestep, ttRows).reshape(-1,1)\n",
    "        tt[:, [13]] = np.repeat(np.concatenate(vals[\"cost\"][0]).ravel()[simNum], ttRows).reshape(-1,1)\n",
    "        tt[:, [14]] =  np.arange(0, ttRows).reshape(-1,1)\n",
    "        bigF[ctr:ctr+ttRows, :] = tt\n",
    "        ctr += ttRows\n",
    "\n",
    "print(time.time() - stt )\n"
   ]
  },
  {
   "cell_type": "code",
   "execution_count": null,
   "metadata": {},
   "outputs": [],
   "source": [
    "tt2 = pd.DataFrame(bigF, columns=[\"x\", \"y\", \"theta\", \"phi\", \"x_dot\", \"y_dot\", \"theta_dot\", \"phi_dot\", \n",
    "                                       \"F\", \"alpha\", \"tau\", \"simNum\", \"timestep\", \"cost\", \"microStepNum\"])"
   ]
  },
  {
   "cell_type": "code",
   "execution_count": null,
   "metadata": {},
   "outputs": [],
   "source": [
    "tt2.head()"
   ]
  },
  {
   "cell_type": "code",
   "execution_count": null,
   "metadata": {},
   "outputs": [],
   "source": [
    "# find minimum cost for each timestep\n",
    "\n",
    "#remove 0's\n",
    "tt2 = tt2.loc[~(tt2==0).all(axis=1)]\n",
    "\n",
    "tt2.shape"
   ]
  },
  {
   "cell_type": "code",
   "execution_count": null,
   "metadata": {},
   "outputs": [],
   "source": [
    "tmp = tt2.loc[tt2.groupby([\"timestep\"])[\"cost\"].idxmin(), :]\n",
    "tmp"
   ]
  },
  {
   "cell_type": "code",
   "execution_count": null,
   "metadata": {},
   "outputs": [],
   "source": [
    "t3 = tt2.loc[tt2.cost.isin(tmp.cost),:].copy()"
   ]
  },
  {
   "cell_type": "code",
   "execution_count": null,
   "metadata": {},
   "outputs": [],
   "source": [
    "t3.head()"
   ]
  },
  {
   "cell_type": "code",
   "execution_count": null,
   "metadata": {},
   "outputs": [],
   "source": [
    "t3.shape"
   ]
  },
  {
   "cell_type": "code",
   "execution_count": null,
   "metadata": {},
   "outputs": [],
   "source": [
    "tt2.shape"
   ]
  },
  {
   "cell_type": "code",
   "execution_count": null,
   "metadata": {},
   "outputs": [],
   "source": []
  },
  {
   "cell_type": "code",
   "execution_count": null,
   "metadata": {},
   "outputs": [],
   "source": [
    "t4 = tt2.sort_values(\"cost\")"
   ]
  },
  {
   "cell_type": "code",
   "execution_count": null,
   "metadata": {},
   "outputs": [],
   "source": [
    "# t4.groupby(\"cost\").count()"
   ]
  },
  {
   "cell_type": "code",
   "execution_count": null,
   "metadata": {},
   "outputs": [],
   "source": [
    "fig = plt.figure()\n",
    "ax = fig.add_subplot(111)\n",
    "ax.plot(t3.x, t3.y)\n",
    "ax.set_aspect('equal', 'datalim')"
   ]
  },
  {
   "cell_type": "code",
   "execution_count": null,
   "metadata": {},
   "outputs": [],
   "source": [
    "t3.reset_index(inplace = True)\n",
    "fig = plt.figure()\n",
    "ax = fig.add_subplot(111)\n",
    "ax.scatter(y = t3.y, x = t3.reset_index().index)\n",
    "#ax.set_aspect('equal', 'datalim')"
   ]
  },
  {
   "cell_type": "code",
   "execution_count": null,
   "metadata": {},
   "outputs": [],
   "source": [
    "# plot nnet predictions over the top\n",
    "t3.loc[:,['simNum', 'timestep']] = t3.loc[:,['simNum', 'timestep']].astype(int).copy()"
   ]
  },
  {
   "cell_type": "code",
   "execution_count": null,
   "metadata": {},
   "outputs": [],
   "source": [
    "t3['count'] = t3.groupby([\"simNum\", \"timestep\"]).cumcount().copy()\n",
    "sdf = t3.loc[(t3[\"count\"] == 0) | (t3[\"count\"] == 99), :].copy()\n",
    "ss = sdf.pivot_table(index=['simNum', 'timestep'], columns = \"count\",aggfunc='first').copy()\n",
    "ss.columns = [f'{i}_{j}' if j != '' else f'{i}' for i,j in ss.columns]\n",
    "ss.reset_index(inplace=True) \n",
    "ss.head()"
   ]
  },
  {
   "cell_type": "code",
   "execution_count": null,
   "metadata": {},
   "outputs": [],
   "source": [
    "ss[\"y_0\"]"
   ]
  },
  {
   "cell_type": "code",
   "execution_count": null,
   "metadata": {},
   "outputs": [],
   "source": [
    "fig = plt.figure()\n",
    "ax = fig.add_subplot(111)\n",
    "ss.sort_values(\"timestep\", inplace=True)\n",
    "ss.reset_index(inplace = True, drop = True)\n",
    "ax.scatter(y = ss.y_0, x = ss.timestep)\n",
    "ax.scatter(y = ss.y_99, x = ss.timestep + 1)"
   ]
  },
  {
   "cell_type": "code",
   "execution_count": null,
   "metadata": {},
   "outputs": [],
   "source": [
    "# predict\n",
    "\n",
    "# clean data\n",
    "ss = ss.drop(columns=['F_99', 'alpha_99', \n",
    "                               'tau_99'])\n",
    "ss=ss.rename(columns = {'F_0':'F', \n",
    "                                 \"alpha_0\": \"alpha\", \n",
    "                                 \"tau_0\": \"tau\"})"
   ]
  },
  {
   "cell_type": "code",
   "execution_count": null,
   "metadata": {},
   "outputs": [],
   "source": [
    "# convert to Fx and Fy\n",
    "ss[\"Fx\"] = ss.F * np.cos(ss.alpha)\n",
    "ss[\"Fy\"] = ss.F * np.sin(ss.alpha)\n",
    "\n",
    "# make dataset\n",
    "XTEST_traj = ss.loc[:, [\"x_0\", \"y_0\", \"phi_0\", \"theta_0\", \n",
    "                    \"x_99\", \"y_99\", \"phi_99\", \"theta_99\", \n",
    "                   \"x_dot_0\", \"y_dot_0\", \"phi_dot_0\", \"theta_dot_0\"]]\n",
    "\n",
    "YTEST_traj = ss.loc[:, [\"Fx\", \"Fy\", \"tau\", \"x_dot_99\", \"y_dot_99\", \n",
    "                    \"phi_dot_99\", \"theta_dot_99\"] ]\n",
    "\n",
    "\n",
    "# scale\n",
    "XTEST_traj_sc = scalerX.transform(XTEST_traj)\n",
    "YTEST_traj_sc = scalerY.transform(YTEST_traj)\n"
   ]
  },
  {
   "cell_type": "code",
   "execution_count": null,
   "metadata": {},
   "outputs": [],
   "source": [
    "# predict\n",
    "sc_preds = model.predict(XTEST_traj_sc)"
   ]
  },
  {
   "cell_type": "code",
   "execution_count": null,
   "metadata": {},
   "outputs": [],
   "source": [
    "# rescale\n",
    "preds_unsc = scalerY.inverse_transform(sc_preds)"
   ]
  },
  {
   "cell_type": "code",
   "execution_count": null,
   "metadata": {},
   "outputs": [],
   "source": [
    "# show predictions\n",
    "pd.DataFrame(preds_unsc, columns = YTEST_traj.columns).head()"
   ]
  },
  {
   "cell_type": "code",
   "execution_count": null,
   "metadata": {},
   "outputs": [],
   "source": [
    "# show actual\n",
    "YTEST_traj.head()"
   ]
  },
  {
   "cell_type": "code",
   "execution_count": null,
   "metadata": {},
   "outputs": [],
   "source": [
    "XTEST_traj.head()"
   ]
  },
  {
   "cell_type": "code",
   "execution_count": null,
   "metadata": {},
   "outputs": [],
   "source": [
    "freq = 1/25\n",
    "timesteps = np.arange(0, 20)\n",
    "\n",
    "goal = 10*np.sin(2*np.pi*freq * timesteps)\n",
    "\n",
    "# goal deriv\n",
    "goalD = 4/5*np.pi *np.cos(2*np.pi*freq * timesteps)\n",
    "\n",
    "\n",
    "plt.scatter(y = goal, x = timesteps)\n",
    "plt.scatter(y = goalD, x = timesteps)\n",
    "plt.hlines(y = 0, xmin = 0, xmax = 20)\n",
    "#plt.scatter(y = ss.y_0, x = ss.timestep)"
   ]
  },
  {
   "cell_type": "code",
   "execution_count": null,
   "metadata": {},
   "outputs": [],
   "source": [
    "# goal deriv\n",
    "goalD = 4/5*np.pi *np.cos(2*np.pi*freq * timesteps)"
   ]
  },
  {
   "cell_type": "code",
   "execution_count": null,
   "metadata": {},
   "outputs": [],
   "source": [
    "XTEST_traj.head()"
   ]
  },
  {
   "cell_type": "code",
   "execution_count": null,
   "metadata": {},
   "outputs": [],
   "source": [
    "# create input data\n",
    "theta_goal = np.pi / 4\n",
    "phi_goal = np.pi / 4 + np.pi\n",
    "\n",
    "timstep = 0\n",
    "inputData = np.array([0, goal[timstep], phi_goal, theta_goal, \n",
    "             0, goal[timstep + 1], phi_goal, theta_goal,\n",
    "            0.0001, 0.0001, 0, 0 ]).reshape(1,-1)\n",
    "\n",
    "#inputData2 = scalerX.transform(XTEST_traj.head())\n",
    "inputData2 = scalerX.transform(inputData)\n",
    "pd.DataFrame(inputData2, columns = XTEST_traj.columns)"
   ]
  },
  {
   "cell_type": "code",
   "execution_count": null,
   "metadata": {},
   "outputs": [],
   "source": [
    "nnpreds2 = pd.DataFrame(scalerY.inverse_transform(model.predict(inputData2)), columns = YTEST_traj.columns)"
   ]
  },
  {
   "cell_type": "code",
   "execution_count": null,
   "metadata": {},
   "outputs": [],
   "source": [
    "newDF = pd.concat([pd.DataFrame(inputData, columns = XTEST_traj.columns), nnpreds2], axis = 1)"
   ]
  },
  {
   "cell_type": "code",
   "execution_count": null,
   "metadata": {},
   "outputs": [],
   "source": [
    "for timstep in np.arange(0,16): \n",
    "    newDF = newDF.append(newDF.iloc[timstep,:]).reset_index(drop = True)\n",
    "    newDF.loc[timstep+1, ['x_0', 'y_0', 'phi_0', 'theta_0']] = np.array(newDF.loc[timstep, ['x_99', 'y_99', 'phi_99', 'theta_99']])\n",
    "    newDF.loc[timstep+1, ['x_99', 'y_99', 'phi_99', 'theta_99']] = np.array([0, goal[timstep + 2], phi_goal, theta_goal])\n",
    "    newDF.loc[timstep+1, ['x_dot_0', 'y_dot_0', 'phi_dot_0', 'theta_dot_0']] = np.array(newDF.loc[timstep, ['x_dot_99', 'y_dot_99', 'phi_dot_99', 'theta_dot_99']])\n",
    "    inputData = np.array(newDF.loc[timstep + 1,list(XTEST_traj.columns)]).reshape(1,-1)\n",
    "    inputData2 = scalerX.transform(inputData)\n",
    "\n",
    "    newDF.loc[timstep + 1, list(YTEST_traj.columns)] = scalerY.inverse_transform(model.predict(inputData2))"
   ]
  },
  {
   "cell_type": "code",
   "execution_count": null,
   "metadata": {},
   "outputs": [],
   "source": [
    "newDF"
   ]
  },
  {
   "cell_type": "code",
   "execution_count": null,
   "metadata": {},
   "outputs": [],
   "source": [
    "# convert to F and alpha \n",
    "\n",
    "# calculate alpha\n",
    "def quadrant(Fx, Fy):\n",
    "    if (Fx >= 0) & (Fy >= 0):\n",
    "        q = 1\n",
    "    elif (Fx < 0) & (Fy >= 0):\n",
    "        q = 2\n",
    "    elif (Fx < 0) & (Fy < 0):\n",
    "        q = 3\n",
    "    elif (Fx >= 0) & (Fy < 0):\n",
    "        q = 4\n",
    "    else:\n",
    "        q = 999999\n",
    "    return(q)\n",
    "\n",
    "\n",
    "def angleCalc(Fx, Fy, q):\n",
    "    fx = np.abs(Fx)\n",
    "    fy = np.abs(Fy)\n",
    "    \n",
    "    if q == 1:\n",
    "        alpha = np.arctan(fy/fx)\n",
    "    elif q == 2:\n",
    "        alpha = np.pi - np.arctan(fy/fx)\n",
    "    elif q == 3: \n",
    "        alpha = np.pi + np.arctan(fy/fx)\n",
    "    elif q == 4:\n",
    "        alpha = (2*np.pi) - np.arctan(fy/fx)\n",
    "    return(alpha)\n",
    "\n",
    "def AlphaAndForceCalc (df = newDF, FX_name = \"Fx\", FY_name = \"Fy\"):\n",
    "    quadrantNum = [quadrant(fx, fy) for fx,fy in zip(df[FX_name], df[FY_name])]\n",
    "    df[\"alphaCalc\"] = [angleCalc(fx, fy, q) for fx, fy, q in zip(df[FX_name], df[FY_name], quadrantNum)]\n",
    "    df[\"F\"] = np.sqrt(df[FX_name]**2 + df[FY_name]**2)\n",
    "    return(df)\n",
    "\n",
    "# calculate F\n",
    "\n",
    "df2 = AlphaAndForceCalc()"
   ]
  },
  {
   "cell_type": "code",
   "execution_count": null,
   "metadata": {},
   "outputs": [],
   "source": [
    "df2"
   ]
  },
  {
   "cell_type": "code",
   "execution_count": null,
   "metadata": {},
   "outputs": [],
   "source": [
    "df2.to_csv(os.path.join(dataOutput, \"predictPartPath_allCols.csv\"), index = False)"
   ]
  },
  {
   "cell_type": "code",
   "execution_count": null,
   "metadata": {},
   "outputs": [],
   "source": [
    "# make smaller version\n",
    "df2.drop([\"Fx\", \"Fy\"], axis = 1, inplace = True)\n",
    "df2.rename({\"alphaCalc\": \"alpha\"}, axis = 1, inplace = True)\n",
    "df2"
   ]
  },
  {
   "cell_type": "code",
   "execution_count": null,
   "metadata": {},
   "outputs": [],
   "source": [
    "df2.columns"
   ]
  },
  {
   "cell_type": "code",
   "execution_count": null,
   "metadata": {},
   "outputs": [],
   "source": [
    "# change column order\n",
    "\n",
    "ddf1 = df2.pop(\"alpha\")\n",
    "df2['alpha'] = ddf1\n",
    "df1 = df2.pop('tau')\n",
    "df2['tau'] = df1\n",
    "df2"
   ]
  },
  {
   "cell_type": "code",
   "execution_count": null,
   "metadata": {},
   "outputs": [],
   "source": [
    "df2.to_csv(os.path.join(dataOutput, \"predictPartPath_small.csv\"), index = False)"
   ]
  },
  {
   "cell_type": "code",
   "execution_count": null,
   "metadata": {},
   "outputs": [],
   "source": [
    "dataOutput"
   ]
  },
  {
   "cell_type": "code",
   "execution_count": null,
   "metadata": {},
   "outputs": [],
   "source": []
  },
  {
   "cell_type": "code",
   "execution_count": null,
   "metadata": {},
   "outputs": [],
   "source": []
  },
  {
   "cell_type": "code",
   "execution_count": null,
   "metadata": {},
   "outputs": [],
   "source": []
  },
  {
   "cell_type": "code",
   "execution_count": null,
   "metadata": {},
   "outputs": [],
   "source": [
    "YTEST_traj.head()"
   ]
  },
  {
   "cell_type": "code",
   "execution_count": null,
   "metadata": {},
   "outputs": [],
   "source": [
    "newDF = newDF.loc[0:YTEST_traj.shape[0], YTEST_traj.columns]\n",
    "\n",
    "newDF.head()"
   ]
  },
  {
   "cell_type": "code",
   "execution_count": null,
   "metadata": {},
   "outputs": [],
   "source": [
    "plt.scatter(YTEST_traj.Fx, newDF.Fx)"
   ]
  },
  {
   "cell_type": "code",
   "execution_count": null,
   "metadata": {},
   "outputs": [],
   "source": [
    "plt.scatter(YTEST_traj.Fy, newDF.Fy)"
   ]
  },
  {
   "cell_type": "code",
   "execution_count": null,
   "metadata": {},
   "outputs": [],
   "source": [
    "plt.plot(YTEST_traj.Fx- newDF.Fx)"
   ]
  },
  {
   "cell_type": "code",
   "execution_count": null,
   "metadata": {},
   "outputs": [],
   "source": [
    "plt.plot(YTEST_traj.Fy- newDF.Fy)"
   ]
  },
  {
   "cell_type": "code",
   "execution_count": null,
   "metadata": {},
   "outputs": [],
   "source": []
  },
  {
   "cell_type": "code",
   "execution_count": null,
   "metadata": {},
   "outputs": [],
   "source": []
  },
  {
   "cell_type": "code",
   "execution_count": null,
   "metadata": {},
   "outputs": [],
   "source": []
  },
  {
   "cell_type": "code",
   "execution_count": null,
   "metadata": {},
   "outputs": [],
   "source": []
  },
  {
   "cell_type": "code",
   "execution_count": null,
   "metadata": {},
   "outputs": [],
   "source": []
  },
  {
   "cell_type": "code",
   "execution_count": null,
   "metadata": {},
   "outputs": [],
   "source": []
  },
  {
   "cell_type": "code",
   "execution_count": null,
   "metadata": {},
   "outputs": [],
   "source": []
  },
  {
   "cell_type": "code",
   "execution_count": null,
   "metadata": {},
   "outputs": [],
   "source": [
    "# convert Fx and Fy back to F and alpha"
   ]
  },
  {
   "cell_type": "code",
   "execution_count": null,
   "metadata": {},
   "outputs": [],
   "source": [
    "# calculate mean squared error"
   ]
  },
  {
   "cell_type": "code",
   "execution_count": null,
   "metadata": {},
   "outputs": [],
   "source": [
    "from sklearn.metrics import mean_squared_error\n",
    "\n",
    "from sklearn.metrics import r2_score"
   ]
  },
  {
   "cell_type": "code",
   "execution_count": null,
   "metadata": {},
   "outputs": [],
   "source": [
    "for ii in range(len(nms)):\n",
    "    #np.sqrt(mean_squared_error(Ytest.iloc[0:1000,ii], nnpreds_unscaled[:,ii]))\n",
    "    print(r2_score(Ytest.iloc[0:1000,ii], nnpreds_unscaled[:,ii]), nms[ii])"
   ]
  },
  {
   "cell_type": "code",
   "execution_count": null,
   "metadata": {},
   "outputs": [],
   "source": [
    "plt.scatter(nnpreds_unscaled[:,ii],Ytest.iloc[0:1000,ii]-  nnpreds_unscaled[:,ii])"
   ]
  },
  {
   "cell_type": "code",
   "execution_count": null,
   "metadata": {},
   "outputs": [],
   "source": [
    "# predict on holdout data (novel initial conditions)\n",
    "nnpreds = model.predict(XTEST_scaled)\n",
    "\n",
    "nnpreds_unscaled = scalerY.inverse_transform(nnpreds)"
   ]
  },
  {
   "cell_type": "code",
   "execution_count": null,
   "metadata": {},
   "outputs": [],
   "source": [
    "XTEST_scaled.shape"
   ]
  },
  {
   "cell_type": "code",
   "execution_count": null,
   "metadata": {},
   "outputs": [],
   "source": [
    "YTEST.shape"
   ]
  },
  {
   "cell_type": "code",
   "execution_count": null,
   "metadata": {},
   "outputs": [],
   "source": [
    "plt.close(\"all\")\n",
    "fig, axs = plt.subplots(2,4, figsize=(15, 10), facecolor='w', edgecolor='k')\n",
    "fig.subplots_adjust(hspace = 0.3, wspace=0.3)\n",
    "fig.suptitle('Predicted vs. acutal ', fontsize=14, fontweight='bold')\n",
    "\n",
    "axs = axs.ravel()\n",
    "\n",
    "nms = Y.columns\n",
    "\n",
    "# replace lightest colors with white\n",
    "import matplotlib.colors\n",
    "\n",
    "cmap = plt.cm.magma_r\n",
    "cmaplist = np.array([cmap(i) for i in range(cmap.N)])\n",
    "#cmaplist[0:2] = np.repeat((0.0,0.0,0.0,0.0), 2).reshape(-1,4)\n",
    "cmaplist[:,0:3] = np.divide(cmaplist[:, 0:3], 1.1)\n",
    "#cmaplist[:,0:3] = np.transpose(np.vstack([np.linspace(1, 0, 256), np.linspace(1, 0, 256), np.linspace(1, 0, 256)]))\n",
    "cmaplist[0] = (1,1,1,0.5)\n",
    "cmap = matplotlib.colors.LinearSegmentedColormap.from_list('mcm',cmaplist, cmap.N)\n",
    "\n",
    "for ii in range(len(Y.columns)):\n",
    "    # read in image\n",
    "    \n",
    "    try:\n",
    "        axs[ii].hexbin(y = YTEST.iloc[:,ii],x = nnpreds_unscaled[:,ii], gridsize = 150, cmap = cmap)\n",
    "        axs[ii].set_xlabel(\"Predicted Value\\n(unscaled)\")\n",
    "        if(ii == 0):\n",
    "            axs[ii].set_ylabel(\"Actual Value\\n(unscaled)\")\n",
    "        axs[ii].set_title(nms[ii])\n",
    "        axs[ii].plot(YTEST.iloc[:,ii], YTEST.iloc[:,ii], 'grey', linewidth = 1, linestyle  = \"--\")\n",
    "    except:\n",
    "        pass\n",
    "\n",
    "# fig.savefig(os.path.join(figDir, \"NNPreds_newData_control_bigbatch_FxFy_hexbin_loadedModel.png\"), dpi = 120, bbox_inches='tight')"
   ]
  },
  {
   "cell_type": "code",
   "execution_count": null,
   "metadata": {},
   "outputs": [],
   "source": [
    "# residual plots\n",
    "plt.close(\"all\")\n",
    "fig, axs = plt.subplots(2,4, figsize=(15, 10), facecolor='w', edgecolor='k')\n",
    "fig.subplots_adjust(hspace = 0.3, wspace=0.3)\n",
    "fig.suptitle('Predicted vs. acutal ', fontsize=14, fontweight='bold')\n",
    "\n",
    "axs = axs.ravel()\n",
    "\n",
    "nms = Y.columns\n",
    "\n",
    "# replace lightest colors with white\n",
    "import matplotlib.colors\n",
    "\n",
    "cmap = plt.cm.magma_r\n",
    "cmaplist = np.array([cmap(i) for i in range(cmap.N)])\n",
    "cmaplist[:,0:3] = np.divide(cmaplist[:, 0:3], 1.1)\n",
    "cmaplist[0] = (1,1,1,0.5)\n",
    "cmap = matplotlib.colors.LinearSegmentedColormap.from_list('mcm',cmaplist, cmap.N)\n",
    "\n",
    "for ii in range(len(Y.columns)):\n",
    "    # read in image\n",
    "    \n",
    "    try:\n",
    "        axs[ii].hexbin(y = YTEST.iloc[:,ii] - nnpreds_unscaled[:,ii],x = nnpreds_unscaled[:,ii], gridsize = 150, cmap = cmap)\n",
    "        axs[ii].set_xlabel(\"Predicted Value\\n(unscaled)\")\n",
    "        if(ii == 0):\n",
    "            axs[ii].set_ylabel(\"Residuals\\n(unscaled)\")\n",
    "        axs[ii].set_title(nms[ii])\n",
    "        axs[ii].hlines(y = 0, xmin = np.min(nnpreds_unscaled[:,ii]), \n",
    "                       xmax = np.max(nnpreds_unscaled[:,ii]), linestyle =  \"--\", linewidth = 1)\n",
    "    except:\n",
    "        pass\n"
   ]
  },
  {
   "cell_type": "code",
   "execution_count": null,
   "metadata": {},
   "outputs": [],
   "source": [
    "# see how many initial conditions are in the TEST Set\n"
   ]
  },
  {
   "cell_type": "code",
   "execution_count": null,
   "metadata": {},
   "outputs": [],
   "source": [
    "XTEST.iloc[:, 0:4].drop_duplicates().shape"
   ]
  },
  {
   "cell_type": "code",
   "execution_count": null,
   "metadata": {},
   "outputs": [],
   "source": [
    "X.iloc[:,0:4].drop_duplicates().shape"
   ]
  },
  {
   "cell_type": "code",
   "execution_count": null,
   "metadata": {},
   "outputs": [],
   "source": []
  },
  {
   "cell_type": "code",
   "execution_count": null,
   "metadata": {},
   "outputs": [],
   "source": [
    "df1 = pd.DataFrame({\"A\": [4,5,5,6,6,5,5], \n",
    "                   \"B\": [4,3,3,5,5,3,3], \n",
    "                   \"C\": [3,4,4,6,7,4,4], \n",
    "                   \"D\": [6,8,2,6,4,2,2]})\n",
    "df1[\"NM\"] = \"df1\"\n",
    "\n",
    "\n",
    "df2 = pd.DataFrame({\"A\": [4,5,5], \n",
    "                   \"B\": [4,3,3], \n",
    "                   \"C\": [4,4,4], \n",
    "                   \"D\": [7,2,2]})\n",
    "\n",
    "df2[\"NM\"] = \"df2\""
   ]
  },
  {
   "cell_type": "code",
   "execution_count": null,
   "metadata": {},
   "outputs": [],
   "source": [
    "df1"
   ]
  },
  {
   "cell_type": "code",
   "execution_count": null,
   "metadata": {},
   "outputs": [],
   "source": [
    "df2"
   ]
  },
  {
   "cell_type": "code",
   "execution_count": null,
   "metadata": {},
   "outputs": [],
   "source": [
    "pd.merge(df1, df2, on = ['A', 'B', 'C', 'D'], how = \"inner\")"
   ]
  },
  {
   "cell_type": "code",
   "execution_count": null,
   "metadata": {},
   "outputs": [],
   "source": []
  },
  {
   "cell_type": "code",
   "execution_count": null,
   "metadata": {},
   "outputs": [],
   "source": []
  },
  {
   "cell_type": "code",
   "execution_count": null,
   "metadata": {},
   "outputs": [],
   "source": []
  },
  {
   "cell_type": "code",
   "execution_count": null,
   "metadata": {},
   "outputs": [],
   "source": []
  },
  {
   "cell_type": "code",
   "execution_count": null,
   "metadata": {},
   "outputs": [],
   "source": []
  },
  {
   "cell_type": "code",
   "execution_count": null,
   "metadata": {},
   "outputs": [],
   "source": []
  },
  {
   "cell_type": "code",
   "execution_count": null,
   "metadata": {},
   "outputs": [],
   "source": []
  },
  {
   "cell_type": "code",
   "execution_count": null,
   "metadata": {},
   "outputs": [],
   "source": [
    "TestPreds = pd.DataFrame(nnpreds_unscaled, columns = Y.columns)\n",
    "TestPreds.head()"
   ]
  },
  {
   "cell_type": "code",
   "execution_count": null,
   "metadata": {},
   "outputs": [],
   "source": [
    "TestInput = pd.DataFrame(Xtest, columns = X.columns).reset_index(drop = True)\n",
    "TestInput.head()"
   ]
  },
  {
   "cell_type": "code",
   "execution_count": null,
   "metadata": {},
   "outputs": [],
   "source": [
    "# F will be the same in any quadrant\n",
    "\n",
    "TestPreds[\"F\"] = np.sqrt(TestPreds[\"Fx\"]**2 + TestPreds[\"Fy\"]**2)\n",
    "\n",
    "# trainDF[\"Fx\"] = trainDF.F * np.cos(trainDF.alpha)\n",
    "# trainDF[\"Fy\"] = trainDF.F * np.sin(trainDF.alpha)"
   ]
  },
  {
   "cell_type": "code",
   "execution_count": null,
   "metadata": {},
   "outputs": [],
   "source": [
    "TestPreds.head()"
   ]
  },
  {
   "cell_type": "code",
   "execution_count": null,
   "metadata": {},
   "outputs": [],
   "source": [
    "# calculate alpha\n",
    "def quadrant(Fx, Fy):\n",
    "    if (Fx >= 0) & (Fy >= 0):\n",
    "        q = 1\n",
    "    elif (Fx < 0) & (Fy >= 0):\n",
    "        q = 2\n",
    "    elif (Fx < 0) & (Fy < 0):\n",
    "        q = 3\n",
    "    elif (Fx >= 0) & (Fy < 0):\n",
    "        q = 4\n",
    "    else:\n",
    "        q = 999999\n",
    "    return(q)\n",
    "\n",
    "\n",
    "def angleCalc(Fx, Fy, q):\n",
    "    fx = np.abs(Fx)\n",
    "    fy = np.abs(Fy)\n",
    "    \n",
    "    if q == 1:\n",
    "        alpha = np.arctan(fy/fx)\n",
    "    elif q == 2:\n",
    "        alpha = np.pi - np.arctan(fy/fx)\n",
    "    elif q == 3: \n",
    "        alpha = np.pi + np.arctan(fy/fx)\n",
    "    elif q == 4:\n",
    "        alpha = (2*np.pi) - np.arctan(fy/fx)\n",
    "    return(alpha)\n"
   ]
  },
  {
   "cell_type": "code",
   "execution_count": null,
   "metadata": {},
   "outputs": [],
   "source": [
    "TestPreds[\"quadrant\"] = [quadrant(fx, fy) for fx,fy in zip(TestPreds[\"Fx\"], TestPreds[\"Fy\"])]"
   ]
  },
  {
   "cell_type": "code",
   "execution_count": null,
   "metadata": {},
   "outputs": [],
   "source": [
    "TestPreds.head()"
   ]
  },
  {
   "cell_type": "code",
   "execution_count": null,
   "metadata": {},
   "outputs": [],
   "source": [
    "TestPreds[\"alpha\"] = [angleCalc(fx, fy, q) for fx, fy, q in zip(TestPreds[\"Fx\"], TestPreds[\"Fy\"], TestPreds[\"quadrant\"])]"
   ]
  },
  {
   "cell_type": "code",
   "execution_count": null,
   "metadata": {},
   "outputs": [],
   "source": [
    "TestPreds.head()"
   ]
  },
  {
   "cell_type": "code",
   "execution_count": null,
   "metadata": {},
   "outputs": [],
   "source": [
    "TestPredsComb = pd.concat([TestPreds, TestInput], axis = 1)"
   ]
  },
  {
   "cell_type": "code",
   "execution_count": null,
   "metadata": {},
   "outputs": [],
   "source": [
    "TestPredsComb.head()"
   ]
  },
  {
   "cell_type": "code",
   "execution_count": null,
   "metadata": {},
   "outputs": [],
   "source": [
    "TestPredsComb.rename(index=str, columns={\"F\": \"F_pred\", \"alpha\": \"alpha_pred\", \"tau\":\"tau_pred\"}, inplace=True)"
   ]
  },
  {
   "cell_type": "code",
   "execution_count": null,
   "metadata": {},
   "outputs": [],
   "source": [
    "TestPredsComb.head()"
   ]
  },
  {
   "cell_type": "code",
   "execution_count": null,
   "metadata": {},
   "outputs": [],
   "source": [
    "TestPredsComb.drop(['Fx', 'Fy', \"quadrant\"], axis=1, inplace = True)\n",
    "TestPredsComb.head()"
   ]
  },
  {
   "cell_type": "code",
   "execution_count": null,
   "metadata": {},
   "outputs": [],
   "source": [
    "cols= ['x_0', 'y_0', 'phi_0', 'theta_0', \n",
    "       'x_dot_0', 'y_dot_0', 'phi_dot_0', 'theta_dot_0', \n",
    "       'F_pred', 'alpha_pred', 'tau_pred', \n",
    "      'x_99', 'y_99', 'phi_99', 'theta_99', \n",
    "      'x_dot_99', 'y_dot_99', 'phi_dot_99', 'theta_dot_99' ]"
   ]
  },
  {
   "cell_type": "code",
   "execution_count": null,
   "metadata": {},
   "outputs": [],
   "source": [
    "tc2 = TestPredsComb.loc[:, cols]\n",
    "tc2.head()"
   ]
  },
  {
   "cell_type": "code",
   "execution_count": null,
   "metadata": {},
   "outputs": [],
   "source": [
    "tc2.rename(columns = {\"x_dot_99\": \"x_dot_99_pred\", \n",
    "                     \"y_dot_99\": \"y_dot_99_pred\", \n",
    "                     \"theta_dot_99\": \"theta_dot_99_pred\", \n",
    "                     \"phi_dot_99\": \"phi_dot_99_pred\"}, inplace = True)\n",
    "tc2.head()"
   ]
  },
  {
   "cell_type": "code",
   "execution_count": null,
   "metadata": {},
   "outputs": [],
   "source": [
    "tc2.to_csv(os.path.join(dataOutput, \"NNpreds.csv\"), index = False)"
   ]
  },
  {
   "cell_type": "code",
   "execution_count": null,
   "metadata": {},
   "outputs": [],
   "source": [
    "tc2.shape"
   ]
  },
  {
   "cell_type": "code",
   "execution_count": null,
   "metadata": {},
   "outputs": [],
   "source": [
    "Xtrain.shape"
   ]
  },
  {
   "cell_type": "code",
   "execution_count": null,
   "metadata": {},
   "outputs": [],
   "source": [
    "\n",
    "tc_sm =  tc2.sample(n=1000, random_state = 902902)\n",
    "tc_sm.to_csv(os.path.join(dataOutput, \"NNpreds_small.csv\"), index = False)"
   ]
  },
  {
   "cell_type": "code",
   "execution_count": null,
   "metadata": {},
   "outputs": [],
   "source": []
  },
  {
   "cell_type": "code",
   "execution_count": null,
   "metadata": {},
   "outputs": [],
   "source": []
  },
  {
   "cell_type": "code",
   "execution_count": null,
   "metadata": {},
   "outputs": [],
   "source": []
  },
  {
   "cell_type": "code",
   "execution_count": null,
   "metadata": {},
   "outputs": [],
   "source": []
  },
  {
   "cell_type": "code",
   "execution_count": null,
   "metadata": {},
   "outputs": [],
   "source": []
  },
  {
   "cell_type": "code",
   "execution_count": null,
   "metadata": {},
   "outputs": [],
   "source": []
  },
  {
   "cell_type": "code",
   "execution_count": null,
   "metadata": {},
   "outputs": [],
   "source": []
  },
  {
   "cell_type": "code",
   "execution_count": null,
   "metadata": {},
   "outputs": [],
   "source": []
  },
  {
   "cell_type": "code",
   "execution_count": null,
   "metadata": {},
   "outputs": [],
   "source": []
  },
  {
   "cell_type": "code",
   "execution_count": null,
   "metadata": {},
   "outputs": [],
   "source": []
  },
  {
   "cell_type": "code",
   "execution_count": null,
   "metadata": {},
   "outputs": [],
   "source": []
  },
  {
   "cell_type": "code",
   "execution_count": null,
   "metadata": {},
   "outputs": [],
   "source": []
  },
  {
   "cell_type": "code",
   "execution_count": null,
   "metadata": {},
   "outputs": [],
   "source": []
  },
  {
   "cell_type": "code",
   "execution_count": null,
   "metadata": {},
   "outputs": [],
   "source": []
  },
  {
   "cell_type": "code",
   "execution_count": null,
   "metadata": {},
   "outputs": [],
   "source": [
    "# check alpha on trainDf\n",
    "trainDF2[\"quadrant\"] = [quadrant(fx, fy) for fx,fy in zip(trainDF2[\"Fx\"], trainDF2[\"Fy\"])]\n",
    "\n",
    "trainDF2[\"alphaCalc\"] = [angleCalc(fx, fy, q) for fx, fy, q in zip(trainDF2[\"Fx\"], trainDF2[\"Fy\"], trainDF2[\"quadrant\"])]"
   ]
  },
  {
   "cell_type": "code",
   "execution_count": null,
   "metadata": {},
   "outputs": [],
   "source": [
    "trainDF2.loc[:, [\"alpha\", \"alphaCalc\"]].head()"
   ]
  },
  {
   "cell_type": "code",
   "execution_count": null,
   "metadata": {},
   "outputs": [],
   "source": []
  },
  {
   "cell_type": "code",
   "execution_count": null,
   "metadata": {},
   "outputs": [],
   "source": []
  },
  {
   "cell_type": "code",
   "execution_count": null,
   "metadata": {},
   "outputs": [],
   "source": []
  },
  {
   "cell_type": "code",
   "execution_count": null,
   "metadata": {},
   "outputs": [],
   "source": [
    "plt.close(\"all\")\n",
    "fig, axs = plt.subplots(2,int(len(Y.columns)/2), figsize=(15, 10), facecolor='w', edgecolor='k')\n",
    "fig.subplots_adjust(hspace = 0.1, wspace=0.3)\n",
    "fig.suptitle('Predicted vs. acutal ', fontsize=14, fontweight='bold')\n",
    "\n",
    "axs = axs.ravel()\n",
    "\n",
    "nms = Y.columns\n",
    "\n",
    "for ii in range(len(Y.columns)):\n",
    "    # read in image\n",
    "    \n",
    "    try:\n",
    "        axs[ii].scatter(y = Ytest.iloc[:,ii],x = nnpreds_unscaled[:,ii], s = 1, alpha = 0.1 )\n",
    "        axs[ii].set_xlabel(\"Predicted Value (un-scaled)\")\n",
    "        if(ii == 0):\n",
    "            axs[ii].set_ylabel(\"Actual Value\\n(un-scaled)\")\n",
    "        axs[ii].set_title(nms[ii])\n",
    "        axs[ii].plot(Ytest.iloc[:,ii], Ytest.iloc[:,ii], 'b')\n",
    "    except:\n",
    "        pass\n",
    "\n",
    "    \n",
    "fig.savefig(os.path.join(figDir, \"NNPreds_newData_control_bigbatch_FxFy.png\"), dpi = 120, bbox_inches='tight')"
   ]
  },
  {
   "cell_type": "code",
   "execution_count": null,
   "metadata": {},
   "outputs": [],
   "source": [
    "Ytest.head()"
   ]
  },
  {
   "cell_type": "code",
   "execution_count": null,
   "metadata": {},
   "outputs": [],
   "source": [
    "Xtest.head()"
   ]
  },
  {
   "cell_type": "code",
   "execution_count": null,
   "metadata": {},
   "outputs": [],
   "source": []
  },
  {
   "cell_type": "code",
   "execution_count": null,
   "metadata": {},
   "outputs": [],
   "source": []
  },
  {
   "cell_type": "code",
   "execution_count": null,
   "metadata": {},
   "outputs": [],
   "source": []
  },
  {
   "cell_type": "code",
   "execution_count": null,
   "metadata": {},
   "outputs": [],
   "source": []
  },
  {
   "cell_type": "code",
   "execution_count": null,
   "metadata": {},
   "outputs": [],
   "source": []
  },
  {
   "cell_type": "code",
   "execution_count": null,
   "metadata": {},
   "outputs": [],
   "source": [
    "# refref: idea - predict whole paths, rather than just the endpoint"
   ]
  },
  {
   "cell_type": "code",
   "execution_count": null,
   "metadata": {},
   "outputs": [],
   "source": [
    "plt.close(\"all\")\n",
    "fig, axs = plt.subplots(1,3, figsize=(15, 5), facecolor='w', edgecolor='k')\n",
    "fig.subplots_adjust(hspace = 0.1, wspace=0.3)\n",
    "fig.suptitle('Predicted vs. acutal ', fontsize=14, fontweight='bold')\n",
    "\n",
    "axs = axs.ravel()\n",
    "\n",
    "nms = [\"Fx\", \"Fy\", \"tau\"]\n",
    "\n",
    "\n",
    "# replace lightest colors with white\n",
    "import matplotlib.colors\n",
    "\n",
    "cmap = plt.cm.magma_r\n",
    "cmaplist = np.array([cmap(i) for i in range(cmap.N)])\n",
    "#cmaplist[0:2] = np.repeat((0.0,0.0,0.0,0.0), 2).reshape(-1,4)\n",
    "cmaplist[:,0:3] = np.divide(cmaplist[:, 0:3], 1.1)\n",
    "#cmaplist[:,0:3] = np.transpose(np.vstack([np.linspace(1, 0, 256), np.linspace(1, 0, 256), np.linspace(1, 0, 256)]))\n",
    "cmaplist[0] = (1,1,1,0.5)\n",
    "cmap = matplotlib.colors.LinearSegmentedColormap.from_list('mcm',cmaplist, cmap.N)\n",
    "\n",
    "for ii in range(3):\n",
    "    # read in image\n",
    "    \n",
    "    try:\n",
    "        axs[ii].hexbin(y = Ytest_scaled[:,ii],x = nnpreds[:,ii], gridsize = 150, cmap = cmap)\n",
    "        axs[ii].set_xlabel(\"Predicted Value (scaled)\")\n",
    "        if(ii == 0):\n",
    "            axs[ii].set_ylabel(\"Actual Value\\n(scaled)\")\n",
    "        axs[ii].set_title(nms[ii])\n",
    "        axs[ii].plot(Ytest_scaled[:,ii], Ytest_scaled[:,ii], 'grey', linewidth = 1, linestyle  = \"--\")\n",
    "    except:\n",
    "        pass\n",
    "\n",
    "fig.savefig(os.path.join(figDir, \"NNPreds_newData_control_bigbatch_FxFy_hexbin.png\"), dpi = 120, bbox_inches='tight')"
   ]
  },
  {
   "cell_type": "code",
   "execution_count": null,
   "metadata": {},
   "outputs": [],
   "source": []
  },
  {
   "cell_type": "code",
   "execution_count": null,
   "metadata": {},
   "outputs": [],
   "source": []
  },
  {
   "cell_type": "code",
   "execution_count": null,
   "metadata": {},
   "outputs": [],
   "source": []
  },
  {
   "cell_type": "code",
   "execution_count": null,
   "metadata": {},
   "outputs": [],
   "source": []
  },
  {
   "cell_type": "code",
   "execution_count": null,
   "metadata": {},
   "outputs": [],
   "source": []
  },
  {
   "cell_type": "code",
   "execution_count": null,
   "metadata": {},
   "outputs": [],
   "source": []
  },
  {
   "cell_type": "code",
   "execution_count": null,
   "metadata": {},
   "outputs": [],
   "source": []
  },
  {
   "cell_type": "code",
   "execution_count": null,
   "metadata": {},
   "outputs": [],
   "source": []
  },
  {
   "cell_type": "code",
   "execution_count": null,
   "metadata": {},
   "outputs": [],
   "source": []
  },
  {
   "cell_type": "code",
   "execution_count": null,
   "metadata": {},
   "outputs": [],
   "source": [
    "bf2[['simNum', 'timestep']] = bf2[['simNum', 'timestep']].astype(int)\n",
    "\n",
    "bf2['count'] = bf2.groupby([\"simNum\", \"timestep\"]).cumcount()\n",
    "\n",
    "bf2.head()\n",
    "\n",
    "bf2.tail()\n",
    "\n",
    "sdf = bf2.loc[(bf2[\"count\"] == 0) | (bf2[\"count\"] == 99), :]\n",
    "sdf.head()\n",
    "\n",
    "ss = sdf.pivot_table(index='simNum', columns = \"count\",aggfunc='first')\n",
    "ss.columns = [f'{i}_{j}' if j != '' else f'{i}' for i,j in ss.columns]\n",
    "ss[\"simNum\"] = ss.index\n",
    "ss.index.name = None\n",
    "ss.head()\n",
    "\n",
    "np.array(ss).shape\n",
    "\n",
    "np.vstack([np.array(ss), np.array(ss)]).shape"
   ]
  },
  {
   "cell_type": "code",
   "execution_count": null,
   "metadata": {},
   "outputs": [],
   "source": []
  }
 ],
 "metadata": {
  "kernelspec": {
   "display_name": "deeplearning",
   "language": "python",
   "name": "deeplearning"
  },
  "language_info": {
   "codemirror_mode": {
    "name": "ipython",
    "version": 3
   },
   "file_extension": ".py",
   "mimetype": "text/x-python",
   "name": "python",
   "nbconvert_exporter": "python",
   "pygments_lexer": "ipython3",
   "version": "3.6.4"
  }
 },
 "nbformat": 4,
 "nbformat_minor": 2
}
