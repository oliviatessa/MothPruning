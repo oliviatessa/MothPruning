{
 "cells": [
  {
   "cell_type": "code",
   "execution_count": 1,
   "metadata": {},
   "outputs": [],
   "source": [
    "import os \n",
    "import pickle \n",
    "import numpy as np\n",
    "import matplotlib.pyplot as plt"
   ]
  },
  {
   "cell_type": "code",
   "execution_count": 2,
   "metadata": {},
   "outputs": [],
   "source": [
    "dataOutput = '/home/olivia/mothML/mothMachineLearning_dataAndFigs/DataOutput/Experiments/'\n",
    "modelsubdir = '2021_04_23__04_10_54'"
   ]
  },
  {
   "cell_type": "code",
   "execution_count": 4,
   "metadata": {},
   "outputs": [],
   "source": [
    "sparseNetsFile = 'sparseNetworks.pkl'\n",
    "sparseNets = pickle.load(open(os.path.join(dataOutput, modelsubdir, sparseNetsFile), 'rb'))"
   ]
  },
  {
   "cell_type": "code",
   "execution_count": 30,
   "metadata": {},
   "outputs": [],
   "source": [
    "numTotal = np.zeros((400,5))\n",
    "\n",
    "for j in range(len(sparseNets)):\n",
    "    net = sparseNets[j]\n",
    "    wts = net[1]\n",
    "    netTotal = []\n",
    "    for i  in range(0, 10, 2):\n",
    "        numNonZero = np.count_nonzero(wts[i])\n",
    "        netTotal.append(numNonZero)\n",
    "    numTotal[j][:] = netTotal\n",
    "        "
   ]
  },
  {
   "cell_type": "code",
   "execution_count": 31,
   "metadata": {},
   "outputs": [
    {
     "data": {
      "text/plain": [
       "array([[3.1900e+02, 1.2799e+04, 1.2799e+04, 5.1100e+02, 1.0000e+01],\n",
       "       [2.8400e+02, 1.1199e+04, 1.1199e+04, 4.4700e+02, 1.8000e+01],\n",
       "       [2.7900e+02, 1.1199e+04, 1.1199e+04, 4.4700e+02, 7.0000e+00],\n",
       "       [2.8000e+02, 1.1199e+04, 1.1199e+04, 4.4700e+02, 8.0000e+00],\n",
       "       [2.7900e+02, 1.1199e+04, 1.1199e+04, 4.4700e+02, 7.0000e+00],\n",
       "       [3.1900e+02, 1.2799e+04, 1.2799e+04, 5.1100e+02, 8.0000e+00],\n",
       "       [2.7900e+02, 1.1199e+04, 1.1199e+04, 4.4700e+02, 7.0000e+00],\n",
       "       [2.7900e+02, 1.1199e+04, 1.1199e+04, 4.4700e+02, 1.6000e+01],\n",
       "       [2.7900e+02, 1.1199e+04, 1.1199e+04, 4.4700e+02, 9.0000e+00],\n",
       "       [2.7900e+02, 1.1199e+04, 1.1199e+04, 4.4700e+02, 7.0000e+00]])"
      ]
     },
     "execution_count": 31,
     "metadata": {},
     "output_type": "execute_result"
    }
   ],
   "source": [
    "numTotal"
   ]
  },
  {
   "cell_type": "code",
   "execution_count": 32,
   "metadata": {},
   "outputs": [
    {
     "data": {
      "text/plain": [
       "(array([7., 1., 0., 0., 0., 0., 0., 0., 0., 2.]),\n",
       " array([279., 283., 287., 291., 295., 299., 303., 307., 311., 315., 319.]),\n",
       " <a list of 10 Patch objects>)"
      ]
     },
     "execution_count": 32,
     "metadata": {},
     "output_type": "execute_result"
    },
    {
     "data": {
      "image/png": "[encoded data removed]",
      "text/plain": [
       "<Figure size 432x288 with 1 Axes>"
      ]
     },
     "metadata": {
      "needs_background": "light"
     },
     "output_type": "display_data"
    }
   ],
   "source": [
    "plt.hist(numTotal[:,0])"
   ]
  },
  {
   "cell_type": "code",
   "execution_count": 33,
   "metadata": {},
   "outputs": [
    {
     "data": {
      "text/plain": [
       "(array([8., 0., 0., 0., 0., 0., 0., 0., 0., 2.]),\n",
       " array([11199., 11359., 11519., 11679., 11839., 11999., 12159., 12319.,\n",
       "        12479., 12639., 12799.]),\n",
       " <a list of 10 Patch objects>)"
      ]
     },
     "execution_count": 33,
     "metadata": {},
     "output_type": "execute_result"
    },
    {
     "data": {
      "image/png": "[encoded data removed]",
      "text/plain": [
       "<Figure size 432x288 with 1 Axes>"
      ]
     },
     "metadata": {
      "needs_background": "light"
     },
     "output_type": "display_data"
    }
   ],
   "source": [
    "plt.hist(numTotal[:,1])"
   ]
  },
  {
   "cell_type": "code",
   "execution_count": 34,
   "metadata": {},
   "outputs": [
    {
     "data": {
      "text/plain": [
       "(array([8., 0., 0., 0., 0., 0., 0., 0., 0., 2.]),\n",
       " array([11199., 11359., 11519., 11679., 11839., 11999., 12159., 12319.,\n",
       "        12479., 12639., 12799.]),\n",
       " <a list of 10 Patch objects>)"
      ]
     },
     "execution_count": 34,
     "metadata": {},
     "output_type": "execute_result"
    },
    {
     "data": {
      "image/png": "[encoded data removed]",
      "text/plain": [
       "<Figure size 432x288 with 1 Axes>"
      ]
     },
     "metadata": {
      "needs_background": "light"
     },
     "output_type": "display_data"
    }
   ],
   "source": [
    "plt.hist(numTotal[:,2])"
   ]
  },
  {
   "cell_type": "code",
   "execution_count": 35,
   "metadata": {},
   "outputs": [
    {
     "data": {
      "text/plain": [
       "(array([8., 0., 0., 0., 0., 0., 0., 0., 0., 2.]),\n",
       " array([447. , 453.4, 459.8, 466.2, 472.6, 479. , 485.4, 491.8, 498.2,\n",
       "        504.6, 511. ]),\n",
       " <a list of 10 Patch objects>)"
      ]
     },
     "execution_count": 35,
     "metadata": {},
     "output_type": "execute_result"
    },
    {
     "data": {
      "image/png": "[encoded data removed]",
      "text/plain": [
       "<Figure size 432x288 with 1 Axes>"
      ]
     },
     "metadata": {
      "needs_background": "light"
     },
     "output_type": "display_data"
    }
   ],
   "source": [
    "plt.hist(numTotal[:,3])"
   ]
  },
  {
   "cell_type": "code",
   "execution_count": 36,
   "metadata": {},
   "outputs": [
    {
     "data": {
      "text/plain": [
       "(array([6., 1., 1., 0., 0., 0., 0., 0., 1., 1.]),\n",
       " array([ 7. ,  8.1,  9.2, 10.3, 11.4, 12.5, 13.6, 14.7, 15.8, 16.9, 18. ]),\n",
       " <a list of 10 Patch objects>)"
      ]
     },
     "execution_count": 36,
     "metadata": {},
     "output_type": "execute_result"
    },
    {
     "data": {
      "image/png": "[encoded data removed]",
      "text/plain": [
       "<Figure size 432x288 with 1 Axes>"
      ]
     },
     "metadata": {
      "needs_background": "light"
     },
     "output_type": "display_data"
    }
   ],
   "source": [
    "plt.hist(numTotal[:,4])"
   ]
  },
  {
   "cell_type": "code",
   "execution_count": null,
   "metadata": {},
   "outputs": [],
   "source": []
  }
 ],
 "metadata": {
  "kernelspec": {
   "display_name": "Python 3",
   "language": "python",
   "name": "python3"
  },
  "language_info": {
   "codemirror_mode": {
    "name": "ipython",
    "version": 3
   },
   "file_extension": ".py",
   "mimetype": "text/x-python",
   "name": "python",
   "nbconvert_exporter": "python",
   "pygments_lexer": "ipython3",
   "version": "3.7.6"
  }
 },
 "nbformat": 4,
 "nbformat_minor": 2
}
