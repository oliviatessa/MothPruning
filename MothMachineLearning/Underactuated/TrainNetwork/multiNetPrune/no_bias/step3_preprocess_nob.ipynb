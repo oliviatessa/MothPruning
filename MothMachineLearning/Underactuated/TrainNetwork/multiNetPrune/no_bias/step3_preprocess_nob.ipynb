{
 "cells": [
  {
   "cell_type": "code",
   "execution_count": 12,
   "metadata": {},
   "outputs": [],
   "source": [
    "import os\n",
    "import pickle\n",
    "import numpy as np\n",
    "import matplotlib.pyplot as plt"
   ]
  },
  {
   "cell_type": "code",
   "execution_count": 13,
   "metadata": {
    "scrolled": true
   },
   "outputs": [],
   "source": [
    "dataOutput = '/home/olivia/mothPruning/mothMachineLearning_dataAndFigs/DataOutput/Experiments/no_bias/'\n",
    "\n",
    "modeltimestamp = '2022_11_01__09_29_28'\n",
    "\n",
    "modelSubdir = os.path.join(dataOutput, modeltimestamp)\n",
    "if not os.path.exists(modelSubdir):\n",
    "    os.mkdir(modelSubdir)\n",
    "    \n",
    "Subdir = os.path.join(modelSubdir, 'preprocessedNets')\n",
    "if not os.path.exists(Subdir):\n",
    "    os.mkdir(Subdir)\n",
    "\n",
    "historyFile = 'errors_minmax_Adam5.pkl'\n",
    "history = pickle.load(open(os.path.join(modelSubdir, historyFile), 'rb'))\n",
    "\n",
    "weightsFile = 'weights_minmax_Adam5.pkl'\n",
    "weights = pickle.load(open(os.path.join(modelSubdir, weightsFile), 'rb'))\n",
    "\n",
    "#biasesFile = 'biases_minmax_Adam5.pkl'\n",
    "#biases = pickle.load(open(os.path.join(modelSubdir, biasesFile), 'rb'))\n",
    "\n",
    "masksFile = 'masks_minmax_Adam5.pkl'\n",
    "masks = pickle.load(open(os.path.join(modelSubdir, masksFile), 'rb'))\n",
    "\n",
    "lossesFile = 'allPruneLosses_minmax_Adam5.pkl'\n",
    "losses = pickle.load(open(os.path.join(modelSubdir, lossesFile), 'rb'))\n",
    "\n",
    "epochlossesFile = 'lossesAllNets_Adam5.pkl'\n",
    "epochlosses = pickle.load(open(os.path.join(modelSubdir, epochlossesFile), 'rb'))"
   ]
  },
  {
   "cell_type": "code",
   "execution_count": 14,
   "metadata": {},
   "outputs": [
    {
     "data": {
      "text/plain": [
       "(4, 10, 400)"
      ]
     },
     "execution_count": 14,
     "metadata": {},
     "output_type": "execute_result"
    }
   ],
   "source": [
    "weights[0][0].shape"
   ]
  },
  {
   "cell_type": "code",
   "execution_count": 15,
   "metadata": {},
   "outputs": [],
   "source": [
    "networks = []\n",
    "\n",
    "#Iterate over networks\n",
    "for i in range(weights[0][0].shape[0]):\n",
    "    prunes = []\n",
    "    #Iterate over prunes\n",
    "    for j in range(len(weights)):\n",
    "        layers = []\n",
    "        #Iterate over layers\n",
    "        for k in range(len(weights[0])):\n",
    "            w = np.multiply(weights[j][k][i], masks[j][k][i])\n",
    "            #b = biases[j][k][i]\n",
    "            layers.append(w)\n",
    "            #layers.append(b)\n",
    "        prunes.append(layers)\n",
    "    networks.append(prunes)"
   ]
  },
  {
   "cell_type": "code",
   "execution_count": 16,
   "metadata": {},
   "outputs": [],
   "source": [
    "epochlosses = np.array(epochlosses)"
   ]
  },
  {
   "cell_type": "code",
   "execution_count": 17,
   "metadata": {},
   "outputs": [],
   "source": [
    "epochLossesFlat = np.zeros((1,400))\n",
    "#1 by number of networks trained \n",
    "for i in range(len(epochlosses)):\n",
    "    epochLossesFlat = np.append(epochLossesFlat,epochlosses[i], axis=0)\n",
    "    \n",
    "epochLossesFlat = np.delete(epochLossesFlat, 0, 0)"
   ]
  },
  {
   "cell_type": "code",
   "execution_count": 18,
   "metadata": {},
   "outputs": [],
   "source": [
    "import matplotlib.pyplot as plt"
   ]
  },
  {
   "cell_type": "code",
   "execution_count": 19,
   "metadata": {},
   "outputs": [
    {
     "data": {
      "image/png": "[encoded data removed]",
      "text/plain": [
       "<Figure size 432x288 with 1 Axes>"
      ]
     },
     "metadata": {
      "needs_background": "light"
     },
     "output_type": "display_data"
    }
   ],
   "source": [
    "plt.plot(epochLossesFlat[:,0])\n",
    "plt.yscale('log')"
   ]
  },
  {
   "cell_type": "code",
   "execution_count": 20,
   "metadata": {},
   "outputs": [],
   "source": [
    "pickle.dump(weights, open(os.path.join(Subdir, 'weights.pkl'), 'wb'))\n",
    "#pickle.dump(biases, open(os.path.join(Subdir, 'biases.pkl'), 'wb'))\n",
    "pickle.dump(masks, open(os.path.join(Subdir, 'masks.pkl'), 'wb'))\n",
    "pickle.dump(history, open(os.path.join(Subdir, 'meanHistory.pkl'), 'wb'))\n",
    "pickle.dump(networks, open(os.path.join(Subdir, 'networks.pkl'), 'wb'))\n",
    "pickle.dump(losses, open(os.path.join(Subdir, 'pruneLosses.pkl'), 'wb'))\n",
    "pickle.dump(epochLossesFlat, open(os.path.join(Subdir, 'epochLosses.pkl'), 'wb'))"
   ]
  },
  {
   "cell_type": "code",
   "execution_count": 21,
   "metadata": {},
   "outputs": [
    {
     "name": "stdout",
     "output_type": "stream",
     "text": [
      "0:10300\n",
      "1:12300\n",
      "2:14400\n",
      "3:16400\n",
      "4:18400\n",
      "5:20500\n",
      "6:22700\n",
      "7:26500\n",
      "8:32400\n",
      "9:37000\n",
      "10:39200\n",
      "11:41300\n",
      "12:43400\n",
      "13:45100\n",
      "14:46900\n",
      "15:48300\n",
      "16:49600\n",
      "17:50900\n"
     ]
    }
   ],
   "source": [
    "ind=0\n",
    "for i in range(len(epochlosses)):\n",
    "    ind += len(epochlosses[i])\n",
    "    print(str(i)+':'+str(ind))"
   ]
  },
  {
   "cell_type": "code",
   "execution_count": null,
   "metadata": {},
   "outputs": [],
   "source": []
  },
  {
   "cell_type": "code",
   "execution_count": null,
   "metadata": {},
   "outputs": [],
   "source": []
  }
 ],
 "metadata": {
  "kernelspec": {
   "display_name": "Python 3.7.6 ('base')",
   "language": "python",
   "name": "python3"
  },
  "language_info": {
   "codemirror_mode": {
    "name": "ipython",
    "version": 3
   },
   "file_extension": ".py",
   "mimetype": "text/x-python",
   "name": "python",
   "nbconvert_exporter": "python",
   "pygments_lexer": "ipython3",
   "version": "3.7.6"
  },
  "vscode": {
   "interpreter": {
    "hash": "3b28954217a23a3edd715d714cb6856825652b3bba902c0fd0aacace8eaee516"
   }
  }
 },
 "nbformat": 4,
 "nbformat_minor": 4
}
