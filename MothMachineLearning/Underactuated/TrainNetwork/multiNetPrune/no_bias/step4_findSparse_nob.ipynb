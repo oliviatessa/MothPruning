{
 "cells": [
  {
   "cell_type": "code",
   "execution_count": 8,
   "metadata": {},
   "outputs": [],
   "source": [
    "import numpy as np\n",
    "import matplotlib.pyplot as plt\n",
    "import pickle\n",
    "import os"
   ]
  },
  {
   "cell_type": "code",
   "execution_count": 9,
   "metadata": {},
   "outputs": [],
   "source": [
    "dataOutput = '/home/olivia/mothPruning/mothMachineLearning_dataAndFigs/DataOutput/Experiments/no_bias/'\n",
    "modelsubdir = '2022_11_01__09_29_28'\n",
    "\n",
    "historyFile = 'meanHistory.pkl'\n",
    "meanHistory = pickle.load(open(os.path.join(dataOutput, modelsubdir,  'preprocessedNets', historyFile), 'rb'))\n",
    "\n",
    "weightsFile = 'weights.pkl'\n",
    "weights = pickle.load(open(os.path.join(dataOutput, modelsubdir, 'preprocessedNets', weightsFile), 'rb'))\n",
    "\n",
    "#biasesFile = 'biases.pkl'\n",
    "#biases = pickle.load(open(os.path.join(dataOutput, modelsubdir, 'preprocessedNets', biasesFile), 'rb'))\n",
    "\n",
    "masksFile = 'masks.pkl'\n",
    "masks = pickle.load(open(os.path.join(dataOutput, modelsubdir, 'preprocessedNets', masksFile), 'rb'))\n",
    "                    \n",
    "networksFile = 'networks.pkl'\n",
    "networks = pickle.load(open(os.path.join(dataOutput, modelsubdir, 'preprocessedNets', networksFile), 'rb'))\n",
    "\n",
    "lossesFile = 'pruneLosses.pkl'\n",
    "losses = pickle.load(open(os.path.join(dataOutput, modelsubdir, 'preprocessedNets', lossesFile), 'rb'))"
   ]
  },
  {
   "cell_type": "code",
   "execution_count": 10,
   "metadata": {},
   "outputs": [],
   "source": [
    "losses = np.array(losses).T"
   ]
  },
  {
   "cell_type": "code",
   "execution_count": 11,
   "metadata": {},
   "outputs": [
    {
     "name": "stdout",
     "output_type": "stream",
     "text": [
      "[]\n",
      "skipped\n",
      "[]\n",
      "skipped\n",
      "[]\n",
      "skipped\n",
      "[]\n",
      "skipped\n"
     ]
    }
   ],
   "source": [
    "threshold = 0.001\n",
    "sparseNetworks = []\n",
    "\n",
    "\n",
    "for i in range(len(losses)):\n",
    "    indices = np.flatnonzero(losses[i] <= threshold)\n",
    "    print(indices)\n",
    "    if len(indices) != 0:\n",
    "        index = indices[-1]\n",
    "        print(index)\n",
    "        sparseNet = (index, networks[i][index])\n",
    "        sparseNetworks.append(sparseNet)\n",
    "        \n",
    "    else: \n",
    "        print(\"skipped\")"
   ]
  },
  {
   "cell_type": "code",
   "execution_count": 12,
   "metadata": {},
   "outputs": [
    {
     "data": {
      "text/plain": [
       "0"
      ]
     },
     "execution_count": 12,
     "metadata": {},
     "output_type": "execute_result"
    }
   ],
   "source": [
    "len(sparseNetworks)"
   ]
  },
  {
   "cell_type": "code",
   "execution_count": 13,
   "metadata": {},
   "outputs": [],
   "source": [
    "pickle.dump(sparseNetworks, open(os.path.join(dataOutput, modelsubdir, 'sparseNetworks.pkl'), 'wb'))"
   ]
  },
  {
   "cell_type": "code",
   "execution_count": null,
   "metadata": {},
   "outputs": [],
   "source": []
  }
 ],
 "metadata": {
  "kernelspec": {
   "display_name": "Python 3.7.6 ('base')",
   "language": "python",
   "name": "python3"
  },
  "language_info": {
   "codemirror_mode": {
    "name": "ipython",
    "version": 3
   },
   "file_extension": ".py",
   "mimetype": "text/x-python",
   "name": "python",
   "nbconvert_exporter": "python",
   "pygments_lexer": "ipython3",
   "version": "3.7.6"
  },
  "vscode": {
   "interpreter": {
    "hash": "3b28954217a23a3edd715d714cb6856825652b3bba902c0fd0aacace8eaee516"
   }
  }
 },
 "nbformat": 4,
 "nbformat_minor": 4
}
