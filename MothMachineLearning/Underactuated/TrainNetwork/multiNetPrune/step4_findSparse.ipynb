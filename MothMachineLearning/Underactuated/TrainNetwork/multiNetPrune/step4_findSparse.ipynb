{
 "cells": [
  {
   "cell_type": "code",
   "execution_count": 1,
   "metadata": {},
   "outputs": [],
   "source": [
    "import numpy as np\n",
    "import matplotlib.pyplot as plt\n",
    "import pickle\n",
    "import os"
   ]
  },
  {
   "cell_type": "code",
   "execution_count": 2,
   "metadata": {},
   "outputs": [],
   "source": [
    "dataOutput = '/home/olivia/mothPruning/mothMachineLearning_dataAndFigs/DataOutput/Experiments/'\n",
    "modelsubdir = '2022_01_04__04_18_29'\n",
    "\n",
    "historyFile = 'meanHistory.pkl'\n",
    "meanHistory = pickle.load(open(os.path.join(dataOutput, modelsubdir,  'preprocessedNets', historyFile), 'rb'))\n",
    "\n",
    "weightsFile = 'weights.pkl'\n",
    "weights = pickle.load(open(os.path.join(dataOutput, modelsubdir, 'preprocessedNets', weightsFile), 'rb'))\n",
    "\n",
    "biasesFile = 'biases.pkl'\n",
    "biases = pickle.load(open(os.path.join(dataOutput, modelsubdir, 'preprocessedNets', biasesFile), 'rb'))\n",
    "\n",
    "masksFile = 'masks.pkl'\n",
    "masks = pickle.load(open(os.path.join(dataOutput, modelsubdir, 'preprocessedNets', masksFile), 'rb'))\n",
    "                    \n",
    "networksFile = 'networks.pkl'\n",
    "networks = pickle.load(open(os.path.join(dataOutput, modelsubdir, 'preprocessedNets', networksFile), 'rb'))\n",
    "\n",
    "lossesFile = 'pruneLosses.pkl'\n",
    "losses = pickle.load(open(os.path.join(dataOutput, modelsubdir, 'preprocessedNets', lossesFile), 'rb'))"
   ]
  },
  {
   "cell_type": "code",
   "execution_count": 3,
   "metadata": {},
   "outputs": [],
   "source": [
    "losses = np.array(losses).T"
   ]
  },
  {
   "cell_type": "code",
   "execution_count": 4,
   "metadata": {},
   "outputs": [
    {
     "name": "stdout",
     "output_type": "stream",
     "text": [
      "[6 7]\n",
      "7\n",
      "[]\n",
      "skipped\n",
      "[ 2  3  4  5  6  7  8 10 11]\n",
      "11\n",
      "[]\n",
      "skipped\n",
      "[6 7]\n",
      "7\n",
      "[5 6 7]\n",
      "7\n",
      "[ 3  4  5  6  7  8  9 10 11 12 13]\n",
      "13\n",
      "[]\n",
      "skipped\n",
      "[5 6]\n",
      "6\n",
      "[4 5 6 7]\n",
      "7\n"
     ]
    }
   ],
   "source": [
    "threshold = 0.001\n",
    "sparseNetworks = []\n",
    "\n",
    "\n",
    "for i in range(len(losses)):\n",
    "    indices = np.flatnonzero(losses[i] <= threshold)\n",
    "    print(indices)\n",
    "    if len(indices) != 0:\n",
    "        index = indices[-1]\n",
    "        print(index)\n",
    "        sparseNet = (index, networks[i][index])\n",
    "        sparseNetworks.append(sparseNet)\n",
    "        \n",
    "    else: \n",
    "        print(\"skipped\")"
   ]
  },
  {
   "cell_type": "code",
   "execution_count": 5,
   "metadata": {},
   "outputs": [
    {
     "data": {
      "text/plain": [
       "7"
      ]
     },
     "execution_count": 5,
     "metadata": {},
     "output_type": "execute_result"
    }
   ],
   "source": [
    "len(sparseNetworks)"
   ]
  },
  {
   "cell_type": "code",
   "execution_count": 6,
   "metadata": {},
   "outputs": [],
   "source": [
    "pickle.dump(sparseNetworks, open(os.path.join(dataOutput, modelsubdir, 'sparseNetworks.pkl'), 'wb'))"
   ]
  }
 ],
 "metadata": {
  "kernelspec": {
   "display_name": "Python 3",
   "language": "python",
   "name": "python3"
  },
  "language_info": {
   "codemirror_mode": {
    "name": "ipython",
    "version": 3
   },
   "file_extension": ".py",
   "mimetype": "text/x-python",
   "name": "python",
   "nbconvert_exporter": "python",
   "pygments_lexer": "ipython3",
   "version": "3.7.6"
  }
 },
 "nbformat": 4,
 "nbformat_minor": 4
}
