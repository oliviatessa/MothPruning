{
 "cells": [
  {
   "cell_type": "code",
   "execution_count": 1,
   "metadata": {},
   "outputs": [],
   "source": [
    "import os\n",
    "import pickle\n",
    "import numpy as np\n",
    "import matplotlib.pyplot as plt"
   ]
  },
  {
   "cell_type": "code",
   "execution_count": 2,
   "metadata": {
    "scrolled": true
   },
   "outputs": [],
   "source": [
    "dataOutput = '/home/olivia/mothPruning/mothMachineLearning_dataAndFigs/DataOutput/Experiments/'\n",
    "\n",
    "modeltimestamp = '2022_01_04__04_18_29'\n",
    "\n",
    "modelSubdir = os.path.join(dataOutput, modeltimestamp)\n",
    "if not os.path.exists(modelSubdir):\n",
    "    os.mkdir(modelSubdir)\n",
    "    \n",
    "Subdir = os.path.join(modelSubdir, 'preprocessedNets')\n",
    "if not os.path.exists(Subdir):\n",
    "    os.mkdir(Subdir)\n",
    "\n",
    "historyFile = 'errors_minmax_Adam5_sample.pkl'\n",
    "history = pickle.load(open(os.path.join(modelSubdir, historyFile), 'rb'))\n",
    "\n",
    "weightsFile = 'weights_minmax_Adam5_sample.pkl'\n",
    "weights = pickle.load(open(os.path.join(modelSubdir, weightsFile), 'rb'))\n",
    "\n",
    "biasesFile = 'biases_minmax_Adam5_sample.pkl'\n",
    "biases = pickle.load(open(os.path.join(modelSubdir, biasesFile), 'rb'))\n",
    "\n",
    "masksFile = 'masks_minmax_Adam5_sample.pkl'\n",
    "masks = pickle.load(open(os.path.join(modelSubdir, masksFile), 'rb'))\n",
    "\n",
    "lossesFile = 'allPruneLosses_Adam5_sample.pkl'\n",
    "losses = pickle.load(open(os.path.join(modelSubdir, lossesFile), 'rb'))\n",
    "\n",
    "epochlossesFile = 'lossesAllNets_Adam5_sample.pkl'\n",
    "epochlosses = pickle.load(open(os.path.join(modelSubdir, epochlossesFile), 'rb'))"
   ]
  },
  {
   "cell_type": "code",
   "execution_count": 12,
   "metadata": {},
   "outputs": [
    {
     "data": {
      "text/plain": [
       "(10, 10, 800)"
      ]
     },
     "execution_count": 12,
     "metadata": {},
     "output_type": "execute_result"
    }
   ],
   "source": [
    "weights[0][0].shape"
   ]
  },
  {
   "cell_type": "code",
   "execution_count": 3,
   "metadata": {},
   "outputs": [],
   "source": [
    "networks = []\n",
    "\n",
    "#Iterate over networks\n",
    "for i in range(weights[0][0].shape[0]):\n",
    "    prunes = []\n",
    "    #Iterate over prunes\n",
    "    for j in range(len(weights)):\n",
    "        layers = []\n",
    "        #Iterate over layers\n",
    "        for k in range(len(weights[0])):\n",
    "            w = np.multiply(weights[j][k][i], masks[j][k][i])\n",
    "            b = biases[j][k][i]\n",
    "            layers.append(w)\n",
    "            layers.append(b)\n",
    "        prunes.append(layers)\n",
    "    networks.append(prunes)"
   ]
  },
  {
   "cell_type": "code",
   "execution_count": 4,
   "metadata": {},
   "outputs": [
    {
     "name": "stderr",
     "output_type": "stream",
     "text": [
      "/home/olivia/anaconda3/lib/python3.7/site-packages/ipykernel_launcher.py:1: VisibleDeprecationWarning: Creating an ndarray from ragged nested sequences (which is a list-or-tuple of lists-or-tuples-or ndarrays with different lengths or shapes) is deprecated. If you meant to do this, you must specify 'dtype=object' when creating the ndarray\n",
      "  \"\"\"Entry point for launching an IPython kernel.\n"
     ]
    }
   ],
   "source": [
    "epochlosses = np.array(epochlosses)"
   ]
  },
  {
   "cell_type": "code",
   "execution_count": 6,
   "metadata": {},
   "outputs": [],
   "source": [
    "epochLossesFlat = np.zeros((1,10))\n",
    "#1 by number of networks trained \n",
    "for i in range(len(epochlosses)):\n",
    "    epochLossesFlat = np.append(epochLossesFlat,epochlosses[i], axis=0)\n",
    "    \n",
    "epochLossesFlat = np.delete(epochLossesFlat, 0, 0)"
   ]
  },
  {
   "cell_type": "code",
   "execution_count": 7,
   "metadata": {},
   "outputs": [
    {
     "data": {
      "image/png": "[encoded data removed]",
      "text/plain": [
       "<Figure size 432x288 with 1 Axes>"
      ]
     },
     "metadata": {
      "needs_background": "light"
     },
     "output_type": "display_data"
    }
   ],
   "source": [
    "plt.plot(epochLossesFlat[:,0])\n",
    "plt.yscale('log')"
   ]
  },
  {
   "cell_type": "code",
   "execution_count": 9,
   "metadata": {},
   "outputs": [],
   "source": [
    "pickle.dump(weights, open(os.path.join(Subdir, 'weights.pkl'), 'wb'))\n",
    "pickle.dump(biases, open(os.path.join(Subdir, 'biases.pkl'), 'wb'))\n",
    "pickle.dump(masks, open(os.path.join(Subdir, 'masks.pkl'), 'wb'))\n",
    "pickle.dump(history, open(os.path.join(Subdir, 'meanHistory.pkl'), 'wb'))\n",
    "pickle.dump(networks, open(os.path.join(Subdir, 'networks.pkl'), 'wb'))\n",
    "pickle.dump(losses, open(os.path.join(Subdir, 'pruneLosses.pkl'), 'wb'))\n",
    "pickle.dump(epochLossesFlat, open(os.path.join(Subdir, 'epochLosses.pkl'), 'wb'))"
   ]
  },
  {
   "cell_type": "code",
   "execution_count": 10,
   "metadata": {},
   "outputs": [
    {
     "name": "stdout",
     "output_type": "stream",
     "text": [
      "0:5700\n",
      "1:19300\n",
      "2:28300\n",
      "3:32800\n",
      "4:38200\n",
      "5:43300\n",
      "6:53400\n",
      "7:65300\n",
      "8:77200\n",
      "9:88100\n",
      "10:94500\n",
      "11:99300\n",
      "12:103400\n",
      "13:108800\n",
      "14:114700\n",
      "15:120200\n",
      "16:126400\n",
      "17:128300\n"
     ]
    }
   ],
   "source": [
    "ind=0\n",
    "for i in range(len(epochlosses)):\n",
    "    ind += len(epochlosses[i])\n",
    "    print(str(i)+':'+str(ind))"
   ]
  },
  {
   "cell_type": "code",
   "execution_count": null,
   "metadata": {},
   "outputs": [],
   "source": []
  }
 ],
 "metadata": {
  "kernelspec": {
   "display_name": "Python 3",
   "language": "python",
   "name": "python3"
  },
  "language_info": {
   "codemirror_mode": {
    "name": "ipython",
    "version": 3
   },
   "file_extension": ".py",
   "mimetype": "text/x-python",
   "name": "python",
   "nbconvert_exporter": "python",
   "pygments_lexer": "ipython3",
   "version": "3.7.6"
  }
 },
 "nbformat": 4,
 "nbformat_minor": 4
}
