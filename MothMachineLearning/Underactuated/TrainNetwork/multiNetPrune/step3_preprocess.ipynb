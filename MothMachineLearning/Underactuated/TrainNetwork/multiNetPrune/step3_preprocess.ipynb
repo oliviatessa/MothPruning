{
 "cells": [
  {
   "cell_type": "code",
   "execution_count": 11,
   "metadata": {},
   "outputs": [],
   "source": [
    "import os\n",
    "import pickle\n",
    "import numpy as np\n",
    "import matplotlib.pyplot as plt"
   ]
  },
  {
   "cell_type": "code",
   "execution_count": 12,
   "metadata": {
    "scrolled": true
   },
   "outputs": [],
   "source": [
    "dataOutput = '/home/olivia/mothPruning/mothMachineLearning_dataAndFigs/DataOutput/Experiments/pruned_bias/'\n",
    "\n",
    "modeltimestamp = '2022_11_05__01_04_10'\n",
    "\n",
    "modelSubdir = os.path.join(dataOutput, modeltimestamp)\n",
    "if not os.path.exists(modelSubdir):\n",
    "    os.mkdir(modelSubdir)\n",
    "    \n",
    "Subdir = os.path.join(modelSubdir, 'preprocessedNets')\n",
    "if not os.path.exists(Subdir):\n",
    "    os.mkdir(Subdir)\n",
    "\n",
    "historyFile = 'errors_minmax_Adam5.pkl'\n",
    "history = pickle.load(open(os.path.join(modelSubdir, historyFile), 'rb'))\n",
    "\n",
    "weightsFile = 'weights_minmax_Adam5.pkl'\n",
    "weights = pickle.load(open(os.path.join(modelSubdir, weightsFile), 'rb'))\n",
    "\n",
    "biasesFile = 'biases_minmax_Adam5.pkl'\n",
    "biases = pickle.load(open(os.path.join(modelSubdir, biasesFile), 'rb'))\n",
    "\n",
    "masksFile = 'masks_minmax_Adam5.pkl'\n",
    "masks = pickle.load(open(os.path.join(modelSubdir, masksFile), 'rb'))\n",
    "\n",
    "bmasksFile = 'bmasks_minmax_Adam5.pkl'\n",
    "bmasks = pickle.load(open(os.path.join(modelSubdir, bmasksFile), 'rb'))\n",
    "\n",
    "lossesFile = 'allPruneLosses_minmax_Adam5.pkl'\n",
    "losses = pickle.load(open(os.path.join(modelSubdir, lossesFile), 'rb'))\n",
    "\n",
    "epochlossesFile = 'lossesAllNets_Adam5.pkl'\n",
    "epochlosses = pickle.load(open(os.path.join(modelSubdir, epochlossesFile), 'rb'))"
   ]
  },
  {
   "cell_type": "code",
   "execution_count": 13,
   "metadata": {},
   "outputs": [
    {
     "data": {
      "text/plain": [
       "5"
      ]
     },
     "execution_count": 13,
     "metadata": {},
     "output_type": "execute_result"
    }
   ],
   "source": [
    "len(weights[0])"
   ]
  },
  {
   "cell_type": "code",
   "execution_count": 14,
   "metadata": {},
   "outputs": [],
   "source": [
    "networks = []\n",
    "\n",
    "#Iterate over networks\n",
    "for i in range(weights[0][0].shape[0]):\n",
    "    prunes = []\n",
    "    #Iterate over prunes\n",
    "    for j in range(len(weights)):\n",
    "        layers = []\n",
    "        #Iterate over layers\n",
    "        for k in range(len(weights[0])):\n",
    "            w = np.multiply(weights[j][k][i], masks[j][k][i])\n",
    "            b = np.multiply(biases[j][k][i], bmasks[j][k][i])\n",
    "            layers.append(w)\n",
    "            layers.append(b)\n",
    "        prunes.append(layers)\n",
    "    networks.append(prunes)"
   ]
  },
  {
   "cell_type": "code",
   "execution_count": 15,
   "metadata": {},
   "outputs": [],
   "source": [
    "epochlosses = np.array(epochlosses)"
   ]
  },
  {
   "cell_type": "code",
   "execution_count": 16,
   "metadata": {},
   "outputs": [],
   "source": [
    "epochLossesFlat = np.zeros((1,400))\n",
    "#1 by number of networks trained \n",
    "for i in range(len(epochlosses)):\n",
    "    epochLossesFlat = np.append(epochLossesFlat,epochlosses[i], axis=0)\n",
    "    \n",
    "epochLossesFlat = np.delete(epochLossesFlat, 0, 0)"
   ]
  },
  {
   "cell_type": "code",
   "execution_count": 17,
   "metadata": {},
   "outputs": [],
   "source": [
    "import matplotlib.pyplot as plt"
   ]
  },
  {
   "cell_type": "code",
   "execution_count": 18,
   "metadata": {},
   "outputs": [
    {
     "data": {
      "image/png": "[encoded data removed]",
      "text/plain": [
       "<Figure size 432x288 with 1 Axes>"
      ]
     },
     "metadata": {
      "needs_background": "light"
     },
     "output_type": "display_data"
    }
   ],
   "source": [
    "plt.plot(epochLossesFlat[:,0])\n",
    "plt.yscale('log')"
   ]
  },
  {
   "cell_type": "code",
   "execution_count": 19,
   "metadata": {},
   "outputs": [],
   "source": [
    "pickle.dump(weights, open(os.path.join(Subdir, 'weights.pkl'), 'wb'))\n",
    "pickle.dump(biases, open(os.path.join(Subdir, 'biases.pkl'), 'wb'))\n",
    "pickle.dump(masks, open(os.path.join(Subdir, 'masks.pkl'), 'wb'))\n",
    "pickle.dump(bmasks, open(os.path.join(Subdir, 'bmasks.pkl'), 'wb'))\n",
    "pickle.dump(history, open(os.path.join(Subdir, 'meanHistory.pkl'), 'wb'))\n",
    "pickle.dump(networks, open(os.path.join(Subdir, 'networks.pkl'), 'wb'))\n",
    "pickle.dump(losses, open(os.path.join(Subdir, 'pruneLosses.pkl'), 'wb'))\n",
    "pickle.dump(epochLossesFlat, open(os.path.join(Subdir, 'epochLosses.pkl'), 'wb'))"
   ]
  },
  {
   "cell_type": "code",
   "execution_count": 20,
   "metadata": {},
   "outputs": [
    {
     "name": "stdout",
     "output_type": "stream",
     "text": [
      "0:50000\n",
      "1:51900\n",
      "2:53800\n",
      "3:55800\n",
      "4:57900\n",
      "5:62200\n",
      "6:66500\n",
      "7:71100\n",
      "8:78900\n",
      "9:86500\n",
      "10:91100\n",
      "11:95600\n",
      "12:97800\n",
      "13:99800\n",
      "14:101800\n",
      "15:103800\n",
      "16:105800\n",
      "17:107800\n"
     ]
    }
   ],
   "source": [
    "ind=0\n",
    "for i in range(len(epochlosses)):\n",
    "    ind += len(epochlosses[i])\n",
    "    print(str(i)+':'+str(ind))"
   ]
  },
  {
   "cell_type": "code",
   "execution_count": null,
   "metadata": {},
   "outputs": [],
   "source": []
  },
  {
   "cell_type": "code",
   "execution_count": null,
   "metadata": {},
   "outputs": [],
   "source": []
  }
 ],
 "metadata": {
  "kernelspec": {
   "display_name": "Python 3.7.6 ('base')",
   "language": "python",
   "name": "python3"
  },
  "language_info": {
   "codemirror_mode": {
    "name": "ipython",
    "version": 3
   },
   "file_extension": ".py",
   "mimetype": "text/x-python",
   "name": "python",
   "nbconvert_exporter": "python",
   "pygments_lexer": "ipython3",
   "version": "3.7.6"
  },
  "vscode": {
   "interpreter": {
    "hash": "3b28954217a23a3edd715d714cb6856825652b3bba902c0fd0aacace8eaee516"
   }
  }
 },
 "nbformat": 4,
 "nbformat_minor": 4
}
