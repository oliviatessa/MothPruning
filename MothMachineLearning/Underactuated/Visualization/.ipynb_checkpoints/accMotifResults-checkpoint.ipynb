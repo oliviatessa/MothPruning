{
 "cells": [
  {
   "cell_type": "code",
   "execution_count": null,
   "metadata": {},
   "outputs": [],
   "source": [
    "import os \n",
    "import pickle \n",
    "import numpy as np\n",
    "import matplotlib.pyplot as plt\n",
    "import pandas as pd"
   ]
  },
  {
   "cell_type": "code",
   "execution_count": null,
   "metadata": {},
   "outputs": [],
   "source": [
    "csvOutput = '/home/olivia/accMotif/csvOutputs/'\n",
    "\n",
    "#Enter the experiement timestamp\n",
    "modeltimestamp = ''\n",
    "\n",
    "motifStatDir = os.path.join(csvOutput, modeltimestamp)"
   ]
  },
  {
   "cell_type": "code",
   "execution_count": null,
   "metadata": {},
   "outputs": [],
   "source": [
    "directory = os.fsencode(motifStatDir)\n",
    "\n",
    "firstFile = True \n",
    "for file in os.listdir(directory):\n",
    "    filename = os.fsdecode(file)\n",
    "    if firstFile == True:\n",
    "        if filename.endswith(\".csv\"): \n",
    "            motifStas = pd.read_csv(filename)\n",
    "            continue\n",
    "        else:\n",
    "            continue\n",
    "        firstFile = False \n",
    "    else: \n",
    "        df = pd.read_csv(filename)\n",
    "        motifStats.append(df)"
   ]
  }
 ],
 "metadata": {
  "kernelspec": {
   "display_name": "Python 3",
   "language": "python",
   "name": "python3"
  },
  "language_info": {
   "codemirror_mode": {
    "name": "ipython",
    "version": 3
   },
   "file_extension": ".py",
   "mimetype": "text/x-python",
   "name": "python",
   "nbconvert_exporter": "python",
   "pygments_lexer": "ipython3",
   "version": "3.7.6"
  }
 },
 "nbformat": 4,
 "nbformat_minor": 4
}
