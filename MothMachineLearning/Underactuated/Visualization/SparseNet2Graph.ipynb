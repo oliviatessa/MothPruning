{
 "cells": [
  {
   "cell_type": "code",
   "execution_count": 1,
   "metadata": {},
   "outputs": [],
   "source": [
    "import os \n",
    "import pickle \n",
    "import numpy as np\n",
    "import matplotlib.pyplot as plt"
   ]
  },
  {
   "cell_type": "code",
   "execution_count": 2,
   "metadata": {},
   "outputs": [],
   "source": [
    "dataOutput = '/home/olivia/mothPruning/mothMachineLearning_dataAndFigs/DataOutput/Experiments/'\n",
    "\n",
    "#Enter the experiement timestamp\n",
    "modeltimestamp = 'smallTest'\n",
    "\n",
    "#load the sparse networks\n",
    "sparseNetsFile = 'sparseNetworks.pkl'\n",
    "sparseNets = pickle.load(open(os.path.join(dataOutput, modeltimestamp, sparseNetsFile), 'rb'))\n",
    "\n",
    "#graphs will be saved individually as .txt files\n",
    "#They will be saved under the same timestamp in the /accMotif/experiments/ folder\n",
    "graphOutput = '/home/olivia/accMotif/experiments/'\n",
    "graphOutputDir = os.path.join(graphOutput, modeltimestamp)\n",
    "if not os.path.exists(graphOutputDir):\n",
    "    os.mkdir(graphOutputDir)\n",
    "    \n",
    "runfilesDir = os.path.join(graphOutputDir, 'runfiles')\n",
    "if not os.path.exists(runfilesDir):\n",
    "    os.mkdir(runfilesDir)"
   ]
  },
  {
   "cell_type": "code",
   "execution_count": 3,
   "metadata": {},
   "outputs": [],
   "source": [
    "sparseGraphs = [[] for net in sparseNets]\n",
    "\n",
    "for j in range(len(sparseNets)):\n",
    "    net = sparseNets[j][1]\n",
    "    numLayer = len(net)\n",
    "    \n",
    "    #initalizing neuron arrays\n",
    "    netX = np.array([])\n",
    "    netY = np.array([])\n",
    "\n",
    "    #count starts at 1 because accmotif is 1-indexed\n",
    "    count = 1\n",
    "    for i in range(0, numLayer, 2): \n",
    "        w = net[i]\n",
    "        \n",
    "        #grab nonzero indices from weight matrix\n",
    "        idx = np.nonzero(w)\n",
    "        \n",
    "        #neurons in the first layer \n",
    "        x = idx[0]+count\n",
    "        count += w.shape[0] #increase count because we are moving on to next layer\n",
    "        \n",
    "        #neurons in the second layer\n",
    "        y = idx[1]+count\n",
    "        \n",
    "        #add neurons to list of neurons for network\n",
    "        netX = np.concatenate((netX,x)).astype(int)\n",
    "        netY = np.concatenate((netY,y)).astype(int)\n",
    "    \n",
    "    #convert to list\n",
    "    netX = netX.tolist()\n",
    "    netY = netY.tolist()\n",
    "    \n",
    "    #zip to match connecting neurons \n",
    "    graph = zip(netX, netY)\n",
    "    graph = list(graph)\n",
    "    \n",
    "    #accmotif takes in set\n",
    "    #graph = set(graph)\n",
    "    \n",
    "    fname = 'net'+str(j)+'.txt'\n",
    "    #Save single graph in txt file in specified folder \n",
    "    with open(os.path.join(graphOutputDir, fname), 'w') as f:\n",
    "        for pair in graph:\n",
    "            line = ' '.join(str(x) for x in pair)\n",
    "            f.write(line + '\\n') \n",
    "        f.close()"
   ]
  },
  {
   "cell_type": "code",
   "execution_count": 3,
   "metadata": {},
   "outputs": [
    {
     "name": "stdout",
     "output_type": "stream",
     "text": [
      "b'/home/olivia/accMotif/experiments/smallTest'\n"
     ]
    }
   ],
   "source": [
    "accMotifOutput = os.path.join(graphOutputDir, 'accMotifOutput')\n",
    "\n",
    "directory = os.fsencode(graphOutputDir)\n",
    "print(directory)\n",
    "\n",
    "for file in os.listdir(directory):\n",
    "    graphname = os.fsdecode(file)\n",
    "    fileDir = os.path.join(graphOutputDir, graphname)\n",
    "    if graphname.endswith(\".txt\"):\n",
    "        paramFName = graphname[:-4] + 'parameters.txt'\n",
    "        outputName = graphname[:-4] + '.csv'\n",
    "        with open(os.path.join(runfilesDir, paramFName), 'w') as f:\n",
    "            f.write(fileDir + '\\n')\n",
    "            f.write('3' + '\\n')\n",
    "            f.write('24' + '\\n')\n",
    "            f.write('1000' + '\\n')\n",
    "            f.write('1' + '\\n')\n",
    "            f.write(os.path.join(accMotifOutput, outputName) + '\\n')\n",
    "            f.close()\n",
    "    else: \n",
    "        continue"
   ]
  },
  {
   "cell_type": "code",
   "execution_count": null,
   "metadata": {},
   "outputs": [],
   "source": []
  }
 ],
 "metadata": {
  "kernelspec": {
   "display_name": "Python 3",
   "language": "python",
   "name": "python3"
  },
  "language_info": {
   "codemirror_mode": {
    "name": "ipython",
    "version": 3
   },
   "file_extension": ".py",
   "mimetype": "text/x-python",
   "name": "python",
   "nbconvert_exporter": "python",
   "pygments_lexer": "ipython3",
   "version": "3.7.6"
  }
 },
 "nbformat": 4,
 "nbformat_minor": 4
}
